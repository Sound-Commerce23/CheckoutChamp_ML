{
 "cells": [
  {
   "cell_type": "code",
   "execution_count": null,
   "id": "718ac33e-3303-4435-92fa-8e6400dd2431",
   "metadata": {},
   "outputs": [],
   "source": [
    "# bin and campaign consatnt and we want to see which merchant is performing best under these constants.\n",
    "#bin and gateway constant and which campaign performs best."
   ]
  },
  {
   "cell_type": "code",
   "execution_count": 1,
   "id": "f05fa997-f5f4-4bf7-941f-85bf5b005909",
   "metadata": {},
   "outputs": [
    {
     "name": "stdout",
     "output_type": "stream",
     "text": [
      "                        _id  transactionId 3DTxnResult  __v achBankName  \\\n",
      "0  6816c18f10f783ceceb640ab         438514       false    0        None   \n",
      "1  6816c18f10f783ceceb640b5         438526       false    0        None   \n",
      "2  6816c18f10f783ceceb640c6         438550       false    0        None   \n",
      "3  6816c18f10f783ceceb640c8         438554       false    0        None   \n",
      "4  6816c18f10f783ceceb640d0         438567       false    0        None   \n",
      "\n",
      "   actualOrderId affId authCode avsResponse  billingCycleNumber  ...  \\\n",
      "0         292141  None   196536        None                 2.0  ...   \n",
      "1         292151  None     None        None                 6.0  ...   \n",
      "2         292165  None   09109E           Y                 1.0  ...   \n",
      "3         292169  None   02230E           W                 1.0  ...   \n",
      "4         292178  None   018655           U                 3.0  ...   \n",
      "\n",
      "  sourceValue2 sourceValue3 sourceValue4 sourceValue5  state  surcharge  \\\n",
      "0         None         None         None         None     WA       0.00   \n",
      "1         None         None         None         None     WA       0.00   \n",
      "2         None         None         None         None     AB       0.00   \n",
      "3         None         None         None         None     ON       0.00   \n",
      "4         None         None         None         None    NSW       0.00   \n",
      "\n",
      "  totalAmount txnType refundItemId refundProductName  \n",
      "0       29.99    SALE          NaN               NaN  \n",
      "1       29.95    SALE          NaN               NaN  \n",
      "2       89.97    SALE          NaN               NaN  \n",
      "3       89.97    SALE          NaN               NaN  \n",
      "4       29.95    SALE          NaN               NaN  \n",
      "\n",
      "[5 rows x 69 columns]\n"
     ]
    }
   ],
   "source": [
    "from pymongo import MongoClient\n",
    "import pandas as pd\n",
    "import urllib.parse\n",
    "\n",
    "# Your credentials\n",
    "username = \"soundDev\"\n",
    "password = \"e1kemyOwhAYXNidM\"\n",
    "cluster_url = \"atlas-sql-681e2eb821f0c21b8b5e1712-lkspta.a.query.mongodb.net\"\n",
    "database_name = \"checkoutETL\"\n",
    "collection_name = \"transactions\"\n",
    "\n",
    "# URL encode username and password in case of special chars\n",
    "username = urllib.parse.quote_plus(username)\n",
    "password = urllib.parse.quote_plus(password)\n",
    "\n",
    "# Build the MongoDB connection string (note: mongodb:// not mongodb+srv://)\n",
    "mongo_uri = (\n",
    "    f\"mongodb://{username}:{password}@{cluster_url}/{database_name}\"\n",
    "    \"?ssl=true&authSource=admin\"\n",
    ")\n",
    "\n",
    "# Connect to MongoDB\n",
    "client = MongoClient(mongo_uri)\n",
    "\n",
    "# Select DB and collection\n",
    "db = client[database_name]\n",
    "collection = db[collection_name]\n",
    "\n",
    "# Load data into DataFrame (limit to 1000 documents to avoid overload)\n",
    "df = pd.DataFrame(list(collection.find()))\n",
    "\n",
    "# Show first rows\n",
    "print(df.head())\n"
   ]
  },
  {
   "cell_type": "code",
   "execution_count": 6,
   "id": "831b1c17-cfef-40db-9cc4-bc51e4a3c721",
   "metadata": {},
   "outputs": [],
   "source": [
    "# Filter out necessary columns\n",
    "df = df[['campaignName', 'merchant', 'cardBin', 'transactionId', 'responseType']]\n",
    "\n",
    "# Drop nulls if any\n",
    "df = df.dropna()\n",
    "\n",
    "# Remove duplicates if any\n",
    "df = df.drop_duplicates(subset='transactionId')\n",
    "\n",
    "# Create Success Flag\n",
    "df['is_success'] = df['responseType'].eq('SUCCESS').astype(int)\n"
   ]
  },
  {
   "cell_type": "code",
   "execution_count": 7,
   "id": "d0c3f9ce-a675-4a62-a85f-9761effcddf3",
   "metadata": {},
   "outputs": [
    {
     "data": {
      "text/plain": [
       "(122503, 6)"
      ]
     },
     "execution_count": 7,
     "metadata": {},
     "output_type": "execute_result"
    }
   ],
   "source": [
    "df.shape"
   ]
  },
  {
   "cell_type": "code",
   "execution_count": 16,
   "id": "dd904816-9862-4fca-a59a-20b182d1ed03",
   "metadata": {},
   "outputs": [],
   "source": [
    "# BIN + CAMPAIGN COMBO → BEST MERCHANTS"
   ]
  },
  {
   "cell_type": "code",
   "execution_count": 12,
   "id": "0dcf5b54-9b30-4be3-9995-22ef7ba7bef5",
   "metadata": {},
   "outputs": [],
   "source": [
    "# Group by bin + campaign + merchant\n",
    "g1 = df.groupby(['cardBin', 'campaignName', 'merchant']).agg(\n",
    "    total_txns=('transactionId', 'count'),\n",
    "    success_count=('is_success', 'sum')\n",
    ").reset_index()\n",
    "\n",
    "# Filter combos with at least 50 txns and 20 successes\n",
    "g1_filtered = g1[(g1['total_txns'] > 50) & (g1['success_count'] > 20)]\n",
    "\n",
    "# Get top BIN + campaign combinations\n",
    "top_bin_campaign = (\n",
    "    g1_filtered.groupby(['cardBin', 'campaignName'])['total_txns']\n",
    "    .sum().nlargest(10).reset_index()[['cardBin', 'campaignName']]\n",
    ")\n",
    "\n",
    "# Merge to filter only top combos\n",
    "q1_result = pd.merge(top_bin_campaign, g1_filtered, on=['cardBin', 'campaignName'])\n",
    "\n",
    "# Add success rate\n",
    "q1_result['success_rate'] = q1_result['success_count'] / q1_result['total_txns']\n",
    "q1_result = q1_result.sort_values(['cardBin', 'campaignName', 'success_rate'], ascending=[True, True, False])\n"
   ]
  },
  {
   "cell_type": "code",
   "execution_count": 13,
   "id": "d4c22dfc-29be-483d-96e0-1d587f1a4068",
   "metadata": {},
   "outputs": [
    {
     "data": {
      "text/html": [
       "<div>\n",
       "<style scoped>\n",
       "    .dataframe tbody tr th:only-of-type {\n",
       "        vertical-align: middle;\n",
       "    }\n",
       "\n",
       "    .dataframe tbody tr th {\n",
       "        vertical-align: top;\n",
       "    }\n",
       "\n",
       "    .dataframe thead th {\n",
       "        text-align: right;\n",
       "    }\n",
       "</style>\n",
       "<table border=\"1\" class=\"dataframe\">\n",
       "  <thead>\n",
       "    <tr style=\"text-align: right;\">\n",
       "      <th></th>\n",
       "      <th>cardBin</th>\n",
       "      <th>campaignName</th>\n",
       "      <th>merchant</th>\n",
       "      <th>total_txns</th>\n",
       "      <th>success_count</th>\n",
       "      <th>success_rate</th>\n",
       "    </tr>\n",
       "  </thead>\n",
       "  <tbody>\n",
       "    <tr>\n",
       "      <th>0</th>\n",
       "      <td>410039</td>\n",
       "      <td>OptiFuel</td>\n",
       "      <td>EMS Josh (NMI)</td>\n",
       "      <td>194</td>\n",
       "      <td>173</td>\n",
       "      <td>0.891753</td>\n",
       "    </tr>\n",
       "    <tr>\n",
       "      <th>4</th>\n",
       "      <td>410039</td>\n",
       "      <td>OptiFuel</td>\n",
       "      <td>Quantum (NMI)</td>\n",
       "      <td>209</td>\n",
       "      <td>186</td>\n",
       "      <td>0.889952</td>\n",
       "    </tr>\n",
       "    <tr>\n",
       "      <th>1</th>\n",
       "      <td>410039</td>\n",
       "      <td>OptiFuel</td>\n",
       "      <td>NMI (EMS)</td>\n",
       "      <td>68</td>\n",
       "      <td>59</td>\n",
       "      <td>0.867647</td>\n",
       "    </tr>\n",
       "    <tr>\n",
       "      <th>2</th>\n",
       "      <td>410039</td>\n",
       "      <td>OptiFuel</td>\n",
       "      <td>Payarc Josh (NMI)</td>\n",
       "      <td>280</td>\n",
       "      <td>241</td>\n",
       "      <td>0.860714</td>\n",
       "    </tr>\n",
       "    <tr>\n",
       "      <th>5</th>\n",
       "      <td>410039</td>\n",
       "      <td>OptiFuel</td>\n",
       "      <td>Seamless Chex (Auth.net)</td>\n",
       "      <td>122</td>\n",
       "      <td>94</td>\n",
       "      <td>0.770492</td>\n",
       "    </tr>\n",
       "    <tr>\n",
       "      <th>3</th>\n",
       "      <td>410039</td>\n",
       "      <td>OptiFuel</td>\n",
       "      <td>Phoenix (NMI)</td>\n",
       "      <td>111</td>\n",
       "      <td>75</td>\n",
       "      <td>0.675676</td>\n",
       "    </tr>\n",
       "    <tr>\n",
       "      <th>33</th>\n",
       "      <td>426684</td>\n",
       "      <td>OptiFuel</td>\n",
       "      <td>EMS Josh (NMI)</td>\n",
       "      <td>132</td>\n",
       "      <td>70</td>\n",
       "      <td>0.530303</td>\n",
       "    </tr>\n",
       "    <tr>\n",
       "      <th>35</th>\n",
       "      <td>426684</td>\n",
       "      <td>OptiFuel</td>\n",
       "      <td>Phoenix (NMI)</td>\n",
       "      <td>54</td>\n",
       "      <td>23</td>\n",
       "      <td>0.425926</td>\n",
       "    </tr>\n",
       "    <tr>\n",
       "      <th>36</th>\n",
       "      <td>426684</td>\n",
       "      <td>OptiFuel</td>\n",
       "      <td>Quantum (NMI)</td>\n",
       "      <td>71</td>\n",
       "      <td>30</td>\n",
       "      <td>0.422535</td>\n",
       "    </tr>\n",
       "    <tr>\n",
       "      <th>34</th>\n",
       "      <td>426684</td>\n",
       "      <td>OptiFuel</td>\n",
       "      <td>Payarc Josh (NMI)</td>\n",
       "      <td>127</td>\n",
       "      <td>36</td>\n",
       "      <td>0.283465</td>\n",
       "    </tr>\n",
       "    <tr>\n",
       "      <th>29</th>\n",
       "      <td>440066</td>\n",
       "      <td>OptiFuel</td>\n",
       "      <td>EMS Josh (NMI)</td>\n",
       "      <td>147</td>\n",
       "      <td>108</td>\n",
       "      <td>0.734694</td>\n",
       "    </tr>\n",
       "    <tr>\n",
       "      <th>30</th>\n",
       "      <td>440066</td>\n",
       "      <td>OptiFuel</td>\n",
       "      <td>Payarc Josh (NMI)</td>\n",
       "      <td>116</td>\n",
       "      <td>73</td>\n",
       "      <td>0.629310</td>\n",
       "    </tr>\n",
       "    <tr>\n",
       "      <th>31</th>\n",
       "      <td>440066</td>\n",
       "      <td>OptiFuel</td>\n",
       "      <td>Quantum (NMI)</td>\n",
       "      <td>60</td>\n",
       "      <td>28</td>\n",
       "      <td>0.466667</td>\n",
       "    </tr>\n",
       "    <tr>\n",
       "      <th>32</th>\n",
       "      <td>440066</td>\n",
       "      <td>OptiFuel</td>\n",
       "      <td>Seamless Chex (Auth.net)</td>\n",
       "      <td>69</td>\n",
       "      <td>25</td>\n",
       "      <td>0.362319</td>\n",
       "    </tr>\n",
       "    <tr>\n",
       "      <th>38</th>\n",
       "      <td>446291</td>\n",
       "      <td>BTE Hearing CIC Pro (Native) - UK</td>\n",
       "      <td>Adyen US</td>\n",
       "      <td>193</td>\n",
       "      <td>82</td>\n",
       "      <td>0.424870</td>\n",
       "    </tr>\n",
       "    <tr>\n",
       "      <th>37</th>\n",
       "      <td>446291</td>\n",
       "      <td>BTE Hearing CIC Pro (Native) - UK</td>\n",
       "      <td>ADYEN AU</td>\n",
       "      <td>140</td>\n",
       "      <td>54</td>\n",
       "      <td>0.385714</td>\n",
       "    </tr>\n",
       "    <tr>\n",
       "      <th>7</th>\n",
       "      <td>517805</td>\n",
       "      <td>OptiFuel</td>\n",
       "      <td>NMI (EMS)</td>\n",
       "      <td>62</td>\n",
       "      <td>25</td>\n",
       "      <td>0.403226</td>\n",
       "    </tr>\n",
       "    <tr>\n",
       "      <th>6</th>\n",
       "      <td>517805</td>\n",
       "      <td>OptiFuel</td>\n",
       "      <td>EMS Josh (NMI)</td>\n",
       "      <td>161</td>\n",
       "      <td>54</td>\n",
       "      <td>0.335404</td>\n",
       "    </tr>\n",
       "    <tr>\n",
       "      <th>8</th>\n",
       "      <td>517805</td>\n",
       "      <td>OptiFuel</td>\n",
       "      <td>Payarc Josh (NMI)</td>\n",
       "      <td>258</td>\n",
       "      <td>76</td>\n",
       "      <td>0.294574</td>\n",
       "    </tr>\n",
       "    <tr>\n",
       "      <th>9</th>\n",
       "      <td>517805</td>\n",
       "      <td>OptiFuel</td>\n",
       "      <td>Phoenix (NMI)</td>\n",
       "      <td>94</td>\n",
       "      <td>26</td>\n",
       "      <td>0.276596</td>\n",
       "    </tr>\n",
       "    <tr>\n",
       "      <th>10</th>\n",
       "      <td>517805</td>\n",
       "      <td>OptiFuel</td>\n",
       "      <td>Quantum (NMI)</td>\n",
       "      <td>126</td>\n",
       "      <td>24</td>\n",
       "      <td>0.190476</td>\n",
       "    </tr>\n",
       "    <tr>\n",
       "      <th>20</th>\n",
       "      <td>535666</td>\n",
       "      <td>BTE Hearing CIC Pro (Native) - UK</td>\n",
       "      <td>ADYEN AU</td>\n",
       "      <td>177</td>\n",
       "      <td>103</td>\n",
       "      <td>0.581921</td>\n",
       "    </tr>\n",
       "    <tr>\n",
       "      <th>21</th>\n",
       "      <td>535666</td>\n",
       "      <td>BTE Hearing CIC Pro (Native) - UK</td>\n",
       "      <td>Adyen US</td>\n",
       "      <td>256</td>\n",
       "      <td>62</td>\n",
       "      <td>0.242188</td>\n",
       "    </tr>\n",
       "    <tr>\n",
       "      <th>22</th>\n",
       "      <td>537410</td>\n",
       "      <td>BTE Hearing CIC Pro (Native) - UK</td>\n",
       "      <td>ADYEN AU</td>\n",
       "      <td>181</td>\n",
       "      <td>108</td>\n",
       "      <td>0.596685</td>\n",
       "    </tr>\n",
       "    <tr>\n",
       "      <th>23</th>\n",
       "      <td>537410</td>\n",
       "      <td>BTE Hearing CIC Pro (Native) - UK</td>\n",
       "      <td>Adyen US</td>\n",
       "      <td>247</td>\n",
       "      <td>141</td>\n",
       "      <td>0.570850</td>\n",
       "    </tr>\n",
       "    <tr>\n",
       "      <th>16</th>\n",
       "      <td>542418</td>\n",
       "      <td>OptiFuel</td>\n",
       "      <td>EMS Josh (NMI)</td>\n",
       "      <td>80</td>\n",
       "      <td>71</td>\n",
       "      <td>0.887500</td>\n",
       "    </tr>\n",
       "    <tr>\n",
       "      <th>18</th>\n",
       "      <td>542418</td>\n",
       "      <td>OptiFuel</td>\n",
       "      <td>Quantum (NMI)</td>\n",
       "      <td>105</td>\n",
       "      <td>93</td>\n",
       "      <td>0.885714</td>\n",
       "    </tr>\n",
       "    <tr>\n",
       "      <th>17</th>\n",
       "      <td>542418</td>\n",
       "      <td>OptiFuel</td>\n",
       "      <td>Payarc Josh (NMI)</td>\n",
       "      <td>194</td>\n",
       "      <td>165</td>\n",
       "      <td>0.850515</td>\n",
       "    </tr>\n",
       "    <tr>\n",
       "      <th>19</th>\n",
       "      <td>542418</td>\n",
       "      <td>OptiFuel</td>\n",
       "      <td>Seamless Chex (Auth.net)</td>\n",
       "      <td>106</td>\n",
       "      <td>76</td>\n",
       "      <td>0.716981</td>\n",
       "    </tr>\n",
       "    <tr>\n",
       "      <th>11</th>\n",
       "      <td>601100</td>\n",
       "      <td>OptiFuel</td>\n",
       "      <td>EMS Josh (NMI)</td>\n",
       "      <td>147</td>\n",
       "      <td>74</td>\n",
       "      <td>0.503401</td>\n",
       "    </tr>\n",
       "    <tr>\n",
       "      <th>14</th>\n",
       "      <td>601100</td>\n",
       "      <td>OptiFuel</td>\n",
       "      <td>Quantum (NMI)</td>\n",
       "      <td>69</td>\n",
       "      <td>33</td>\n",
       "      <td>0.478261</td>\n",
       "    </tr>\n",
       "    <tr>\n",
       "      <th>12</th>\n",
       "      <td>601100</td>\n",
       "      <td>OptiFuel</td>\n",
       "      <td>Payarc Josh (NMI)</td>\n",
       "      <td>199</td>\n",
       "      <td>90</td>\n",
       "      <td>0.452261</td>\n",
       "    </tr>\n",
       "    <tr>\n",
       "      <th>13</th>\n",
       "      <td>601100</td>\n",
       "      <td>OptiFuel</td>\n",
       "      <td>Phoenix (NMI)</td>\n",
       "      <td>71</td>\n",
       "      <td>26</td>\n",
       "      <td>0.366197</td>\n",
       "    </tr>\n",
       "    <tr>\n",
       "      <th>15</th>\n",
       "      <td>601100</td>\n",
       "      <td>OptiFuel</td>\n",
       "      <td>Seamless Chex (Auth.net)</td>\n",
       "      <td>108</td>\n",
       "      <td>34</td>\n",
       "      <td>0.314815</td>\n",
       "    </tr>\n",
       "    <tr>\n",
       "      <th>27</th>\n",
       "      <td>601101</td>\n",
       "      <td>OptiFuel</td>\n",
       "      <td>Quantum (NMI)</td>\n",
       "      <td>67</td>\n",
       "      <td>35</td>\n",
       "      <td>0.522388</td>\n",
       "    </tr>\n",
       "    <tr>\n",
       "      <th>24</th>\n",
       "      <td>601101</td>\n",
       "      <td>OptiFuel</td>\n",
       "      <td>EMS Josh (NMI)</td>\n",
       "      <td>100</td>\n",
       "      <td>51</td>\n",
       "      <td>0.510000</td>\n",
       "    </tr>\n",
       "    <tr>\n",
       "      <th>26</th>\n",
       "      <td>601101</td>\n",
       "      <td>OptiFuel</td>\n",
       "      <td>Phoenix (NMI)</td>\n",
       "      <td>70</td>\n",
       "      <td>35</td>\n",
       "      <td>0.500000</td>\n",
       "    </tr>\n",
       "    <tr>\n",
       "      <th>28</th>\n",
       "      <td>601101</td>\n",
       "      <td>OptiFuel</td>\n",
       "      <td>Seamless Chex (Auth.net)</td>\n",
       "      <td>56</td>\n",
       "      <td>23</td>\n",
       "      <td>0.410714</td>\n",
       "    </tr>\n",
       "    <tr>\n",
       "      <th>25</th>\n",
       "      <td>601101</td>\n",
       "      <td>OptiFuel</td>\n",
       "      <td>Payarc Josh (NMI)</td>\n",
       "      <td>118</td>\n",
       "      <td>41</td>\n",
       "      <td>0.347458</td>\n",
       "    </tr>\n",
       "  </tbody>\n",
       "</table>\n",
       "</div>"
      ],
      "text/plain": [
       "   cardBin                       campaignName                  merchant  \\\n",
       "0   410039                           OptiFuel            EMS Josh (NMI)   \n",
       "4   410039                           OptiFuel             Quantum (NMI)   \n",
       "1   410039                           OptiFuel                 NMI (EMS)   \n",
       "2   410039                           OptiFuel         Payarc Josh (NMI)   \n",
       "5   410039                           OptiFuel  Seamless Chex (Auth.net)   \n",
       "3   410039                           OptiFuel             Phoenix (NMI)   \n",
       "33  426684                           OptiFuel            EMS Josh (NMI)   \n",
       "35  426684                           OptiFuel             Phoenix (NMI)   \n",
       "36  426684                           OptiFuel             Quantum (NMI)   \n",
       "34  426684                           OptiFuel         Payarc Josh (NMI)   \n",
       "29  440066                           OptiFuel            EMS Josh (NMI)   \n",
       "30  440066                           OptiFuel         Payarc Josh (NMI)   \n",
       "31  440066                           OptiFuel             Quantum (NMI)   \n",
       "32  440066                           OptiFuel  Seamless Chex (Auth.net)   \n",
       "38  446291  BTE Hearing CIC Pro (Native) - UK                  Adyen US   \n",
       "37  446291  BTE Hearing CIC Pro (Native) - UK                  ADYEN AU   \n",
       "7   517805                           OptiFuel                 NMI (EMS)   \n",
       "6   517805                           OptiFuel            EMS Josh (NMI)   \n",
       "8   517805                           OptiFuel         Payarc Josh (NMI)   \n",
       "9   517805                           OptiFuel             Phoenix (NMI)   \n",
       "10  517805                           OptiFuel             Quantum (NMI)   \n",
       "20  535666  BTE Hearing CIC Pro (Native) - UK                  ADYEN AU   \n",
       "21  535666  BTE Hearing CIC Pro (Native) - UK                  Adyen US   \n",
       "22  537410  BTE Hearing CIC Pro (Native) - UK                  ADYEN AU   \n",
       "23  537410  BTE Hearing CIC Pro (Native) - UK                  Adyen US   \n",
       "16  542418                           OptiFuel            EMS Josh (NMI)   \n",
       "18  542418                           OptiFuel             Quantum (NMI)   \n",
       "17  542418                           OptiFuel         Payarc Josh (NMI)   \n",
       "19  542418                           OptiFuel  Seamless Chex (Auth.net)   \n",
       "11  601100                           OptiFuel            EMS Josh (NMI)   \n",
       "14  601100                           OptiFuel             Quantum (NMI)   \n",
       "12  601100                           OptiFuel         Payarc Josh (NMI)   \n",
       "13  601100                           OptiFuel             Phoenix (NMI)   \n",
       "15  601100                           OptiFuel  Seamless Chex (Auth.net)   \n",
       "27  601101                           OptiFuel             Quantum (NMI)   \n",
       "24  601101                           OptiFuel            EMS Josh (NMI)   \n",
       "26  601101                           OptiFuel             Phoenix (NMI)   \n",
       "28  601101                           OptiFuel  Seamless Chex (Auth.net)   \n",
       "25  601101                           OptiFuel         Payarc Josh (NMI)   \n",
       "\n",
       "    total_txns  success_count  success_rate  \n",
       "0          194            173      0.891753  \n",
       "4          209            186      0.889952  \n",
       "1           68             59      0.867647  \n",
       "2          280            241      0.860714  \n",
       "5          122             94      0.770492  \n",
       "3          111             75      0.675676  \n",
       "33         132             70      0.530303  \n",
       "35          54             23      0.425926  \n",
       "36          71             30      0.422535  \n",
       "34         127             36      0.283465  \n",
       "29         147            108      0.734694  \n",
       "30         116             73      0.629310  \n",
       "31          60             28      0.466667  \n",
       "32          69             25      0.362319  \n",
       "38         193             82      0.424870  \n",
       "37         140             54      0.385714  \n",
       "7           62             25      0.403226  \n",
       "6          161             54      0.335404  \n",
       "8          258             76      0.294574  \n",
       "9           94             26      0.276596  \n",
       "10         126             24      0.190476  \n",
       "20         177            103      0.581921  \n",
       "21         256             62      0.242188  \n",
       "22         181            108      0.596685  \n",
       "23         247            141      0.570850  \n",
       "16          80             71      0.887500  \n",
       "18         105             93      0.885714  \n",
       "17         194            165      0.850515  \n",
       "19         106             76      0.716981  \n",
       "11         147             74      0.503401  \n",
       "14          69             33      0.478261  \n",
       "12         199             90      0.452261  \n",
       "13          71             26      0.366197  \n",
       "15         108             34      0.314815  \n",
       "27          67             35      0.522388  \n",
       "24         100             51      0.510000  \n",
       "26          70             35      0.500000  \n",
       "28          56             23      0.410714  \n",
       "25         118             41      0.347458  "
      ]
     },
     "execution_count": 13,
     "metadata": {},
     "output_type": "execute_result"
    }
   ],
   "source": [
    "q1_result"
   ]
  },
  {
   "cell_type": "code",
   "execution_count": 17,
   "id": "f20a84f8-7bb4-4cbc-9b29-9efa0ec7c48b",
   "metadata": {},
   "outputs": [],
   "source": [
    "#BIN + MERCHANT COMBO → BEST CAMPAIGNS"
   ]
  },
  {
   "cell_type": "code",
   "execution_count": 20,
   "id": "b1f32ff7-e6cf-4e56-9c6b-f9f62ff649c1",
   "metadata": {},
   "outputs": [],
   "source": [
    "# Group by bin + merchant + campaign\n",
    "g2 = df.groupby(['cardBin', 'merchant', 'campaignName']).agg(\n",
    "    total_txns=('transactionId', 'count'),\n",
    "    success_count=('is_success', 'sum')\n",
    ").reset_index()\n",
    "\n",
    "# Filter combos with at least 50 txns and 20 successes\n",
    "g2_filtered = g2[(g2['total_txns'] > 50) & (g2['success_count'] > 20)]\n",
    "\n",
    "# Get top BIN + merchant combinations\n",
    "top_bin_merchant = (\n",
    "    g2_filtered.groupby(['cardBin', 'merchant'])['total_txns']\n",
    "    .sum().nlargest(15).reset_index()[['cardBin', 'merchant']]\n",
    ")\n",
    "\n",
    "# Merge to filter only top combos\n",
    "q2_result = pd.merge(top_bin_merchant, g2_filtered, on=['cardBin', 'merchant'])\n",
    "\n",
    "# Add success rate\n",
    "q2_result['success_rate'] = q2_result['success_count'] / q2_result['total_txns']\n",
    "q2_result = q2_result.sort_values(['cardBin', 'merchant', 'success_rate'], ascending=[True, True, False])\n"
   ]
  },
  {
   "cell_type": "code",
   "execution_count": 21,
   "id": "cafdc6bb-7746-45de-9a9a-cdf39ff6b955",
   "metadata": {},
   "outputs": [
    {
     "data": {
      "text/html": [
       "<div>\n",
       "<style scoped>\n",
       "    .dataframe tbody tr th:only-of-type {\n",
       "        vertical-align: middle;\n",
       "    }\n",
       "\n",
       "    .dataframe tbody tr th {\n",
       "        vertical-align: top;\n",
       "    }\n",
       "\n",
       "    .dataframe thead th {\n",
       "        text-align: right;\n",
       "    }\n",
       "</style>\n",
       "<table border=\"1\" class=\"dataframe\">\n",
       "  <thead>\n",
       "    <tr style=\"text-align: right;\">\n",
       "      <th></th>\n",
       "      <th>cardBin</th>\n",
       "      <th>merchant</th>\n",
       "      <th>campaignName</th>\n",
       "      <th>total_txns</th>\n",
       "      <th>success_count</th>\n",
       "      <th>success_rate</th>\n",
       "    </tr>\n",
       "  </thead>\n",
       "  <tbody>\n",
       "    <tr>\n",
       "      <th>6</th>\n",
       "      <td>410039</td>\n",
       "      <td>EMS Josh (NMI)</td>\n",
       "      <td>MozzGuard</td>\n",
       "      <td>74</td>\n",
       "      <td>66</td>\n",
       "      <td>0.891892</td>\n",
       "    </tr>\n",
       "    <tr>\n",
       "      <th>7</th>\n",
       "      <td>410039</td>\n",
       "      <td>EMS Josh (NMI)</td>\n",
       "      <td>OptiFuel</td>\n",
       "      <td>194</td>\n",
       "      <td>173</td>\n",
       "      <td>0.891753</td>\n",
       "    </tr>\n",
       "    <tr>\n",
       "      <th>5</th>\n",
       "      <td>410039</td>\n",
       "      <td>EMS Josh (NMI)</td>\n",
       "      <td>BTE Hearing CIC Pro (Native) Original</td>\n",
       "      <td>139</td>\n",
       "      <td>121</td>\n",
       "      <td>0.870504</td>\n",
       "    </tr>\n",
       "    <tr>\n",
       "      <th>22</th>\n",
       "      <td>410039</td>\n",
       "      <td>Payarc Josh (NMI)</td>\n",
       "      <td>OptiFuel</td>\n",
       "      <td>280</td>\n",
       "      <td>241</td>\n",
       "      <td>0.860714</td>\n",
       "    </tr>\n",
       "    <tr>\n",
       "      <th>12</th>\n",
       "      <td>410039</td>\n",
       "      <td>Quantum (NMI)</td>\n",
       "      <td>BTE Hearing CIC Pro (Native) Original</td>\n",
       "      <td>89</td>\n",
       "      <td>82</td>\n",
       "      <td>0.921348</td>\n",
       "    </tr>\n",
       "    <tr>\n",
       "      <th>13</th>\n",
       "      <td>410039</td>\n",
       "      <td>Quantum (NMI)</td>\n",
       "      <td>OptiFuel</td>\n",
       "      <td>209</td>\n",
       "      <td>186</td>\n",
       "      <td>0.889952</td>\n",
       "    </tr>\n",
       "    <tr>\n",
       "      <th>11</th>\n",
       "      <td>410039</td>\n",
       "      <td>Quantum (NMI)</td>\n",
       "      <td>BTE Hearing CIC Pro (Facebook)</td>\n",
       "      <td>70</td>\n",
       "      <td>60</td>\n",
       "      <td>0.857143</td>\n",
       "    </tr>\n",
       "    <tr>\n",
       "      <th>2</th>\n",
       "      <td>410039</td>\n",
       "      <td>Seamless Chex (Auth.net)</td>\n",
       "      <td>MozzGuard</td>\n",
       "      <td>105</td>\n",
       "      <td>103</td>\n",
       "      <td>0.980952</td>\n",
       "    </tr>\n",
       "    <tr>\n",
       "      <th>4</th>\n",
       "      <td>410039</td>\n",
       "      <td>Seamless Chex (Auth.net)</td>\n",
       "      <td>Ozzi Heat</td>\n",
       "      <td>196</td>\n",
       "      <td>157</td>\n",
       "      <td>0.801020</td>\n",
       "    </tr>\n",
       "    <tr>\n",
       "      <th>3</th>\n",
       "      <td>410039</td>\n",
       "      <td>Seamless Chex (Auth.net)</td>\n",
       "      <td>OptiFuel</td>\n",
       "      <td>122</td>\n",
       "      <td>94</td>\n",
       "      <td>0.770492</td>\n",
       "    </tr>\n",
       "    <tr>\n",
       "      <th>27</th>\n",
       "      <td>440066</td>\n",
       "      <td>EMS Josh (NMI)</td>\n",
       "      <td>OptiFuel</td>\n",
       "      <td>147</td>\n",
       "      <td>108</td>\n",
       "      <td>0.734694</td>\n",
       "    </tr>\n",
       "    <tr>\n",
       "      <th>26</th>\n",
       "      <td>440066</td>\n",
       "      <td>EMS Josh (NMI)</td>\n",
       "      <td>BTE Hearing CIC Pro (Native) Original</td>\n",
       "      <td>112</td>\n",
       "      <td>74</td>\n",
       "      <td>0.660714</td>\n",
       "    </tr>\n",
       "    <tr>\n",
       "      <th>24</th>\n",
       "      <td>462239</td>\n",
       "      <td>ADYEN AU</td>\n",
       "      <td>BTE Hearing CIC Pro (Native) - AU</td>\n",
       "      <td>78</td>\n",
       "      <td>55</td>\n",
       "      <td>0.705128</td>\n",
       "    </tr>\n",
       "    <tr>\n",
       "      <th>25</th>\n",
       "      <td>462239</td>\n",
       "      <td>ADYEN AU</td>\n",
       "      <td>OptiFuel | AU</td>\n",
       "      <td>194</td>\n",
       "      <td>131</td>\n",
       "      <td>0.675258</td>\n",
       "    </tr>\n",
       "    <tr>\n",
       "      <th>20</th>\n",
       "      <td>516361</td>\n",
       "      <td>ADYEN AU</td>\n",
       "      <td>BTE Hearing CIC Pro (Native) - AU</td>\n",
       "      <td>110</td>\n",
       "      <td>94</td>\n",
       "      <td>0.854545</td>\n",
       "    </tr>\n",
       "    <tr>\n",
       "      <th>21</th>\n",
       "      <td>516361</td>\n",
       "      <td>ADYEN AU</td>\n",
       "      <td>OptiFuel | AU</td>\n",
       "      <td>217</td>\n",
       "      <td>159</td>\n",
       "      <td>0.732719</td>\n",
       "    </tr>\n",
       "    <tr>\n",
       "      <th>28</th>\n",
       "      <td>517805</td>\n",
       "      <td>Payarc Josh (NMI)</td>\n",
       "      <td>OptiFuel</td>\n",
       "      <td>258</td>\n",
       "      <td>76</td>\n",
       "      <td>0.294574</td>\n",
       "    </tr>\n",
       "    <tr>\n",
       "      <th>0</th>\n",
       "      <td>521729</td>\n",
       "      <td>ADYEN AU</td>\n",
       "      <td>BTE Hearing CIC Pro (Native) - AU</td>\n",
       "      <td>137</td>\n",
       "      <td>129</td>\n",
       "      <td>0.941606</td>\n",
       "    </tr>\n",
       "    <tr>\n",
       "      <th>1</th>\n",
       "      <td>521729</td>\n",
       "      <td>ADYEN AU</td>\n",
       "      <td>OptiFuel | AU</td>\n",
       "      <td>295</td>\n",
       "      <td>242</td>\n",
       "      <td>0.820339</td>\n",
       "    </tr>\n",
       "    <tr>\n",
       "      <th>23</th>\n",
       "      <td>521729</td>\n",
       "      <td>Seamless Chex (Auth.net)</td>\n",
       "      <td>MozzGuard</td>\n",
       "      <td>278</td>\n",
       "      <td>222</td>\n",
       "      <td>0.798561</td>\n",
       "    </tr>\n",
       "    <tr>\n",
       "      <th>29</th>\n",
       "      <td>535666</td>\n",
       "      <td>Adyen US</td>\n",
       "      <td>BTE Hearing CIC Pro (Native) - UK</td>\n",
       "      <td>256</td>\n",
       "      <td>62</td>\n",
       "      <td>0.242188</td>\n",
       "    </tr>\n",
       "    <tr>\n",
       "      <th>19</th>\n",
       "      <td>537410</td>\n",
       "      <td>ADYEN AU</td>\n",
       "      <td>Fungus Funnel - UK</td>\n",
       "      <td>101</td>\n",
       "      <td>75</td>\n",
       "      <td>0.742574</td>\n",
       "    </tr>\n",
       "    <tr>\n",
       "      <th>18</th>\n",
       "      <td>537410</td>\n",
       "      <td>ADYEN AU</td>\n",
       "      <td>BTE Hearing CIC Pro - UK</td>\n",
       "      <td>60</td>\n",
       "      <td>43</td>\n",
       "      <td>0.716667</td>\n",
       "    </tr>\n",
       "    <tr>\n",
       "      <th>17</th>\n",
       "      <td>537410</td>\n",
       "      <td>ADYEN AU</td>\n",
       "      <td>BTE Hearing CIC Pro (Native) - UK</td>\n",
       "      <td>181</td>\n",
       "      <td>108</td>\n",
       "      <td>0.596685</td>\n",
       "    </tr>\n",
       "    <tr>\n",
       "      <th>30</th>\n",
       "      <td>537410</td>\n",
       "      <td>Adyen US</td>\n",
       "      <td>BTE Hearing CIC Pro (Native) - UK</td>\n",
       "      <td>247</td>\n",
       "      <td>141</td>\n",
       "      <td>0.570850</td>\n",
       "    </tr>\n",
       "    <tr>\n",
       "      <th>8</th>\n",
       "      <td>542418</td>\n",
       "      <td>Seamless Chex (Auth.net)</td>\n",
       "      <td>MozzGuard</td>\n",
       "      <td>126</td>\n",
       "      <td>126</td>\n",
       "      <td>1.000000</td>\n",
       "    </tr>\n",
       "    <tr>\n",
       "      <th>9</th>\n",
       "      <td>542418</td>\n",
       "      <td>Seamless Chex (Auth.net)</td>\n",
       "      <td>OptiFuel</td>\n",
       "      <td>106</td>\n",
       "      <td>76</td>\n",
       "      <td>0.716981</td>\n",
       "    </tr>\n",
       "    <tr>\n",
       "      <th>10</th>\n",
       "      <td>542418</td>\n",
       "      <td>Seamless Chex (Auth.net)</td>\n",
       "      <td>Ozzi Heat</td>\n",
       "      <td>138</td>\n",
       "      <td>82</td>\n",
       "      <td>0.594203</td>\n",
       "    </tr>\n",
       "    <tr>\n",
       "      <th>14</th>\n",
       "      <td>601100</td>\n",
       "      <td>Seamless Chex (Auth.net)</td>\n",
       "      <td>MozzGuard</td>\n",
       "      <td>97</td>\n",
       "      <td>86</td>\n",
       "      <td>0.886598</td>\n",
       "    </tr>\n",
       "    <tr>\n",
       "      <th>15</th>\n",
       "      <td>601100</td>\n",
       "      <td>Seamless Chex (Auth.net)</td>\n",
       "      <td>OptiFuel</td>\n",
       "      <td>108</td>\n",
       "      <td>34</td>\n",
       "      <td>0.314815</td>\n",
       "    </tr>\n",
       "    <tr>\n",
       "      <th>16</th>\n",
       "      <td>601100</td>\n",
       "      <td>Seamless Chex (Auth.net)</td>\n",
       "      <td>Ozzi Heat</td>\n",
       "      <td>146</td>\n",
       "      <td>44</td>\n",
       "      <td>0.301370</td>\n",
       "    </tr>\n",
       "  </tbody>\n",
       "</table>\n",
       "</div>"
      ],
      "text/plain": [
       "   cardBin                  merchant                           campaignName  \\\n",
       "6   410039            EMS Josh (NMI)                              MozzGuard   \n",
       "7   410039            EMS Josh (NMI)                               OptiFuel   \n",
       "5   410039            EMS Josh (NMI)  BTE Hearing CIC Pro (Native) Original   \n",
       "22  410039         Payarc Josh (NMI)                               OptiFuel   \n",
       "12  410039             Quantum (NMI)  BTE Hearing CIC Pro (Native) Original   \n",
       "13  410039             Quantum (NMI)                               OptiFuel   \n",
       "11  410039             Quantum (NMI)         BTE Hearing CIC Pro (Facebook)   \n",
       "2   410039  Seamless Chex (Auth.net)                              MozzGuard   \n",
       "4   410039  Seamless Chex (Auth.net)                              Ozzi Heat   \n",
       "3   410039  Seamless Chex (Auth.net)                               OptiFuel   \n",
       "27  440066            EMS Josh (NMI)                               OptiFuel   \n",
       "26  440066            EMS Josh (NMI)  BTE Hearing CIC Pro (Native) Original   \n",
       "24  462239                  ADYEN AU      BTE Hearing CIC Pro (Native) - AU   \n",
       "25  462239                  ADYEN AU                          OptiFuel | AU   \n",
       "20  516361                  ADYEN AU      BTE Hearing CIC Pro (Native) - AU   \n",
       "21  516361                  ADYEN AU                          OptiFuel | AU   \n",
       "28  517805         Payarc Josh (NMI)                               OptiFuel   \n",
       "0   521729                  ADYEN AU      BTE Hearing CIC Pro (Native) - AU   \n",
       "1   521729                  ADYEN AU                          OptiFuel | AU   \n",
       "23  521729  Seamless Chex (Auth.net)                              MozzGuard   \n",
       "29  535666                  Adyen US      BTE Hearing CIC Pro (Native) - UK   \n",
       "19  537410                  ADYEN AU                     Fungus Funnel - UK   \n",
       "18  537410                  ADYEN AU               BTE Hearing CIC Pro - UK   \n",
       "17  537410                  ADYEN AU      BTE Hearing CIC Pro (Native) - UK   \n",
       "30  537410                  Adyen US      BTE Hearing CIC Pro (Native) - UK   \n",
       "8   542418  Seamless Chex (Auth.net)                              MozzGuard   \n",
       "9   542418  Seamless Chex (Auth.net)                               OptiFuel   \n",
       "10  542418  Seamless Chex (Auth.net)                              Ozzi Heat   \n",
       "14  601100  Seamless Chex (Auth.net)                              MozzGuard   \n",
       "15  601100  Seamless Chex (Auth.net)                               OptiFuel   \n",
       "16  601100  Seamless Chex (Auth.net)                              Ozzi Heat   \n",
       "\n",
       "    total_txns  success_count  success_rate  \n",
       "6           74             66      0.891892  \n",
       "7          194            173      0.891753  \n",
       "5          139            121      0.870504  \n",
       "22         280            241      0.860714  \n",
       "12          89             82      0.921348  \n",
       "13         209            186      0.889952  \n",
       "11          70             60      0.857143  \n",
       "2          105            103      0.980952  \n",
       "4          196            157      0.801020  \n",
       "3          122             94      0.770492  \n",
       "27         147            108      0.734694  \n",
       "26         112             74      0.660714  \n",
       "24          78             55      0.705128  \n",
       "25         194            131      0.675258  \n",
       "20         110             94      0.854545  \n",
       "21         217            159      0.732719  \n",
       "28         258             76      0.294574  \n",
       "0          137            129      0.941606  \n",
       "1          295            242      0.820339  \n",
       "23         278            222      0.798561  \n",
       "29         256             62      0.242188  \n",
       "19         101             75      0.742574  \n",
       "18          60             43      0.716667  \n",
       "17         181            108      0.596685  \n",
       "30         247            141      0.570850  \n",
       "8          126            126      1.000000  \n",
       "9          106             76      0.716981  \n",
       "10         138             82      0.594203  \n",
       "14          97             86      0.886598  \n",
       "15         108             34      0.314815  \n",
       "16         146             44      0.301370  "
      ]
     },
     "execution_count": 21,
     "metadata": {},
     "output_type": "execute_result"
    }
   ],
   "source": [
    "q2_result"
   ]
  },
  {
   "cell_type": "code",
   "execution_count": 22,
   "id": "c3785d1a-cfc7-4416-a10b-d7b1427b8da5",
   "metadata": {},
   "outputs": [
    {
     "name": "stdout",
     "output_type": "stream",
     "text": [
      "              precision    recall  f1-score   support\n",
      "\n",
      "           0       0.61      0.49      0.54     14481\n",
      "           1       0.61      0.72      0.66     16145\n",
      "\n",
      "    accuracy                           0.61     30626\n",
      "   macro avg       0.61      0.60      0.60     30626\n",
      "weighted avg       0.61      0.61      0.60     30626\n",
      "\n"
     ]
    }
   ],
   "source": [
    "from sklearn.preprocessing import LabelEncoder\n",
    "from sklearn.model_selection import train_test_split\n",
    "from sklearn.tree import DecisionTreeClassifier\n",
    "from sklearn.metrics import classification_report\n",
    "\n",
    "# Encode categorical columns\n",
    "df_ml = df.copy()\n",
    "for col in ['merchant', 'campaignName', 'cardBin']:\n",
    "    df_ml[col] = LabelEncoder().fit_transform(df_ml[col])\n",
    "\n",
    "# Prepare X and y\n",
    "X = df_ml[['merchant', 'campaignName', 'cardBin']]\n",
    "y = df_ml['is_success']\n",
    "\n",
    "# Train-test split\n",
    "X_train, X_test, y_train, y_test = train_test_split(X, y, stratify=y, random_state=42)\n",
    "\n",
    "# Fit a simple tree model\n",
    "model = DecisionTreeClassifier(max_depth=4, random_state=42)\n",
    "model.fit(X_train, y_train)\n",
    "\n",
    "# Evaluate\n",
    "y_pred = model.predict(X_test)\n",
    "print(classification_report(y_test, y_pred))\n"
   ]
  },
  {
   "cell_type": "code",
   "execution_count": 23,
   "id": "0be42751-ea5d-4df4-8236-1496e027d63c",
   "metadata": {},
   "outputs": [
    {
     "data": {
      "text/html": [
       "<div>\n",
       "<style scoped>\n",
       "    .dataframe tbody tr th:only-of-type {\n",
       "        vertical-align: middle;\n",
       "    }\n",
       "\n",
       "    .dataframe tbody tr th {\n",
       "        vertical-align: top;\n",
       "    }\n",
       "\n",
       "    .dataframe thead th {\n",
       "        text-align: right;\n",
       "    }\n",
       "</style>\n",
       "<table border=\"1\" class=\"dataframe\">\n",
       "  <thead>\n",
       "    <tr style=\"text-align: right;\">\n",
       "      <th></th>\n",
       "      <th>cardBin</th>\n",
       "      <th>campaignName</th>\n",
       "      <th>merchant</th>\n",
       "      <th>total_txns</th>\n",
       "      <th>success_count</th>\n",
       "      <th>success_rate</th>\n",
       "    </tr>\n",
       "  </thead>\n",
       "  <tbody>\n",
       "    <tr>\n",
       "      <th>0</th>\n",
       "      <td>410039</td>\n",
       "      <td>OptiFuel</td>\n",
       "      <td>EMS Josh (NMI)</td>\n",
       "      <td>194</td>\n",
       "      <td>173</td>\n",
       "      <td>0.891753</td>\n",
       "    </tr>\n",
       "    <tr>\n",
       "      <th>4</th>\n",
       "      <td>410039</td>\n",
       "      <td>OptiFuel</td>\n",
       "      <td>Quantum (NMI)</td>\n",
       "      <td>209</td>\n",
       "      <td>186</td>\n",
       "      <td>0.889952</td>\n",
       "    </tr>\n",
       "    <tr>\n",
       "      <th>1</th>\n",
       "      <td>410039</td>\n",
       "      <td>OptiFuel</td>\n",
       "      <td>NMI (EMS)</td>\n",
       "      <td>68</td>\n",
       "      <td>59</td>\n",
       "      <td>0.867647</td>\n",
       "    </tr>\n",
       "    <tr>\n",
       "      <th>2</th>\n",
       "      <td>410039</td>\n",
       "      <td>OptiFuel</td>\n",
       "      <td>Payarc Josh (NMI)</td>\n",
       "      <td>280</td>\n",
       "      <td>241</td>\n",
       "      <td>0.860714</td>\n",
       "    </tr>\n",
       "    <tr>\n",
       "      <th>5</th>\n",
       "      <td>410039</td>\n",
       "      <td>OptiFuel</td>\n",
       "      <td>Seamless Chex (Auth.net)</td>\n",
       "      <td>122</td>\n",
       "      <td>94</td>\n",
       "      <td>0.770492</td>\n",
       "    </tr>\n",
       "    <tr>\n",
       "      <th>3</th>\n",
       "      <td>410039</td>\n",
       "      <td>OptiFuel</td>\n",
       "      <td>Phoenix (NMI)</td>\n",
       "      <td>111</td>\n",
       "      <td>75</td>\n",
       "      <td>0.675676</td>\n",
       "    </tr>\n",
       "    <tr>\n",
       "      <th>33</th>\n",
       "      <td>426684</td>\n",
       "      <td>OptiFuel</td>\n",
       "      <td>EMS Josh (NMI)</td>\n",
       "      <td>132</td>\n",
       "      <td>70</td>\n",
       "      <td>0.530303</td>\n",
       "    </tr>\n",
       "    <tr>\n",
       "      <th>35</th>\n",
       "      <td>426684</td>\n",
       "      <td>OptiFuel</td>\n",
       "      <td>Phoenix (NMI)</td>\n",
       "      <td>54</td>\n",
       "      <td>23</td>\n",
       "      <td>0.425926</td>\n",
       "    </tr>\n",
       "    <tr>\n",
       "      <th>36</th>\n",
       "      <td>426684</td>\n",
       "      <td>OptiFuel</td>\n",
       "      <td>Quantum (NMI)</td>\n",
       "      <td>71</td>\n",
       "      <td>30</td>\n",
       "      <td>0.422535</td>\n",
       "    </tr>\n",
       "    <tr>\n",
       "      <th>34</th>\n",
       "      <td>426684</td>\n",
       "      <td>OptiFuel</td>\n",
       "      <td>Payarc Josh (NMI)</td>\n",
       "      <td>127</td>\n",
       "      <td>36</td>\n",
       "      <td>0.283465</td>\n",
       "    </tr>\n",
       "    <tr>\n",
       "      <th>29</th>\n",
       "      <td>440066</td>\n",
       "      <td>OptiFuel</td>\n",
       "      <td>EMS Josh (NMI)</td>\n",
       "      <td>147</td>\n",
       "      <td>108</td>\n",
       "      <td>0.734694</td>\n",
       "    </tr>\n",
       "    <tr>\n",
       "      <th>30</th>\n",
       "      <td>440066</td>\n",
       "      <td>OptiFuel</td>\n",
       "      <td>Payarc Josh (NMI)</td>\n",
       "      <td>116</td>\n",
       "      <td>73</td>\n",
       "      <td>0.629310</td>\n",
       "    </tr>\n",
       "    <tr>\n",
       "      <th>31</th>\n",
       "      <td>440066</td>\n",
       "      <td>OptiFuel</td>\n",
       "      <td>Quantum (NMI)</td>\n",
       "      <td>60</td>\n",
       "      <td>28</td>\n",
       "      <td>0.466667</td>\n",
       "    </tr>\n",
       "    <tr>\n",
       "      <th>32</th>\n",
       "      <td>440066</td>\n",
       "      <td>OptiFuel</td>\n",
       "      <td>Seamless Chex (Auth.net)</td>\n",
       "      <td>69</td>\n",
       "      <td>25</td>\n",
       "      <td>0.362319</td>\n",
       "    </tr>\n",
       "    <tr>\n",
       "      <th>38</th>\n",
       "      <td>446291</td>\n",
       "      <td>BTE Hearing CIC Pro (Native) - UK</td>\n",
       "      <td>Adyen US</td>\n",
       "      <td>193</td>\n",
       "      <td>82</td>\n",
       "      <td>0.424870</td>\n",
       "    </tr>\n",
       "    <tr>\n",
       "      <th>37</th>\n",
       "      <td>446291</td>\n",
       "      <td>BTE Hearing CIC Pro (Native) - UK</td>\n",
       "      <td>ADYEN AU</td>\n",
       "      <td>140</td>\n",
       "      <td>54</td>\n",
       "      <td>0.385714</td>\n",
       "    </tr>\n",
       "    <tr>\n",
       "      <th>7</th>\n",
       "      <td>517805</td>\n",
       "      <td>OptiFuel</td>\n",
       "      <td>NMI (EMS)</td>\n",
       "      <td>62</td>\n",
       "      <td>25</td>\n",
       "      <td>0.403226</td>\n",
       "    </tr>\n",
       "    <tr>\n",
       "      <th>6</th>\n",
       "      <td>517805</td>\n",
       "      <td>OptiFuel</td>\n",
       "      <td>EMS Josh (NMI)</td>\n",
       "      <td>161</td>\n",
       "      <td>54</td>\n",
       "      <td>0.335404</td>\n",
       "    </tr>\n",
       "    <tr>\n",
       "      <th>8</th>\n",
       "      <td>517805</td>\n",
       "      <td>OptiFuel</td>\n",
       "      <td>Payarc Josh (NMI)</td>\n",
       "      <td>258</td>\n",
       "      <td>76</td>\n",
       "      <td>0.294574</td>\n",
       "    </tr>\n",
       "    <tr>\n",
       "      <th>9</th>\n",
       "      <td>517805</td>\n",
       "      <td>OptiFuel</td>\n",
       "      <td>Phoenix (NMI)</td>\n",
       "      <td>94</td>\n",
       "      <td>26</td>\n",
       "      <td>0.276596</td>\n",
       "    </tr>\n",
       "    <tr>\n",
       "      <th>10</th>\n",
       "      <td>517805</td>\n",
       "      <td>OptiFuel</td>\n",
       "      <td>Quantum (NMI)</td>\n",
       "      <td>126</td>\n",
       "      <td>24</td>\n",
       "      <td>0.190476</td>\n",
       "    </tr>\n",
       "    <tr>\n",
       "      <th>20</th>\n",
       "      <td>535666</td>\n",
       "      <td>BTE Hearing CIC Pro (Native) - UK</td>\n",
       "      <td>ADYEN AU</td>\n",
       "      <td>177</td>\n",
       "      <td>103</td>\n",
       "      <td>0.581921</td>\n",
       "    </tr>\n",
       "    <tr>\n",
       "      <th>21</th>\n",
       "      <td>535666</td>\n",
       "      <td>BTE Hearing CIC Pro (Native) - UK</td>\n",
       "      <td>Adyen US</td>\n",
       "      <td>256</td>\n",
       "      <td>62</td>\n",
       "      <td>0.242188</td>\n",
       "    </tr>\n",
       "    <tr>\n",
       "      <th>22</th>\n",
       "      <td>537410</td>\n",
       "      <td>BTE Hearing CIC Pro (Native) - UK</td>\n",
       "      <td>ADYEN AU</td>\n",
       "      <td>181</td>\n",
       "      <td>108</td>\n",
       "      <td>0.596685</td>\n",
       "    </tr>\n",
       "    <tr>\n",
       "      <th>23</th>\n",
       "      <td>537410</td>\n",
       "      <td>BTE Hearing CIC Pro (Native) - UK</td>\n",
       "      <td>Adyen US</td>\n",
       "      <td>247</td>\n",
       "      <td>141</td>\n",
       "      <td>0.570850</td>\n",
       "    </tr>\n",
       "    <tr>\n",
       "      <th>16</th>\n",
       "      <td>542418</td>\n",
       "      <td>OptiFuel</td>\n",
       "      <td>EMS Josh (NMI)</td>\n",
       "      <td>80</td>\n",
       "      <td>71</td>\n",
       "      <td>0.887500</td>\n",
       "    </tr>\n",
       "    <tr>\n",
       "      <th>18</th>\n",
       "      <td>542418</td>\n",
       "      <td>OptiFuel</td>\n",
       "      <td>Quantum (NMI)</td>\n",
       "      <td>105</td>\n",
       "      <td>93</td>\n",
       "      <td>0.885714</td>\n",
       "    </tr>\n",
       "    <tr>\n",
       "      <th>17</th>\n",
       "      <td>542418</td>\n",
       "      <td>OptiFuel</td>\n",
       "      <td>Payarc Josh (NMI)</td>\n",
       "      <td>194</td>\n",
       "      <td>165</td>\n",
       "      <td>0.850515</td>\n",
       "    </tr>\n",
       "    <tr>\n",
       "      <th>19</th>\n",
       "      <td>542418</td>\n",
       "      <td>OptiFuel</td>\n",
       "      <td>Seamless Chex (Auth.net)</td>\n",
       "      <td>106</td>\n",
       "      <td>76</td>\n",
       "      <td>0.716981</td>\n",
       "    </tr>\n",
       "    <tr>\n",
       "      <th>11</th>\n",
       "      <td>601100</td>\n",
       "      <td>OptiFuel</td>\n",
       "      <td>EMS Josh (NMI)</td>\n",
       "      <td>147</td>\n",
       "      <td>74</td>\n",
       "      <td>0.503401</td>\n",
       "    </tr>\n",
       "    <tr>\n",
       "      <th>14</th>\n",
       "      <td>601100</td>\n",
       "      <td>OptiFuel</td>\n",
       "      <td>Quantum (NMI)</td>\n",
       "      <td>69</td>\n",
       "      <td>33</td>\n",
       "      <td>0.478261</td>\n",
       "    </tr>\n",
       "    <tr>\n",
       "      <th>12</th>\n",
       "      <td>601100</td>\n",
       "      <td>OptiFuel</td>\n",
       "      <td>Payarc Josh (NMI)</td>\n",
       "      <td>199</td>\n",
       "      <td>90</td>\n",
       "      <td>0.452261</td>\n",
       "    </tr>\n",
       "    <tr>\n",
       "      <th>13</th>\n",
       "      <td>601100</td>\n",
       "      <td>OptiFuel</td>\n",
       "      <td>Phoenix (NMI)</td>\n",
       "      <td>71</td>\n",
       "      <td>26</td>\n",
       "      <td>0.366197</td>\n",
       "    </tr>\n",
       "    <tr>\n",
       "      <th>15</th>\n",
       "      <td>601100</td>\n",
       "      <td>OptiFuel</td>\n",
       "      <td>Seamless Chex (Auth.net)</td>\n",
       "      <td>108</td>\n",
       "      <td>34</td>\n",
       "      <td>0.314815</td>\n",
       "    </tr>\n",
       "    <tr>\n",
       "      <th>27</th>\n",
       "      <td>601101</td>\n",
       "      <td>OptiFuel</td>\n",
       "      <td>Quantum (NMI)</td>\n",
       "      <td>67</td>\n",
       "      <td>35</td>\n",
       "      <td>0.522388</td>\n",
       "    </tr>\n",
       "    <tr>\n",
       "      <th>24</th>\n",
       "      <td>601101</td>\n",
       "      <td>OptiFuel</td>\n",
       "      <td>EMS Josh (NMI)</td>\n",
       "      <td>100</td>\n",
       "      <td>51</td>\n",
       "      <td>0.510000</td>\n",
       "    </tr>\n",
       "    <tr>\n",
       "      <th>26</th>\n",
       "      <td>601101</td>\n",
       "      <td>OptiFuel</td>\n",
       "      <td>Phoenix (NMI)</td>\n",
       "      <td>70</td>\n",
       "      <td>35</td>\n",
       "      <td>0.500000</td>\n",
       "    </tr>\n",
       "    <tr>\n",
       "      <th>28</th>\n",
       "      <td>601101</td>\n",
       "      <td>OptiFuel</td>\n",
       "      <td>Seamless Chex (Auth.net)</td>\n",
       "      <td>56</td>\n",
       "      <td>23</td>\n",
       "      <td>0.410714</td>\n",
       "    </tr>\n",
       "    <tr>\n",
       "      <th>25</th>\n",
       "      <td>601101</td>\n",
       "      <td>OptiFuel</td>\n",
       "      <td>Payarc Josh (NMI)</td>\n",
       "      <td>118</td>\n",
       "      <td>41</td>\n",
       "      <td>0.347458</td>\n",
       "    </tr>\n",
       "  </tbody>\n",
       "</table>\n",
       "</div>"
      ],
      "text/plain": [
       "   cardBin                       campaignName                  merchant  \\\n",
       "0   410039                           OptiFuel            EMS Josh (NMI)   \n",
       "4   410039                           OptiFuel             Quantum (NMI)   \n",
       "1   410039                           OptiFuel                 NMI (EMS)   \n",
       "2   410039                           OptiFuel         Payarc Josh (NMI)   \n",
       "5   410039                           OptiFuel  Seamless Chex (Auth.net)   \n",
       "3   410039                           OptiFuel             Phoenix (NMI)   \n",
       "33  426684                           OptiFuel            EMS Josh (NMI)   \n",
       "35  426684                           OptiFuel             Phoenix (NMI)   \n",
       "36  426684                           OptiFuel             Quantum (NMI)   \n",
       "34  426684                           OptiFuel         Payarc Josh (NMI)   \n",
       "29  440066                           OptiFuel            EMS Josh (NMI)   \n",
       "30  440066                           OptiFuel         Payarc Josh (NMI)   \n",
       "31  440066                           OptiFuel             Quantum (NMI)   \n",
       "32  440066                           OptiFuel  Seamless Chex (Auth.net)   \n",
       "38  446291  BTE Hearing CIC Pro (Native) - UK                  Adyen US   \n",
       "37  446291  BTE Hearing CIC Pro (Native) - UK                  ADYEN AU   \n",
       "7   517805                           OptiFuel                 NMI (EMS)   \n",
       "6   517805                           OptiFuel            EMS Josh (NMI)   \n",
       "8   517805                           OptiFuel         Payarc Josh (NMI)   \n",
       "9   517805                           OptiFuel             Phoenix (NMI)   \n",
       "10  517805                           OptiFuel             Quantum (NMI)   \n",
       "20  535666  BTE Hearing CIC Pro (Native) - UK                  ADYEN AU   \n",
       "21  535666  BTE Hearing CIC Pro (Native) - UK                  Adyen US   \n",
       "22  537410  BTE Hearing CIC Pro (Native) - UK                  ADYEN AU   \n",
       "23  537410  BTE Hearing CIC Pro (Native) - UK                  Adyen US   \n",
       "16  542418                           OptiFuel            EMS Josh (NMI)   \n",
       "18  542418                           OptiFuel             Quantum (NMI)   \n",
       "17  542418                           OptiFuel         Payarc Josh (NMI)   \n",
       "19  542418                           OptiFuel  Seamless Chex (Auth.net)   \n",
       "11  601100                           OptiFuel            EMS Josh (NMI)   \n",
       "14  601100                           OptiFuel             Quantum (NMI)   \n",
       "12  601100                           OptiFuel         Payarc Josh (NMI)   \n",
       "13  601100                           OptiFuel             Phoenix (NMI)   \n",
       "15  601100                           OptiFuel  Seamless Chex (Auth.net)   \n",
       "27  601101                           OptiFuel             Quantum (NMI)   \n",
       "24  601101                           OptiFuel            EMS Josh (NMI)   \n",
       "26  601101                           OptiFuel             Phoenix (NMI)   \n",
       "28  601101                           OptiFuel  Seamless Chex (Auth.net)   \n",
       "25  601101                           OptiFuel         Payarc Josh (NMI)   \n",
       "\n",
       "    total_txns  success_count  success_rate  \n",
       "0          194            173      0.891753  \n",
       "4          209            186      0.889952  \n",
       "1           68             59      0.867647  \n",
       "2          280            241      0.860714  \n",
       "5          122             94      0.770492  \n",
       "3          111             75      0.675676  \n",
       "33         132             70      0.530303  \n",
       "35          54             23      0.425926  \n",
       "36          71             30      0.422535  \n",
       "34         127             36      0.283465  \n",
       "29         147            108      0.734694  \n",
       "30         116             73      0.629310  \n",
       "31          60             28      0.466667  \n",
       "32          69             25      0.362319  \n",
       "38         193             82      0.424870  \n",
       "37         140             54      0.385714  \n",
       "7           62             25      0.403226  \n",
       "6          161             54      0.335404  \n",
       "8          258             76      0.294574  \n",
       "9           94             26      0.276596  \n",
       "10         126             24      0.190476  \n",
       "20         177            103      0.581921  \n",
       "21         256             62      0.242188  \n",
       "22         181            108      0.596685  \n",
       "23         247            141      0.570850  \n",
       "16          80             71      0.887500  \n",
       "18         105             93      0.885714  \n",
       "17         194            165      0.850515  \n",
       "19         106             76      0.716981  \n",
       "11         147             74      0.503401  \n",
       "14          69             33      0.478261  \n",
       "12         199             90      0.452261  \n",
       "13          71             26      0.366197  \n",
       "15         108             34      0.314815  \n",
       "27          67             35      0.522388  \n",
       "24         100             51      0.510000  \n",
       "26          70             35      0.500000  \n",
       "28          56             23      0.410714  \n",
       "25         118             41      0.347458  "
      ]
     },
     "execution_count": 23,
     "metadata": {},
     "output_type": "execute_result"
    }
   ],
   "source": [
    "q1_result"
   ]
  },
  {
   "cell_type": "code",
   "execution_count": 24,
   "id": "bf60f43b-37da-4908-94c6-1b246200d8ed",
   "metadata": {},
   "outputs": [
    {
     "data": {
      "text/html": [
       "<div>\n",
       "<style scoped>\n",
       "    .dataframe tbody tr th:only-of-type {\n",
       "        vertical-align: middle;\n",
       "    }\n",
       "\n",
       "    .dataframe tbody tr th {\n",
       "        vertical-align: top;\n",
       "    }\n",
       "\n",
       "    .dataframe thead th {\n",
       "        text-align: right;\n",
       "    }\n",
       "</style>\n",
       "<table border=\"1\" class=\"dataframe\">\n",
       "  <thead>\n",
       "    <tr style=\"text-align: right;\">\n",
       "      <th></th>\n",
       "      <th>cardBin</th>\n",
       "      <th>merchant</th>\n",
       "      <th>campaignName</th>\n",
       "      <th>total_txns</th>\n",
       "      <th>success_count</th>\n",
       "      <th>success_rate</th>\n",
       "    </tr>\n",
       "  </thead>\n",
       "  <tbody>\n",
       "    <tr>\n",
       "      <th>6</th>\n",
       "      <td>410039</td>\n",
       "      <td>EMS Josh (NMI)</td>\n",
       "      <td>MozzGuard</td>\n",
       "      <td>74</td>\n",
       "      <td>66</td>\n",
       "      <td>0.891892</td>\n",
       "    </tr>\n",
       "    <tr>\n",
       "      <th>7</th>\n",
       "      <td>410039</td>\n",
       "      <td>EMS Josh (NMI)</td>\n",
       "      <td>OptiFuel</td>\n",
       "      <td>194</td>\n",
       "      <td>173</td>\n",
       "      <td>0.891753</td>\n",
       "    </tr>\n",
       "    <tr>\n",
       "      <th>5</th>\n",
       "      <td>410039</td>\n",
       "      <td>EMS Josh (NMI)</td>\n",
       "      <td>BTE Hearing CIC Pro (Native) Original</td>\n",
       "      <td>139</td>\n",
       "      <td>121</td>\n",
       "      <td>0.870504</td>\n",
       "    </tr>\n",
       "    <tr>\n",
       "      <th>22</th>\n",
       "      <td>410039</td>\n",
       "      <td>Payarc Josh (NMI)</td>\n",
       "      <td>OptiFuel</td>\n",
       "      <td>280</td>\n",
       "      <td>241</td>\n",
       "      <td>0.860714</td>\n",
       "    </tr>\n",
       "    <tr>\n",
       "      <th>12</th>\n",
       "      <td>410039</td>\n",
       "      <td>Quantum (NMI)</td>\n",
       "      <td>BTE Hearing CIC Pro (Native) Original</td>\n",
       "      <td>89</td>\n",
       "      <td>82</td>\n",
       "      <td>0.921348</td>\n",
       "    </tr>\n",
       "    <tr>\n",
       "      <th>13</th>\n",
       "      <td>410039</td>\n",
       "      <td>Quantum (NMI)</td>\n",
       "      <td>OptiFuel</td>\n",
       "      <td>209</td>\n",
       "      <td>186</td>\n",
       "      <td>0.889952</td>\n",
       "    </tr>\n",
       "    <tr>\n",
       "      <th>11</th>\n",
       "      <td>410039</td>\n",
       "      <td>Quantum (NMI)</td>\n",
       "      <td>BTE Hearing CIC Pro (Facebook)</td>\n",
       "      <td>70</td>\n",
       "      <td>60</td>\n",
       "      <td>0.857143</td>\n",
       "    </tr>\n",
       "    <tr>\n",
       "      <th>2</th>\n",
       "      <td>410039</td>\n",
       "      <td>Seamless Chex (Auth.net)</td>\n",
       "      <td>MozzGuard</td>\n",
       "      <td>105</td>\n",
       "      <td>103</td>\n",
       "      <td>0.980952</td>\n",
       "    </tr>\n",
       "    <tr>\n",
       "      <th>4</th>\n",
       "      <td>410039</td>\n",
       "      <td>Seamless Chex (Auth.net)</td>\n",
       "      <td>Ozzi Heat</td>\n",
       "      <td>196</td>\n",
       "      <td>157</td>\n",
       "      <td>0.801020</td>\n",
       "    </tr>\n",
       "    <tr>\n",
       "      <th>3</th>\n",
       "      <td>410039</td>\n",
       "      <td>Seamless Chex (Auth.net)</td>\n",
       "      <td>OptiFuel</td>\n",
       "      <td>122</td>\n",
       "      <td>94</td>\n",
       "      <td>0.770492</td>\n",
       "    </tr>\n",
       "    <tr>\n",
       "      <th>27</th>\n",
       "      <td>440066</td>\n",
       "      <td>EMS Josh (NMI)</td>\n",
       "      <td>OptiFuel</td>\n",
       "      <td>147</td>\n",
       "      <td>108</td>\n",
       "      <td>0.734694</td>\n",
       "    </tr>\n",
       "    <tr>\n",
       "      <th>26</th>\n",
       "      <td>440066</td>\n",
       "      <td>EMS Josh (NMI)</td>\n",
       "      <td>BTE Hearing CIC Pro (Native) Original</td>\n",
       "      <td>112</td>\n",
       "      <td>74</td>\n",
       "      <td>0.660714</td>\n",
       "    </tr>\n",
       "    <tr>\n",
       "      <th>24</th>\n",
       "      <td>462239</td>\n",
       "      <td>ADYEN AU</td>\n",
       "      <td>BTE Hearing CIC Pro (Native) - AU</td>\n",
       "      <td>78</td>\n",
       "      <td>55</td>\n",
       "      <td>0.705128</td>\n",
       "    </tr>\n",
       "    <tr>\n",
       "      <th>25</th>\n",
       "      <td>462239</td>\n",
       "      <td>ADYEN AU</td>\n",
       "      <td>OptiFuel | AU</td>\n",
       "      <td>194</td>\n",
       "      <td>131</td>\n",
       "      <td>0.675258</td>\n",
       "    </tr>\n",
       "    <tr>\n",
       "      <th>20</th>\n",
       "      <td>516361</td>\n",
       "      <td>ADYEN AU</td>\n",
       "      <td>BTE Hearing CIC Pro (Native) - AU</td>\n",
       "      <td>110</td>\n",
       "      <td>94</td>\n",
       "      <td>0.854545</td>\n",
       "    </tr>\n",
       "    <tr>\n",
       "      <th>21</th>\n",
       "      <td>516361</td>\n",
       "      <td>ADYEN AU</td>\n",
       "      <td>OptiFuel | AU</td>\n",
       "      <td>217</td>\n",
       "      <td>159</td>\n",
       "      <td>0.732719</td>\n",
       "    </tr>\n",
       "    <tr>\n",
       "      <th>28</th>\n",
       "      <td>517805</td>\n",
       "      <td>Payarc Josh (NMI)</td>\n",
       "      <td>OptiFuel</td>\n",
       "      <td>258</td>\n",
       "      <td>76</td>\n",
       "      <td>0.294574</td>\n",
       "    </tr>\n",
       "    <tr>\n",
       "      <th>0</th>\n",
       "      <td>521729</td>\n",
       "      <td>ADYEN AU</td>\n",
       "      <td>BTE Hearing CIC Pro (Native) - AU</td>\n",
       "      <td>137</td>\n",
       "      <td>129</td>\n",
       "      <td>0.941606</td>\n",
       "    </tr>\n",
       "    <tr>\n",
       "      <th>1</th>\n",
       "      <td>521729</td>\n",
       "      <td>ADYEN AU</td>\n",
       "      <td>OptiFuel | AU</td>\n",
       "      <td>295</td>\n",
       "      <td>242</td>\n",
       "      <td>0.820339</td>\n",
       "    </tr>\n",
       "    <tr>\n",
       "      <th>23</th>\n",
       "      <td>521729</td>\n",
       "      <td>Seamless Chex (Auth.net)</td>\n",
       "      <td>MozzGuard</td>\n",
       "      <td>278</td>\n",
       "      <td>222</td>\n",
       "      <td>0.798561</td>\n",
       "    </tr>\n",
       "    <tr>\n",
       "      <th>29</th>\n",
       "      <td>535666</td>\n",
       "      <td>Adyen US</td>\n",
       "      <td>BTE Hearing CIC Pro (Native) - UK</td>\n",
       "      <td>256</td>\n",
       "      <td>62</td>\n",
       "      <td>0.242188</td>\n",
       "    </tr>\n",
       "    <tr>\n",
       "      <th>19</th>\n",
       "      <td>537410</td>\n",
       "      <td>ADYEN AU</td>\n",
       "      <td>Fungus Funnel - UK</td>\n",
       "      <td>101</td>\n",
       "      <td>75</td>\n",
       "      <td>0.742574</td>\n",
       "    </tr>\n",
       "    <tr>\n",
       "      <th>18</th>\n",
       "      <td>537410</td>\n",
       "      <td>ADYEN AU</td>\n",
       "      <td>BTE Hearing CIC Pro - UK</td>\n",
       "      <td>60</td>\n",
       "      <td>43</td>\n",
       "      <td>0.716667</td>\n",
       "    </tr>\n",
       "    <tr>\n",
       "      <th>17</th>\n",
       "      <td>537410</td>\n",
       "      <td>ADYEN AU</td>\n",
       "      <td>BTE Hearing CIC Pro (Native) - UK</td>\n",
       "      <td>181</td>\n",
       "      <td>108</td>\n",
       "      <td>0.596685</td>\n",
       "    </tr>\n",
       "    <tr>\n",
       "      <th>30</th>\n",
       "      <td>537410</td>\n",
       "      <td>Adyen US</td>\n",
       "      <td>BTE Hearing CIC Pro (Native) - UK</td>\n",
       "      <td>247</td>\n",
       "      <td>141</td>\n",
       "      <td>0.570850</td>\n",
       "    </tr>\n",
       "    <tr>\n",
       "      <th>8</th>\n",
       "      <td>542418</td>\n",
       "      <td>Seamless Chex (Auth.net)</td>\n",
       "      <td>MozzGuard</td>\n",
       "      <td>126</td>\n",
       "      <td>126</td>\n",
       "      <td>1.000000</td>\n",
       "    </tr>\n",
       "    <tr>\n",
       "      <th>9</th>\n",
       "      <td>542418</td>\n",
       "      <td>Seamless Chex (Auth.net)</td>\n",
       "      <td>OptiFuel</td>\n",
       "      <td>106</td>\n",
       "      <td>76</td>\n",
       "      <td>0.716981</td>\n",
       "    </tr>\n",
       "    <tr>\n",
       "      <th>10</th>\n",
       "      <td>542418</td>\n",
       "      <td>Seamless Chex (Auth.net)</td>\n",
       "      <td>Ozzi Heat</td>\n",
       "      <td>138</td>\n",
       "      <td>82</td>\n",
       "      <td>0.594203</td>\n",
       "    </tr>\n",
       "    <tr>\n",
       "      <th>14</th>\n",
       "      <td>601100</td>\n",
       "      <td>Seamless Chex (Auth.net)</td>\n",
       "      <td>MozzGuard</td>\n",
       "      <td>97</td>\n",
       "      <td>86</td>\n",
       "      <td>0.886598</td>\n",
       "    </tr>\n",
       "    <tr>\n",
       "      <th>15</th>\n",
       "      <td>601100</td>\n",
       "      <td>Seamless Chex (Auth.net)</td>\n",
       "      <td>OptiFuel</td>\n",
       "      <td>108</td>\n",
       "      <td>34</td>\n",
       "      <td>0.314815</td>\n",
       "    </tr>\n",
       "    <tr>\n",
       "      <th>16</th>\n",
       "      <td>601100</td>\n",
       "      <td>Seamless Chex (Auth.net)</td>\n",
       "      <td>Ozzi Heat</td>\n",
       "      <td>146</td>\n",
       "      <td>44</td>\n",
       "      <td>0.301370</td>\n",
       "    </tr>\n",
       "  </tbody>\n",
       "</table>\n",
       "</div>"
      ],
      "text/plain": [
       "   cardBin                  merchant                           campaignName  \\\n",
       "6   410039            EMS Josh (NMI)                              MozzGuard   \n",
       "7   410039            EMS Josh (NMI)                               OptiFuel   \n",
       "5   410039            EMS Josh (NMI)  BTE Hearing CIC Pro (Native) Original   \n",
       "22  410039         Payarc Josh (NMI)                               OptiFuel   \n",
       "12  410039             Quantum (NMI)  BTE Hearing CIC Pro (Native) Original   \n",
       "13  410039             Quantum (NMI)                               OptiFuel   \n",
       "11  410039             Quantum (NMI)         BTE Hearing CIC Pro (Facebook)   \n",
       "2   410039  Seamless Chex (Auth.net)                              MozzGuard   \n",
       "4   410039  Seamless Chex (Auth.net)                              Ozzi Heat   \n",
       "3   410039  Seamless Chex (Auth.net)                               OptiFuel   \n",
       "27  440066            EMS Josh (NMI)                               OptiFuel   \n",
       "26  440066            EMS Josh (NMI)  BTE Hearing CIC Pro (Native) Original   \n",
       "24  462239                  ADYEN AU      BTE Hearing CIC Pro (Native) - AU   \n",
       "25  462239                  ADYEN AU                          OptiFuel | AU   \n",
       "20  516361                  ADYEN AU      BTE Hearing CIC Pro (Native) - AU   \n",
       "21  516361                  ADYEN AU                          OptiFuel | AU   \n",
       "28  517805         Payarc Josh (NMI)                               OptiFuel   \n",
       "0   521729                  ADYEN AU      BTE Hearing CIC Pro (Native) - AU   \n",
       "1   521729                  ADYEN AU                          OptiFuel | AU   \n",
       "23  521729  Seamless Chex (Auth.net)                              MozzGuard   \n",
       "29  535666                  Adyen US      BTE Hearing CIC Pro (Native) - UK   \n",
       "19  537410                  ADYEN AU                     Fungus Funnel - UK   \n",
       "18  537410                  ADYEN AU               BTE Hearing CIC Pro - UK   \n",
       "17  537410                  ADYEN AU      BTE Hearing CIC Pro (Native) - UK   \n",
       "30  537410                  Adyen US      BTE Hearing CIC Pro (Native) - UK   \n",
       "8   542418  Seamless Chex (Auth.net)                              MozzGuard   \n",
       "9   542418  Seamless Chex (Auth.net)                               OptiFuel   \n",
       "10  542418  Seamless Chex (Auth.net)                              Ozzi Heat   \n",
       "14  601100  Seamless Chex (Auth.net)                              MozzGuard   \n",
       "15  601100  Seamless Chex (Auth.net)                               OptiFuel   \n",
       "16  601100  Seamless Chex (Auth.net)                              Ozzi Heat   \n",
       "\n",
       "    total_txns  success_count  success_rate  \n",
       "6           74             66      0.891892  \n",
       "7          194            173      0.891753  \n",
       "5          139            121      0.870504  \n",
       "22         280            241      0.860714  \n",
       "12          89             82      0.921348  \n",
       "13         209            186      0.889952  \n",
       "11          70             60      0.857143  \n",
       "2          105            103      0.980952  \n",
       "4          196            157      0.801020  \n",
       "3          122             94      0.770492  \n",
       "27         147            108      0.734694  \n",
       "26         112             74      0.660714  \n",
       "24          78             55      0.705128  \n",
       "25         194            131      0.675258  \n",
       "20         110             94      0.854545  \n",
       "21         217            159      0.732719  \n",
       "28         258             76      0.294574  \n",
       "0          137            129      0.941606  \n",
       "1          295            242      0.820339  \n",
       "23         278            222      0.798561  \n",
       "29         256             62      0.242188  \n",
       "19         101             75      0.742574  \n",
       "18          60             43      0.716667  \n",
       "17         181            108      0.596685  \n",
       "30         247            141      0.570850  \n",
       "8          126            126      1.000000  \n",
       "9          106             76      0.716981  \n",
       "10         138             82      0.594203  \n",
       "14          97             86      0.886598  \n",
       "15         108             34      0.314815  \n",
       "16         146             44      0.301370  "
      ]
     },
     "execution_count": 24,
     "metadata": {},
     "output_type": "execute_result"
    }
   ],
   "source": [
    "q2_result"
   ]
  },
  {
   "cell_type": "code",
   "execution_count": 25,
   "id": "dee4bd1c-bff7-47e5-94b8-bceb33bc66a6",
   "metadata": {},
   "outputs": [
    {
     "data": {
      "text/plain": [
       "merchant\n",
       "Seamless Chex (Auth.net)                    25949\n",
       "Payarc Josh (NMI)                           15740\n",
       "EMS Josh (NMI)                              15679\n",
       "Adyen US                                    14999\n",
       "Quantum (NMI)                               14111\n",
       "ADYEN AU                                    13994\n",
       "Stripe (Josh)                                7653\n",
       "Phoenix (NMI)                                4893\n",
       "NMI (EMS)                                    4748\n",
       "Finix Josh (Auth.net)                        1306\n",
       "Airwallex (AU)                               1012\n",
       "Paypal US                                     814\n",
       "Quantum PremHealth (NMI)                      449\n",
       "Airwallex (HK)                                291\n",
       "FlexPayPlugin - Seamless Chex (Auth.net)      279\n",
       "FlexPayPlugin - Quantum (NMI)                 196\n",
       "FlexPayPlugin - Payarc Josh (NMI)             120\n",
       "PayPal@OM                                     111\n",
       "FlexPayPlugin - EMS Josh (NMI)                 61\n",
       "Auth.net (EMS)                                 39\n",
       "FlexPayPlugin - NMI (EMS)                      30\n",
       "Stripe USD (Yen)                               24\n",
       "Paypal USD (Josh)                               3\n",
       "DUMMY                                           2\n",
       "Name: count, dtype: int64"
      ]
     },
     "execution_count": 25,
     "metadata": {},
     "output_type": "execute_result"
    }
   ],
   "source": [
    "df['merchant'].value_counts()\n"
   ]
  },
  {
   "cell_type": "code",
   "execution_count": 26,
   "id": "d2a8b0f2-1275-4c71-82ba-84b0901da57d",
   "metadata": {},
   "outputs": [
    {
     "data": {
      "text/plain": [
       "campaignName\n",
       "OptiFuel                                 34581\n",
       "BTE Hearing CIC Pro (Native) Original    12424\n",
       "MozzGuard                                11231\n",
       "BTE Hearing CIC Pro (Native) - UK        10338\n",
       "BTE Hearing CIC Pro (Facebook)            9717\n",
       "                                         ...  \n",
       "BTE Hearing CIC Pro (Native) - FR            4\n",
       "BTE Hearing CIC Pro - YT - AU                3\n",
       "HeatX                                        2\n",
       "Sole Cleanse                                 2\n",
       "Mozz Guard Camp (CA)                         1\n",
       "Name: count, Length: 65, dtype: int64"
      ]
     },
     "execution_count": 26,
     "metadata": {},
     "output_type": "execute_result"
    }
   ],
   "source": [
    "df['campaignName'].value_counts()\n"
   ]
  },
  {
   "cell_type": "code",
   "execution_count": 31,
   "id": "0719ef52-e6ef-43fd-b5c0-ad4665a63d53",
   "metadata": {},
   "outputs": [
    {
     "data": {
      "application/vnd.plotly.v1+json": {
       "config": {
        "plotlyServerURL": "https://plot.ly"
       },
       "data": [
        {
         "alignmentgroup": "True",
         "customdata": [
          [
           "410039",
           "OptiFuel",
           194,
           173
          ],
          [
           "410039",
           "OptiFuel",
           209,
           186
          ],
          [
           "410039",
           "OptiFuel",
           68,
           59
          ],
          [
           "410039",
           "OptiFuel",
           280,
           241
          ],
          [
           "410039",
           "OptiFuel",
           122,
           94
          ],
          [
           "410039",
           "OptiFuel",
           111,
           75
          ]
         ],
         "hovertemplate": "Bin-Campaign=410039 - OptiFuel<br>success_rate=%{text}<br>merchant=%{y}<br>cardBin=%{customdata[0]}<br>campaignName=%{customdata[1]}<br>total_txns=%{customdata[2]}<br>success_count=%{customdata[3]}<extra></extra>",
         "legendgroup": "410039 - OptiFuel",
         "marker": {
          "color": "#636efa",
          "pattern": {
           "shape": ""
          }
         },
         "name": "410039 - OptiFuel",
         "offsetgroup": "410039 - OptiFuel",
         "orientation": "h",
         "showlegend": true,
         "text": [
          0.8917525773195877,
          0.8899521531100478,
          0.8676470588235294,
          0.8607142857142858,
          0.7704918032786885,
          0.6756756756756757
         ],
         "textposition": "outside",
         "texttemplate": "%{text:.2f}",
         "type": "bar",
         "x": [
          0.8917525773195877,
          0.8899521531100478,
          0.8676470588235294,
          0.8607142857142858,
          0.7704918032786885,
          0.6756756756756757
         ],
         "xaxis": "x",
         "y": [
          "EMS Josh (NMI)",
          "Quantum (NMI)",
          "NMI (EMS)",
          "Payarc Josh (NMI)",
          "Seamless Chex (Auth.net)",
          "Phoenix (NMI)"
         ],
         "yaxis": "y"
        },
        {
         "alignmentgroup": "True",
         "customdata": [
          [
           "426684",
           "OptiFuel",
           132,
           70
          ],
          [
           "426684",
           "OptiFuel",
           54,
           23
          ],
          [
           "426684",
           "OptiFuel",
           71,
           30
          ],
          [
           "426684",
           "OptiFuel",
           127,
           36
          ]
         ],
         "hovertemplate": "Bin-Campaign=426684 - OptiFuel<br>success_rate=%{text}<br>merchant=%{y}<br>cardBin=%{customdata[0]}<br>campaignName=%{customdata[1]}<br>total_txns=%{customdata[2]}<br>success_count=%{customdata[3]}<extra></extra>",
         "legendgroup": "426684 - OptiFuel",
         "marker": {
          "color": "#EF553B",
          "pattern": {
           "shape": ""
          }
         },
         "name": "426684 - OptiFuel",
         "offsetgroup": "426684 - OptiFuel",
         "orientation": "h",
         "showlegend": true,
         "text": [
          0.5303030303030303,
          0.42592592592592593,
          0.4225352112676056,
          0.28346456692913385
         ],
         "textposition": "outside",
         "texttemplate": "%{text:.2f}",
         "type": "bar",
         "x": [
          0.5303030303030303,
          0.42592592592592593,
          0.4225352112676056,
          0.28346456692913385
         ],
         "xaxis": "x",
         "y": [
          "EMS Josh (NMI)",
          "Phoenix (NMI)",
          "Quantum (NMI)",
          "Payarc Josh (NMI)"
         ],
         "yaxis": "y"
        },
        {
         "alignmentgroup": "True",
         "customdata": [
          [
           "440066",
           "OptiFuel",
           147,
           108
          ],
          [
           "440066",
           "OptiFuel",
           116,
           73
          ],
          [
           "440066",
           "OptiFuel",
           60,
           28
          ],
          [
           "440066",
           "OptiFuel",
           69,
           25
          ]
         ],
         "hovertemplate": "Bin-Campaign=440066 - OptiFuel<br>success_rate=%{text}<br>merchant=%{y}<br>cardBin=%{customdata[0]}<br>campaignName=%{customdata[1]}<br>total_txns=%{customdata[2]}<br>success_count=%{customdata[3]}<extra></extra>",
         "legendgroup": "440066 - OptiFuel",
         "marker": {
          "color": "#00cc96",
          "pattern": {
           "shape": ""
          }
         },
         "name": "440066 - OptiFuel",
         "offsetgroup": "440066 - OptiFuel",
         "orientation": "h",
         "showlegend": true,
         "text": [
          0.7346938775510204,
          0.6293103448275862,
          0.4666666666666667,
          0.36231884057971014
         ],
         "textposition": "outside",
         "texttemplate": "%{text:.2f}",
         "type": "bar",
         "x": [
          0.7346938775510204,
          0.6293103448275862,
          0.4666666666666667,
          0.36231884057971014
         ],
         "xaxis": "x",
         "y": [
          "EMS Josh (NMI)",
          "Payarc Josh (NMI)",
          "Quantum (NMI)",
          "Seamless Chex (Auth.net)"
         ],
         "yaxis": "y"
        },
        {
         "alignmentgroup": "True",
         "customdata": [
          [
           "446291",
           "BTE Hearing CIC Pro (Native) - UK",
           193,
           82
          ],
          [
           "446291",
           "BTE Hearing CIC Pro (Native) - UK",
           140,
           54
          ]
         ],
         "hovertemplate": "Bin-Campaign=446291 - BTE Hearing CIC Pro (Native) - UK<br>success_rate=%{text}<br>merchant=%{y}<br>cardBin=%{customdata[0]}<br>campaignName=%{customdata[1]}<br>total_txns=%{customdata[2]}<br>success_count=%{customdata[3]}<extra></extra>",
         "legendgroup": "446291 - BTE Hearing CIC Pro (Native) - UK",
         "marker": {
          "color": "#ab63fa",
          "pattern": {
           "shape": ""
          }
         },
         "name": "446291 - BTE Hearing CIC Pro (Native) - UK",
         "offsetgroup": "446291 - BTE Hearing CIC Pro (Native) - UK",
         "orientation": "h",
         "showlegend": true,
         "text": [
          0.42487046632124353,
          0.38571428571428573
         ],
         "textposition": "outside",
         "texttemplate": "%{text:.2f}",
         "type": "bar",
         "x": [
          0.42487046632124353,
          0.38571428571428573
         ],
         "xaxis": "x",
         "y": [
          "Adyen US",
          "ADYEN AU"
         ],
         "yaxis": "y"
        },
        {
         "alignmentgroup": "True",
         "customdata": [
          [
           "517805",
           "OptiFuel",
           62,
           25
          ],
          [
           "517805",
           "OptiFuel",
           161,
           54
          ],
          [
           "517805",
           "OptiFuel",
           258,
           76
          ],
          [
           "517805",
           "OptiFuel",
           94,
           26
          ],
          [
           "517805",
           "OptiFuel",
           126,
           24
          ]
         ],
         "hovertemplate": "Bin-Campaign=517805 - OptiFuel<br>success_rate=%{text}<br>merchant=%{y}<br>cardBin=%{customdata[0]}<br>campaignName=%{customdata[1]}<br>total_txns=%{customdata[2]}<br>success_count=%{customdata[3]}<extra></extra>",
         "legendgroup": "517805 - OptiFuel",
         "marker": {
          "color": "#FFA15A",
          "pattern": {
           "shape": ""
          }
         },
         "name": "517805 - OptiFuel",
         "offsetgroup": "517805 - OptiFuel",
         "orientation": "h",
         "showlegend": true,
         "text": [
          0.4032258064516129,
          0.33540372670807456,
          0.29457364341085274,
          0.2765957446808511,
          0.19047619047619047
         ],
         "textposition": "outside",
         "texttemplate": "%{text:.2f}",
         "type": "bar",
         "x": [
          0.4032258064516129,
          0.33540372670807456,
          0.29457364341085274,
          0.2765957446808511,
          0.19047619047619047
         ],
         "xaxis": "x",
         "y": [
          "NMI (EMS)",
          "EMS Josh (NMI)",
          "Payarc Josh (NMI)",
          "Phoenix (NMI)",
          "Quantum (NMI)"
         ],
         "yaxis": "y"
        },
        {
         "alignmentgroup": "True",
         "customdata": [
          [
           "535666",
           "BTE Hearing CIC Pro (Native) - UK",
           177,
           103
          ],
          [
           "535666",
           "BTE Hearing CIC Pro (Native) - UK",
           256,
           62
          ]
         ],
         "hovertemplate": "Bin-Campaign=535666 - BTE Hearing CIC Pro (Native) - UK<br>success_rate=%{text}<br>merchant=%{y}<br>cardBin=%{customdata[0]}<br>campaignName=%{customdata[1]}<br>total_txns=%{customdata[2]}<br>success_count=%{customdata[3]}<extra></extra>",
         "legendgroup": "535666 - BTE Hearing CIC Pro (Native) - UK",
         "marker": {
          "color": "#19d3f3",
          "pattern": {
           "shape": ""
          }
         },
         "name": "535666 - BTE Hearing CIC Pro (Native) - UK",
         "offsetgroup": "535666 - BTE Hearing CIC Pro (Native) - UK",
         "orientation": "h",
         "showlegend": true,
         "text": [
          0.5819209039548022,
          0.2421875
         ],
         "textposition": "outside",
         "texttemplate": "%{text:.2f}",
         "type": "bar",
         "x": [
          0.5819209039548022,
          0.2421875
         ],
         "xaxis": "x",
         "y": [
          "ADYEN AU",
          "Adyen US"
         ],
         "yaxis": "y"
        },
        {
         "alignmentgroup": "True",
         "customdata": [
          [
           "537410",
           "BTE Hearing CIC Pro (Native) - UK",
           181,
           108
          ],
          [
           "537410",
           "BTE Hearing CIC Pro (Native) - UK",
           247,
           141
          ]
         ],
         "hovertemplate": "Bin-Campaign=537410 - BTE Hearing CIC Pro (Native) - UK<br>success_rate=%{text}<br>merchant=%{y}<br>cardBin=%{customdata[0]}<br>campaignName=%{customdata[1]}<br>total_txns=%{customdata[2]}<br>success_count=%{customdata[3]}<extra></extra>",
         "legendgroup": "537410 - BTE Hearing CIC Pro (Native) - UK",
         "marker": {
          "color": "#FF6692",
          "pattern": {
           "shape": ""
          }
         },
         "name": "537410 - BTE Hearing CIC Pro (Native) - UK",
         "offsetgroup": "537410 - BTE Hearing CIC Pro (Native) - UK",
         "orientation": "h",
         "showlegend": true,
         "text": [
          0.5966850828729282,
          0.5708502024291497
         ],
         "textposition": "outside",
         "texttemplate": "%{text:.2f}",
         "type": "bar",
         "x": [
          0.5966850828729282,
          0.5708502024291497
         ],
         "xaxis": "x",
         "y": [
          "ADYEN AU",
          "Adyen US"
         ],
         "yaxis": "y"
        },
        {
         "alignmentgroup": "True",
         "customdata": [
          [
           "542418",
           "OptiFuel",
           80,
           71
          ],
          [
           "542418",
           "OptiFuel",
           105,
           93
          ],
          [
           "542418",
           "OptiFuel",
           194,
           165
          ],
          [
           "542418",
           "OptiFuel",
           106,
           76
          ]
         ],
         "hovertemplate": "Bin-Campaign=542418 - OptiFuel<br>success_rate=%{text}<br>merchant=%{y}<br>cardBin=%{customdata[0]}<br>campaignName=%{customdata[1]}<br>total_txns=%{customdata[2]}<br>success_count=%{customdata[3]}<extra></extra>",
         "legendgroup": "542418 - OptiFuel",
         "marker": {
          "color": "#B6E880",
          "pattern": {
           "shape": ""
          }
         },
         "name": "542418 - OptiFuel",
         "offsetgroup": "542418 - OptiFuel",
         "orientation": "h",
         "showlegend": true,
         "text": [
          0.8875,
          0.8857142857142857,
          0.8505154639175257,
          0.7169811320754716
         ],
         "textposition": "outside",
         "texttemplate": "%{text:.2f}",
         "type": "bar",
         "x": [
          0.8875,
          0.8857142857142857,
          0.8505154639175257,
          0.7169811320754716
         ],
         "xaxis": "x",
         "y": [
          "EMS Josh (NMI)",
          "Quantum (NMI)",
          "Payarc Josh (NMI)",
          "Seamless Chex (Auth.net)"
         ],
         "yaxis": "y"
        },
        {
         "alignmentgroup": "True",
         "customdata": [
          [
           "601100",
           "OptiFuel",
           147,
           74
          ],
          [
           "601100",
           "OptiFuel",
           69,
           33
          ],
          [
           "601100",
           "OptiFuel",
           199,
           90
          ],
          [
           "601100",
           "OptiFuel",
           71,
           26
          ],
          [
           "601100",
           "OptiFuel",
           108,
           34
          ]
         ],
         "hovertemplate": "Bin-Campaign=601100 - OptiFuel<br>success_rate=%{text}<br>merchant=%{y}<br>cardBin=%{customdata[0]}<br>campaignName=%{customdata[1]}<br>total_txns=%{customdata[2]}<br>success_count=%{customdata[3]}<extra></extra>",
         "legendgroup": "601100 - OptiFuel",
         "marker": {
          "color": "#FF97FF",
          "pattern": {
           "shape": ""
          }
         },
         "name": "601100 - OptiFuel",
         "offsetgroup": "601100 - OptiFuel",
         "orientation": "h",
         "showlegend": true,
         "text": [
          0.5034013605442177,
          0.4782608695652174,
          0.45226130653266333,
          0.36619718309859156,
          0.3148148148148148
         ],
         "textposition": "outside",
         "texttemplate": "%{text:.2f}",
         "type": "bar",
         "x": [
          0.5034013605442177,
          0.4782608695652174,
          0.45226130653266333,
          0.36619718309859156,
          0.3148148148148148
         ],
         "xaxis": "x",
         "y": [
          "EMS Josh (NMI)",
          "Quantum (NMI)",
          "Payarc Josh (NMI)",
          "Phoenix (NMI)",
          "Seamless Chex (Auth.net)"
         ],
         "yaxis": "y"
        },
        {
         "alignmentgroup": "True",
         "customdata": [
          [
           "601101",
           "OptiFuel",
           67,
           35
          ],
          [
           "601101",
           "OptiFuel",
           100,
           51
          ],
          [
           "601101",
           "OptiFuel",
           70,
           35
          ],
          [
           "601101",
           "OptiFuel",
           56,
           23
          ],
          [
           "601101",
           "OptiFuel",
           118,
           41
          ]
         ],
         "hovertemplate": "Bin-Campaign=601101 - OptiFuel<br>success_rate=%{text}<br>merchant=%{y}<br>cardBin=%{customdata[0]}<br>campaignName=%{customdata[1]}<br>total_txns=%{customdata[2]}<br>success_count=%{customdata[3]}<extra></extra>",
         "legendgroup": "601101 - OptiFuel",
         "marker": {
          "color": "#FECB52",
          "pattern": {
           "shape": ""
          }
         },
         "name": "601101 - OptiFuel",
         "offsetgroup": "601101 - OptiFuel",
         "orientation": "h",
         "showlegend": true,
         "text": [
          0.5223880597014925,
          0.51,
          0.5,
          0.4107142857142857,
          0.3474576271186441
         ],
         "textposition": "outside",
         "texttemplate": "%{text:.2f}",
         "type": "bar",
         "x": [
          0.5223880597014925,
          0.51,
          0.5,
          0.4107142857142857,
          0.3474576271186441
         ],
         "xaxis": "x",
         "y": [
          "Quantum (NMI)",
          "EMS Josh (NMI)",
          "Phoenix (NMI)",
          "Seamless Chex (Auth.net)",
          "Payarc Josh (NMI)"
         ],
         "yaxis": "y"
        }
       ],
       "layout": {
        "barmode": "relative",
        "height": 600,
        "legend": {
         "title": {
          "text": "Bin-Campaign"
         },
         "tracegroupgap": 0
        },
        "template": {
         "data": {
          "bar": [
           {
            "error_x": {
             "color": "#2a3f5f"
            },
            "error_y": {
             "color": "#2a3f5f"
            },
            "marker": {
             "line": {
              "color": "#E5ECF6",
              "width": 0.5
             },
             "pattern": {
              "fillmode": "overlay",
              "size": 10,
              "solidity": 0.2
             }
            },
            "type": "bar"
           }
          ],
          "barpolar": [
           {
            "marker": {
             "line": {
              "color": "#E5ECF6",
              "width": 0.5
             },
             "pattern": {
              "fillmode": "overlay",
              "size": 10,
              "solidity": 0.2
             }
            },
            "type": "barpolar"
           }
          ],
          "carpet": [
           {
            "aaxis": {
             "endlinecolor": "#2a3f5f",
             "gridcolor": "white",
             "linecolor": "white",
             "minorgridcolor": "white",
             "startlinecolor": "#2a3f5f"
            },
            "baxis": {
             "endlinecolor": "#2a3f5f",
             "gridcolor": "white",
             "linecolor": "white",
             "minorgridcolor": "white",
             "startlinecolor": "#2a3f5f"
            },
            "type": "carpet"
           }
          ],
          "choropleth": [
           {
            "colorbar": {
             "outlinewidth": 0,
             "ticks": ""
            },
            "type": "choropleth"
           }
          ],
          "contour": [
           {
            "colorbar": {
             "outlinewidth": 0,
             "ticks": ""
            },
            "colorscale": [
             [
              0,
              "#0d0887"
             ],
             [
              0.1111111111111111,
              "#46039f"
             ],
             [
              0.2222222222222222,
              "#7201a8"
             ],
             [
              0.3333333333333333,
              "#9c179e"
             ],
             [
              0.4444444444444444,
              "#bd3786"
             ],
             [
              0.5555555555555556,
              "#d8576b"
             ],
             [
              0.6666666666666666,
              "#ed7953"
             ],
             [
              0.7777777777777778,
              "#fb9f3a"
             ],
             [
              0.8888888888888888,
              "#fdca26"
             ],
             [
              1,
              "#f0f921"
             ]
            ],
            "type": "contour"
           }
          ],
          "contourcarpet": [
           {
            "colorbar": {
             "outlinewidth": 0,
             "ticks": ""
            },
            "type": "contourcarpet"
           }
          ],
          "heatmap": [
           {
            "colorbar": {
             "outlinewidth": 0,
             "ticks": ""
            },
            "colorscale": [
             [
              0,
              "#0d0887"
             ],
             [
              0.1111111111111111,
              "#46039f"
             ],
             [
              0.2222222222222222,
              "#7201a8"
             ],
             [
              0.3333333333333333,
              "#9c179e"
             ],
             [
              0.4444444444444444,
              "#bd3786"
             ],
             [
              0.5555555555555556,
              "#d8576b"
             ],
             [
              0.6666666666666666,
              "#ed7953"
             ],
             [
              0.7777777777777778,
              "#fb9f3a"
             ],
             [
              0.8888888888888888,
              "#fdca26"
             ],
             [
              1,
              "#f0f921"
             ]
            ],
            "type": "heatmap"
           }
          ],
          "heatmapgl": [
           {
            "colorbar": {
             "outlinewidth": 0,
             "ticks": ""
            },
            "colorscale": [
             [
              0,
              "#0d0887"
             ],
             [
              0.1111111111111111,
              "#46039f"
             ],
             [
              0.2222222222222222,
              "#7201a8"
             ],
             [
              0.3333333333333333,
              "#9c179e"
             ],
             [
              0.4444444444444444,
              "#bd3786"
             ],
             [
              0.5555555555555556,
              "#d8576b"
             ],
             [
              0.6666666666666666,
              "#ed7953"
             ],
             [
              0.7777777777777778,
              "#fb9f3a"
             ],
             [
              0.8888888888888888,
              "#fdca26"
             ],
             [
              1,
              "#f0f921"
             ]
            ],
            "type": "heatmapgl"
           }
          ],
          "histogram": [
           {
            "marker": {
             "pattern": {
              "fillmode": "overlay",
              "size": 10,
              "solidity": 0.2
             }
            },
            "type": "histogram"
           }
          ],
          "histogram2d": [
           {
            "colorbar": {
             "outlinewidth": 0,
             "ticks": ""
            },
            "colorscale": [
             [
              0,
              "#0d0887"
             ],
             [
              0.1111111111111111,
              "#46039f"
             ],
             [
              0.2222222222222222,
              "#7201a8"
             ],
             [
              0.3333333333333333,
              "#9c179e"
             ],
             [
              0.4444444444444444,
              "#bd3786"
             ],
             [
              0.5555555555555556,
              "#d8576b"
             ],
             [
              0.6666666666666666,
              "#ed7953"
             ],
             [
              0.7777777777777778,
              "#fb9f3a"
             ],
             [
              0.8888888888888888,
              "#fdca26"
             ],
             [
              1,
              "#f0f921"
             ]
            ],
            "type": "histogram2d"
           }
          ],
          "histogram2dcontour": [
           {
            "colorbar": {
             "outlinewidth": 0,
             "ticks": ""
            },
            "colorscale": [
             [
              0,
              "#0d0887"
             ],
             [
              0.1111111111111111,
              "#46039f"
             ],
             [
              0.2222222222222222,
              "#7201a8"
             ],
             [
              0.3333333333333333,
              "#9c179e"
             ],
             [
              0.4444444444444444,
              "#bd3786"
             ],
             [
              0.5555555555555556,
              "#d8576b"
             ],
             [
              0.6666666666666666,
              "#ed7953"
             ],
             [
              0.7777777777777778,
              "#fb9f3a"
             ],
             [
              0.8888888888888888,
              "#fdca26"
             ],
             [
              1,
              "#f0f921"
             ]
            ],
            "type": "histogram2dcontour"
           }
          ],
          "mesh3d": [
           {
            "colorbar": {
             "outlinewidth": 0,
             "ticks": ""
            },
            "type": "mesh3d"
           }
          ],
          "parcoords": [
           {
            "line": {
             "colorbar": {
              "outlinewidth": 0,
              "ticks": ""
             }
            },
            "type": "parcoords"
           }
          ],
          "pie": [
           {
            "automargin": true,
            "type": "pie"
           }
          ],
          "scatter": [
           {
            "fillpattern": {
             "fillmode": "overlay",
             "size": 10,
             "solidity": 0.2
            },
            "type": "scatter"
           }
          ],
          "scatter3d": [
           {
            "line": {
             "colorbar": {
              "outlinewidth": 0,
              "ticks": ""
             }
            },
            "marker": {
             "colorbar": {
              "outlinewidth": 0,
              "ticks": ""
             }
            },
            "type": "scatter3d"
           }
          ],
          "scattercarpet": [
           {
            "marker": {
             "colorbar": {
              "outlinewidth": 0,
              "ticks": ""
             }
            },
            "type": "scattercarpet"
           }
          ],
          "scattergeo": [
           {
            "marker": {
             "colorbar": {
              "outlinewidth": 0,
              "ticks": ""
             }
            },
            "type": "scattergeo"
           }
          ],
          "scattergl": [
           {
            "marker": {
             "colorbar": {
              "outlinewidth": 0,
              "ticks": ""
             }
            },
            "type": "scattergl"
           }
          ],
          "scattermapbox": [
           {
            "marker": {
             "colorbar": {
              "outlinewidth": 0,
              "ticks": ""
             }
            },
            "type": "scattermapbox"
           }
          ],
          "scatterpolar": [
           {
            "marker": {
             "colorbar": {
              "outlinewidth": 0,
              "ticks": ""
             }
            },
            "type": "scatterpolar"
           }
          ],
          "scatterpolargl": [
           {
            "marker": {
             "colorbar": {
              "outlinewidth": 0,
              "ticks": ""
             }
            },
            "type": "scatterpolargl"
           }
          ],
          "scatterternary": [
           {
            "marker": {
             "colorbar": {
              "outlinewidth": 0,
              "ticks": ""
             }
            },
            "type": "scatterternary"
           }
          ],
          "surface": [
           {
            "colorbar": {
             "outlinewidth": 0,
             "ticks": ""
            },
            "colorscale": [
             [
              0,
              "#0d0887"
             ],
             [
              0.1111111111111111,
              "#46039f"
             ],
             [
              0.2222222222222222,
              "#7201a8"
             ],
             [
              0.3333333333333333,
              "#9c179e"
             ],
             [
              0.4444444444444444,
              "#bd3786"
             ],
             [
              0.5555555555555556,
              "#d8576b"
             ],
             [
              0.6666666666666666,
              "#ed7953"
             ],
             [
              0.7777777777777778,
              "#fb9f3a"
             ],
             [
              0.8888888888888888,
              "#fdca26"
             ],
             [
              1,
              "#f0f921"
             ]
            ],
            "type": "surface"
           }
          ],
          "table": [
           {
            "cells": {
             "fill": {
              "color": "#EBF0F8"
             },
             "line": {
              "color": "white"
             }
            },
            "header": {
             "fill": {
              "color": "#C8D4E3"
             },
             "line": {
              "color": "white"
             }
            },
            "type": "table"
           }
          ]
         },
         "layout": {
          "annotationdefaults": {
           "arrowcolor": "#2a3f5f",
           "arrowhead": 0,
           "arrowwidth": 1
          },
          "autotypenumbers": "strict",
          "coloraxis": {
           "colorbar": {
            "outlinewidth": 0,
            "ticks": ""
           }
          },
          "colorscale": {
           "diverging": [
            [
             0,
             "#8e0152"
            ],
            [
             0.1,
             "#c51b7d"
            ],
            [
             0.2,
             "#de77ae"
            ],
            [
             0.3,
             "#f1b6da"
            ],
            [
             0.4,
             "#fde0ef"
            ],
            [
             0.5,
             "#f7f7f7"
            ],
            [
             0.6,
             "#e6f5d0"
            ],
            [
             0.7,
             "#b8e186"
            ],
            [
             0.8,
             "#7fbc41"
            ],
            [
             0.9,
             "#4d9221"
            ],
            [
             1,
             "#276419"
            ]
           ],
           "sequential": [
            [
             0,
             "#0d0887"
            ],
            [
             0.1111111111111111,
             "#46039f"
            ],
            [
             0.2222222222222222,
             "#7201a8"
            ],
            [
             0.3333333333333333,
             "#9c179e"
            ],
            [
             0.4444444444444444,
             "#bd3786"
            ],
            [
             0.5555555555555556,
             "#d8576b"
            ],
            [
             0.6666666666666666,
             "#ed7953"
            ],
            [
             0.7777777777777778,
             "#fb9f3a"
            ],
            [
             0.8888888888888888,
             "#fdca26"
            ],
            [
             1,
             "#f0f921"
            ]
           ],
           "sequentialminus": [
            [
             0,
             "#0d0887"
            ],
            [
             0.1111111111111111,
             "#46039f"
            ],
            [
             0.2222222222222222,
             "#7201a8"
            ],
            [
             0.3333333333333333,
             "#9c179e"
            ],
            [
             0.4444444444444444,
             "#bd3786"
            ],
            [
             0.5555555555555556,
             "#d8576b"
            ],
            [
             0.6666666666666666,
             "#ed7953"
            ],
            [
             0.7777777777777778,
             "#fb9f3a"
            ],
            [
             0.8888888888888888,
             "#fdca26"
            ],
            [
             1,
             "#f0f921"
            ]
           ]
          },
          "colorway": [
           "#636efa",
           "#EF553B",
           "#00cc96",
           "#ab63fa",
           "#FFA15A",
           "#19d3f3",
           "#FF6692",
           "#B6E880",
           "#FF97FF",
           "#FECB52"
          ],
          "font": {
           "color": "#2a3f5f"
          },
          "geo": {
           "bgcolor": "white",
           "lakecolor": "white",
           "landcolor": "#E5ECF6",
           "showlakes": true,
           "showland": true,
           "subunitcolor": "white"
          },
          "hoverlabel": {
           "align": "left"
          },
          "hovermode": "closest",
          "mapbox": {
           "style": "light"
          },
          "paper_bgcolor": "white",
          "plot_bgcolor": "#E5ECF6",
          "polar": {
           "angularaxis": {
            "gridcolor": "white",
            "linecolor": "white",
            "ticks": ""
           },
           "bgcolor": "#E5ECF6",
           "radialaxis": {
            "gridcolor": "white",
            "linecolor": "white",
            "ticks": ""
           }
          },
          "scene": {
           "xaxis": {
            "backgroundcolor": "#E5ECF6",
            "gridcolor": "white",
            "gridwidth": 2,
            "linecolor": "white",
            "showbackground": true,
            "ticks": "",
            "zerolinecolor": "white"
           },
           "yaxis": {
            "backgroundcolor": "#E5ECF6",
            "gridcolor": "white",
            "gridwidth": 2,
            "linecolor": "white",
            "showbackground": true,
            "ticks": "",
            "zerolinecolor": "white"
           },
           "zaxis": {
            "backgroundcolor": "#E5ECF6",
            "gridcolor": "white",
            "gridwidth": 2,
            "linecolor": "white",
            "showbackground": true,
            "ticks": "",
            "zerolinecolor": "white"
           }
          },
          "shapedefaults": {
           "line": {
            "color": "#2a3f5f"
           }
          },
          "ternary": {
           "aaxis": {
            "gridcolor": "white",
            "linecolor": "white",
            "ticks": ""
           },
           "baxis": {
            "gridcolor": "white",
            "linecolor": "white",
            "ticks": ""
           },
           "bgcolor": "#E5ECF6",
           "caxis": {
            "gridcolor": "white",
            "linecolor": "white",
            "ticks": ""
           }
          },
          "title": {
           "x": 0.05
          },
          "xaxis": {
           "automargin": true,
           "gridcolor": "white",
           "linecolor": "white",
           "ticks": "",
           "title": {
            "standoff": 15
           },
           "zerolinecolor": "white",
           "zerolinewidth": 2
          },
          "yaxis": {
           "automargin": true,
           "gridcolor": "white",
           "linecolor": "white",
           "ticks": "",
           "title": {
            "standoff": 15
           },
           "zerolinecolor": "white",
           "zerolinewidth": 2
          }
         }
        },
        "title": {
         "text": "Top Merchants by Success Rate (Grouped by BIN + Campaign)"
        },
        "xaxis": {
         "anchor": "y",
         "domain": [
          0,
          1
         ],
         "title": {
          "text": "success_rate"
         }
        },
        "yaxis": {
         "anchor": "x",
         "categoryorder": "total ascending",
         "domain": [
          0,
          1
         ],
         "title": {
          "text": "merchant"
         }
        }
       }
      },
      "image/png": "[encoded data removed]",
      "text/html": [
       "<div>                            <div id=\"177d33df-4626-4886-a8b0-8be5a5622168\" class=\"plotly-graph-div\" style=\"height:600px; width:100%;\"></div>            <script type=\"text/javascript\">                require([\"plotly\"], function(Plotly) {                    window.PLOTLYENV=window.PLOTLYENV || {};                                    if (document.getElementById(\"177d33df-4626-4886-a8b0-8be5a5622168\")) {                    Plotly.newPlot(                        \"177d33df-4626-4886-a8b0-8be5a5622168\",                        [{\"alignmentgroup\":\"True\",\"customdata\":[[\"410039\",\"OptiFuel\",194,173],[\"410039\",\"OptiFuel\",209,186],[\"410039\",\"OptiFuel\",68,59],[\"410039\",\"OptiFuel\",280,241],[\"410039\",\"OptiFuel\",122,94],[\"410039\",\"OptiFuel\",111,75]],\"hovertemplate\":\"Bin-Campaign=410039 - OptiFuel\\u003cbr\\u003esuccess_rate=%{text}\\u003cbr\\u003emerchant=%{y}\\u003cbr\\u003ecardBin=%{customdata[0]}\\u003cbr\\u003ecampaignName=%{customdata[1]}\\u003cbr\\u003etotal_txns=%{customdata[2]}\\u003cbr\\u003esuccess_count=%{customdata[3]}\\u003cextra\\u003e\\u003c\\u002fextra\\u003e\",\"legendgroup\":\"410039 - OptiFuel\",\"marker\":{\"color\":\"#636efa\",\"pattern\":{\"shape\":\"\"}},\"name\":\"410039 - OptiFuel\",\"offsetgroup\":\"410039 - OptiFuel\",\"orientation\":\"h\",\"showlegend\":true,\"text\":[0.8917525773195877,0.8899521531100478,0.8676470588235294,0.8607142857142858,0.7704918032786885,0.6756756756756757],\"textposition\":\"outside\",\"x\":[0.8917525773195877,0.8899521531100478,0.8676470588235294,0.8607142857142858,0.7704918032786885,0.6756756756756757],\"xaxis\":\"x\",\"y\":[\"EMS Josh (NMI)\",\"Quantum (NMI)\",\"NMI (EMS)\",\"Payarc Josh (NMI)\",\"Seamless Chex (Auth.net)\",\"Phoenix (NMI)\"],\"yaxis\":\"y\",\"type\":\"bar\",\"texttemplate\":\"%{text:.2f}\"},{\"alignmentgroup\":\"True\",\"customdata\":[[\"426684\",\"OptiFuel\",132,70],[\"426684\",\"OptiFuel\",54,23],[\"426684\",\"OptiFuel\",71,30],[\"426684\",\"OptiFuel\",127,36]],\"hovertemplate\":\"Bin-Campaign=426684 - OptiFuel\\u003cbr\\u003esuccess_rate=%{text}\\u003cbr\\u003emerchant=%{y}\\u003cbr\\u003ecardBin=%{customdata[0]}\\u003cbr\\u003ecampaignName=%{customdata[1]}\\u003cbr\\u003etotal_txns=%{customdata[2]}\\u003cbr\\u003esuccess_count=%{customdata[3]}\\u003cextra\\u003e\\u003c\\u002fextra\\u003e\",\"legendgroup\":\"426684 - OptiFuel\",\"marker\":{\"color\":\"#EF553B\",\"pattern\":{\"shape\":\"\"}},\"name\":\"426684 - OptiFuel\",\"offsetgroup\":\"426684 - OptiFuel\",\"orientation\":\"h\",\"showlegend\":true,\"text\":[0.5303030303030303,0.42592592592592593,0.4225352112676056,0.28346456692913385],\"textposition\":\"outside\",\"x\":[0.5303030303030303,0.42592592592592593,0.4225352112676056,0.28346456692913385],\"xaxis\":\"x\",\"y\":[\"EMS Josh (NMI)\",\"Phoenix (NMI)\",\"Quantum (NMI)\",\"Payarc Josh (NMI)\"],\"yaxis\":\"y\",\"type\":\"bar\",\"texttemplate\":\"%{text:.2f}\"},{\"alignmentgroup\":\"True\",\"customdata\":[[\"440066\",\"OptiFuel\",147,108],[\"440066\",\"OptiFuel\",116,73],[\"440066\",\"OptiFuel\",60,28],[\"440066\",\"OptiFuel\",69,25]],\"hovertemplate\":\"Bin-Campaign=440066 - OptiFuel\\u003cbr\\u003esuccess_rate=%{text}\\u003cbr\\u003emerchant=%{y}\\u003cbr\\u003ecardBin=%{customdata[0]}\\u003cbr\\u003ecampaignName=%{customdata[1]}\\u003cbr\\u003etotal_txns=%{customdata[2]}\\u003cbr\\u003esuccess_count=%{customdata[3]}\\u003cextra\\u003e\\u003c\\u002fextra\\u003e\",\"legendgroup\":\"440066 - OptiFuel\",\"marker\":{\"color\":\"#00cc96\",\"pattern\":{\"shape\":\"\"}},\"name\":\"440066 - OptiFuel\",\"offsetgroup\":\"440066 - OptiFuel\",\"orientation\":\"h\",\"showlegend\":true,\"text\":[0.7346938775510204,0.6293103448275862,0.4666666666666667,0.36231884057971014],\"textposition\":\"outside\",\"x\":[0.7346938775510204,0.6293103448275862,0.4666666666666667,0.36231884057971014],\"xaxis\":\"x\",\"y\":[\"EMS Josh (NMI)\",\"Payarc Josh (NMI)\",\"Quantum (NMI)\",\"Seamless Chex (Auth.net)\"],\"yaxis\":\"y\",\"type\":\"bar\",\"texttemplate\":\"%{text:.2f}\"},{\"alignmentgroup\":\"True\",\"customdata\":[[\"446291\",\"BTE Hearing CIC Pro (Native) - UK\",193,82],[\"446291\",\"BTE Hearing CIC Pro (Native) - UK\",140,54]],\"hovertemplate\":\"Bin-Campaign=446291 - BTE Hearing CIC Pro (Native) - UK\\u003cbr\\u003esuccess_rate=%{text}\\u003cbr\\u003emerchant=%{y}\\u003cbr\\u003ecardBin=%{customdata[0]}\\u003cbr\\u003ecampaignName=%{customdata[1]}\\u003cbr\\u003etotal_txns=%{customdata[2]}\\u003cbr\\u003esuccess_count=%{customdata[3]}\\u003cextra\\u003e\\u003c\\u002fextra\\u003e\",\"legendgroup\":\"446291 - BTE Hearing CIC Pro (Native) - UK\",\"marker\":{\"color\":\"#ab63fa\",\"pattern\":{\"shape\":\"\"}},\"name\":\"446291 - BTE Hearing CIC Pro (Native) - UK\",\"offsetgroup\":\"446291 - BTE Hearing CIC Pro (Native) - UK\",\"orientation\":\"h\",\"showlegend\":true,\"text\":[0.42487046632124353,0.38571428571428573],\"textposition\":\"outside\",\"x\":[0.42487046632124353,0.38571428571428573],\"xaxis\":\"x\",\"y\":[\"Adyen US\",\"ADYEN AU\"],\"yaxis\":\"y\",\"type\":\"bar\",\"texttemplate\":\"%{text:.2f}\"},{\"alignmentgroup\":\"True\",\"customdata\":[[\"517805\",\"OptiFuel\",62,25],[\"517805\",\"OptiFuel\",161,54],[\"517805\",\"OptiFuel\",258,76],[\"517805\",\"OptiFuel\",94,26],[\"517805\",\"OptiFuel\",126,24]],\"hovertemplate\":\"Bin-Campaign=517805 - OptiFuel\\u003cbr\\u003esuccess_rate=%{text}\\u003cbr\\u003emerchant=%{y}\\u003cbr\\u003ecardBin=%{customdata[0]}\\u003cbr\\u003ecampaignName=%{customdata[1]}\\u003cbr\\u003etotal_txns=%{customdata[2]}\\u003cbr\\u003esuccess_count=%{customdata[3]}\\u003cextra\\u003e\\u003c\\u002fextra\\u003e\",\"legendgroup\":\"517805 - OptiFuel\",\"marker\":{\"color\":\"#FFA15A\",\"pattern\":{\"shape\":\"\"}},\"name\":\"517805 - OptiFuel\",\"offsetgroup\":\"517805 - OptiFuel\",\"orientation\":\"h\",\"showlegend\":true,\"text\":[0.4032258064516129,0.33540372670807456,0.29457364341085274,0.2765957446808511,0.19047619047619047],\"textposition\":\"outside\",\"x\":[0.4032258064516129,0.33540372670807456,0.29457364341085274,0.2765957446808511,0.19047619047619047],\"xaxis\":\"x\",\"y\":[\"NMI (EMS)\",\"EMS Josh (NMI)\",\"Payarc Josh (NMI)\",\"Phoenix (NMI)\",\"Quantum (NMI)\"],\"yaxis\":\"y\",\"type\":\"bar\",\"texttemplate\":\"%{text:.2f}\"},{\"alignmentgroup\":\"True\",\"customdata\":[[\"535666\",\"BTE Hearing CIC Pro (Native) - UK\",177,103],[\"535666\",\"BTE Hearing CIC Pro (Native) - UK\",256,62]],\"hovertemplate\":\"Bin-Campaign=535666 - BTE Hearing CIC Pro (Native) - UK\\u003cbr\\u003esuccess_rate=%{text}\\u003cbr\\u003emerchant=%{y}\\u003cbr\\u003ecardBin=%{customdata[0]}\\u003cbr\\u003ecampaignName=%{customdata[1]}\\u003cbr\\u003etotal_txns=%{customdata[2]}\\u003cbr\\u003esuccess_count=%{customdata[3]}\\u003cextra\\u003e\\u003c\\u002fextra\\u003e\",\"legendgroup\":\"535666 - BTE Hearing CIC Pro (Native) - UK\",\"marker\":{\"color\":\"#19d3f3\",\"pattern\":{\"shape\":\"\"}},\"name\":\"535666 - BTE Hearing CIC Pro (Native) - UK\",\"offsetgroup\":\"535666 - BTE Hearing CIC Pro (Native) - UK\",\"orientation\":\"h\",\"showlegend\":true,\"text\":[0.5819209039548022,0.2421875],\"textposition\":\"outside\",\"x\":[0.5819209039548022,0.2421875],\"xaxis\":\"x\",\"y\":[\"ADYEN AU\",\"Adyen US\"],\"yaxis\":\"y\",\"type\":\"bar\",\"texttemplate\":\"%{text:.2f}\"},{\"alignmentgroup\":\"True\",\"customdata\":[[\"537410\",\"BTE Hearing CIC Pro (Native) - UK\",181,108],[\"537410\",\"BTE Hearing CIC Pro (Native) - UK\",247,141]],\"hovertemplate\":\"Bin-Campaign=537410 - BTE Hearing CIC Pro (Native) - UK\\u003cbr\\u003esuccess_rate=%{text}\\u003cbr\\u003emerchant=%{y}\\u003cbr\\u003ecardBin=%{customdata[0]}\\u003cbr\\u003ecampaignName=%{customdata[1]}\\u003cbr\\u003etotal_txns=%{customdata[2]}\\u003cbr\\u003esuccess_count=%{customdata[3]}\\u003cextra\\u003e\\u003c\\u002fextra\\u003e\",\"legendgroup\":\"537410 - BTE Hearing CIC Pro (Native) - UK\",\"marker\":{\"color\":\"#FF6692\",\"pattern\":{\"shape\":\"\"}},\"name\":\"537410 - BTE Hearing CIC Pro (Native) - UK\",\"offsetgroup\":\"537410 - BTE Hearing CIC Pro (Native) - UK\",\"orientation\":\"h\",\"showlegend\":true,\"text\":[0.5966850828729282,0.5708502024291497],\"textposition\":\"outside\",\"x\":[0.5966850828729282,0.5708502024291497],\"xaxis\":\"x\",\"y\":[\"ADYEN AU\",\"Adyen US\"],\"yaxis\":\"y\",\"type\":\"bar\",\"texttemplate\":\"%{text:.2f}\"},{\"alignmentgroup\":\"True\",\"customdata\":[[\"542418\",\"OptiFuel\",80,71],[\"542418\",\"OptiFuel\",105,93],[\"542418\",\"OptiFuel\",194,165],[\"542418\",\"OptiFuel\",106,76]],\"hovertemplate\":\"Bin-Campaign=542418 - OptiFuel\\u003cbr\\u003esuccess_rate=%{text}\\u003cbr\\u003emerchant=%{y}\\u003cbr\\u003ecardBin=%{customdata[0]}\\u003cbr\\u003ecampaignName=%{customdata[1]}\\u003cbr\\u003etotal_txns=%{customdata[2]}\\u003cbr\\u003esuccess_count=%{customdata[3]}\\u003cextra\\u003e\\u003c\\u002fextra\\u003e\",\"legendgroup\":\"542418 - OptiFuel\",\"marker\":{\"color\":\"#B6E880\",\"pattern\":{\"shape\":\"\"}},\"name\":\"542418 - OptiFuel\",\"offsetgroup\":\"542418 - OptiFuel\",\"orientation\":\"h\",\"showlegend\":true,\"text\":[0.8875,0.8857142857142857,0.8505154639175257,0.7169811320754716],\"textposition\":\"outside\",\"x\":[0.8875,0.8857142857142857,0.8505154639175257,0.7169811320754716],\"xaxis\":\"x\",\"y\":[\"EMS Josh (NMI)\",\"Quantum (NMI)\",\"Payarc Josh (NMI)\",\"Seamless Chex (Auth.net)\"],\"yaxis\":\"y\",\"type\":\"bar\",\"texttemplate\":\"%{text:.2f}\"},{\"alignmentgroup\":\"True\",\"customdata\":[[\"601100\",\"OptiFuel\",147,74],[\"601100\",\"OptiFuel\",69,33],[\"601100\",\"OptiFuel\",199,90],[\"601100\",\"OptiFuel\",71,26],[\"601100\",\"OptiFuel\",108,34]],\"hovertemplate\":\"Bin-Campaign=601100 - OptiFuel\\u003cbr\\u003esuccess_rate=%{text}\\u003cbr\\u003emerchant=%{y}\\u003cbr\\u003ecardBin=%{customdata[0]}\\u003cbr\\u003ecampaignName=%{customdata[1]}\\u003cbr\\u003etotal_txns=%{customdata[2]}\\u003cbr\\u003esuccess_count=%{customdata[3]}\\u003cextra\\u003e\\u003c\\u002fextra\\u003e\",\"legendgroup\":\"601100 - OptiFuel\",\"marker\":{\"color\":\"#FF97FF\",\"pattern\":{\"shape\":\"\"}},\"name\":\"601100 - OptiFuel\",\"offsetgroup\":\"601100 - OptiFuel\",\"orientation\":\"h\",\"showlegend\":true,\"text\":[0.5034013605442177,0.4782608695652174,0.45226130653266333,0.36619718309859156,0.3148148148148148],\"textposition\":\"outside\",\"x\":[0.5034013605442177,0.4782608695652174,0.45226130653266333,0.36619718309859156,0.3148148148148148],\"xaxis\":\"x\",\"y\":[\"EMS Josh (NMI)\",\"Quantum (NMI)\",\"Payarc Josh (NMI)\",\"Phoenix (NMI)\",\"Seamless Chex (Auth.net)\"],\"yaxis\":\"y\",\"type\":\"bar\",\"texttemplate\":\"%{text:.2f}\"},{\"alignmentgroup\":\"True\",\"customdata\":[[\"601101\",\"OptiFuel\",67,35],[\"601101\",\"OptiFuel\",100,51],[\"601101\",\"OptiFuel\",70,35],[\"601101\",\"OptiFuel\",56,23],[\"601101\",\"OptiFuel\",118,41]],\"hovertemplate\":\"Bin-Campaign=601101 - OptiFuel\\u003cbr\\u003esuccess_rate=%{text}\\u003cbr\\u003emerchant=%{y}\\u003cbr\\u003ecardBin=%{customdata[0]}\\u003cbr\\u003ecampaignName=%{customdata[1]}\\u003cbr\\u003etotal_txns=%{customdata[2]}\\u003cbr\\u003esuccess_count=%{customdata[3]}\\u003cextra\\u003e\\u003c\\u002fextra\\u003e\",\"legendgroup\":\"601101 - OptiFuel\",\"marker\":{\"color\":\"#FECB52\",\"pattern\":{\"shape\":\"\"}},\"name\":\"601101 - OptiFuel\",\"offsetgroup\":\"601101 - OptiFuel\",\"orientation\":\"h\",\"showlegend\":true,\"text\":[0.5223880597014925,0.51,0.5,0.4107142857142857,0.3474576271186441],\"textposition\":\"outside\",\"x\":[0.5223880597014925,0.51,0.5,0.4107142857142857,0.3474576271186441],\"xaxis\":\"x\",\"y\":[\"Quantum (NMI)\",\"EMS Josh (NMI)\",\"Phoenix (NMI)\",\"Seamless Chex (Auth.net)\",\"Payarc Josh (NMI)\"],\"yaxis\":\"y\",\"type\":\"bar\",\"texttemplate\":\"%{text:.2f}\"}],                        {\"template\":{\"data\":{\"histogram2dcontour\":[{\"type\":\"histogram2dcontour\",\"colorbar\":{\"outlinewidth\":0,\"ticks\":\"\"},\"colorscale\":[[0.0,\"#0d0887\"],[0.1111111111111111,\"#46039f\"],[0.2222222222222222,\"#7201a8\"],[0.3333333333333333,\"#9c179e\"],[0.4444444444444444,\"#bd3786\"],[0.5555555555555556,\"#d8576b\"],[0.6666666666666666,\"#ed7953\"],[0.7777777777777778,\"#fb9f3a\"],[0.8888888888888888,\"#fdca26\"],[1.0,\"#f0f921\"]]}],\"choropleth\":[{\"type\":\"choropleth\",\"colorbar\":{\"outlinewidth\":0,\"ticks\":\"\"}}],\"histogram2d\":[{\"type\":\"histogram2d\",\"colorbar\":{\"outlinewidth\":0,\"ticks\":\"\"},\"colorscale\":[[0.0,\"#0d0887\"],[0.1111111111111111,\"#46039f\"],[0.2222222222222222,\"#7201a8\"],[0.3333333333333333,\"#9c179e\"],[0.4444444444444444,\"#bd3786\"],[0.5555555555555556,\"#d8576b\"],[0.6666666666666666,\"#ed7953\"],[0.7777777777777778,\"#fb9f3a\"],[0.8888888888888888,\"#fdca26\"],[1.0,\"#f0f921\"]]}],\"heatmap\":[{\"type\":\"heatmap\",\"colorbar\":{\"outlinewidth\":0,\"ticks\":\"\"},\"colorscale\":[[0.0,\"#0d0887\"],[0.1111111111111111,\"#46039f\"],[0.2222222222222222,\"#7201a8\"],[0.3333333333333333,\"#9c179e\"],[0.4444444444444444,\"#bd3786\"],[0.5555555555555556,\"#d8576b\"],[0.6666666666666666,\"#ed7953\"],[0.7777777777777778,\"#fb9f3a\"],[0.8888888888888888,\"#fdca26\"],[1.0,\"#f0f921\"]]}],\"heatmapgl\":[{\"type\":\"heatmapgl\",\"colorbar\":{\"outlinewidth\":0,\"ticks\":\"\"},\"colorscale\":[[0.0,\"#0d0887\"],[0.1111111111111111,\"#46039f\"],[0.2222222222222222,\"#7201a8\"],[0.3333333333333333,\"#9c179e\"],[0.4444444444444444,\"#bd3786\"],[0.5555555555555556,\"#d8576b\"],[0.6666666666666666,\"#ed7953\"],[0.7777777777777778,\"#fb9f3a\"],[0.8888888888888888,\"#fdca26\"],[1.0,\"#f0f921\"]]}],\"contourcarpet\":[{\"type\":\"contourcarpet\",\"colorbar\":{\"outlinewidth\":0,\"ticks\":\"\"}}],\"contour\":[{\"type\":\"contour\",\"colorbar\":{\"outlinewidth\":0,\"ticks\":\"\"},\"colorscale\":[[0.0,\"#0d0887\"],[0.1111111111111111,\"#46039f\"],[0.2222222222222222,\"#7201a8\"],[0.3333333333333333,\"#9c179e\"],[0.4444444444444444,\"#bd3786\"],[0.5555555555555556,\"#d8576b\"],[0.6666666666666666,\"#ed7953\"],[0.7777777777777778,\"#fb9f3a\"],[0.8888888888888888,\"#fdca26\"],[1.0,\"#f0f921\"]]}],\"surface\":[{\"type\":\"surface\",\"colorbar\":{\"outlinewidth\":0,\"ticks\":\"\"},\"colorscale\":[[0.0,\"#0d0887\"],[0.1111111111111111,\"#46039f\"],[0.2222222222222222,\"#7201a8\"],[0.3333333333333333,\"#9c179e\"],[0.4444444444444444,\"#bd3786\"],[0.5555555555555556,\"#d8576b\"],[0.6666666666666666,\"#ed7953\"],[0.7777777777777778,\"#fb9f3a\"],[0.8888888888888888,\"#fdca26\"],[1.0,\"#f0f921\"]]}],\"mesh3d\":[{\"type\":\"mesh3d\",\"colorbar\":{\"outlinewidth\":0,\"ticks\":\"\"}}],\"scatter\":[{\"fillpattern\":{\"fillmode\":\"overlay\",\"size\":10,\"solidity\":0.2},\"type\":\"scatter\"}],\"parcoords\":[{\"type\":\"parcoords\",\"line\":{\"colorbar\":{\"outlinewidth\":0,\"ticks\":\"\"}}}],\"scatterpolargl\":[{\"type\":\"scatterpolargl\",\"marker\":{\"colorbar\":{\"outlinewidth\":0,\"ticks\":\"\"}}}],\"bar\":[{\"error_x\":{\"color\":\"#2a3f5f\"},\"error_y\":{\"color\":\"#2a3f5f\"},\"marker\":{\"line\":{\"color\":\"#E5ECF6\",\"width\":0.5},\"pattern\":{\"fillmode\":\"overlay\",\"size\":10,\"solidity\":0.2}},\"type\":\"bar\"}],\"scattergeo\":[{\"type\":\"scattergeo\",\"marker\":{\"colorbar\":{\"outlinewidth\":0,\"ticks\":\"\"}}}],\"scatterpolar\":[{\"type\":\"scatterpolar\",\"marker\":{\"colorbar\":{\"outlinewidth\":0,\"ticks\":\"\"}}}],\"histogram\":[{\"marker\":{\"pattern\":{\"fillmode\":\"overlay\",\"size\":10,\"solidity\":0.2}},\"type\":\"histogram\"}],\"scattergl\":[{\"type\":\"scattergl\",\"marker\":{\"colorbar\":{\"outlinewidth\":0,\"ticks\":\"\"}}}],\"scatter3d\":[{\"type\":\"scatter3d\",\"line\":{\"colorbar\":{\"outlinewidth\":0,\"ticks\":\"\"}},\"marker\":{\"colorbar\":{\"outlinewidth\":0,\"ticks\":\"\"}}}],\"scattermapbox\":[{\"type\":\"scattermapbox\",\"marker\":{\"colorbar\":{\"outlinewidth\":0,\"ticks\":\"\"}}}],\"scatterternary\":[{\"type\":\"scatterternary\",\"marker\":{\"colorbar\":{\"outlinewidth\":0,\"ticks\":\"\"}}}],\"scattercarpet\":[{\"type\":\"scattercarpet\",\"marker\":{\"colorbar\":{\"outlinewidth\":0,\"ticks\":\"\"}}}],\"carpet\":[{\"aaxis\":{\"endlinecolor\":\"#2a3f5f\",\"gridcolor\":\"white\",\"linecolor\":\"white\",\"minorgridcolor\":\"white\",\"startlinecolor\":\"#2a3f5f\"},\"baxis\":{\"endlinecolor\":\"#2a3f5f\",\"gridcolor\":\"white\",\"linecolor\":\"white\",\"minorgridcolor\":\"white\",\"startlinecolor\":\"#2a3f5f\"},\"type\":\"carpet\"}],\"table\":[{\"cells\":{\"fill\":{\"color\":\"#EBF0F8\"},\"line\":{\"color\":\"white\"}},\"header\":{\"fill\":{\"color\":\"#C8D4E3\"},\"line\":{\"color\":\"white\"}},\"type\":\"table\"}],\"barpolar\":[{\"marker\":{\"line\":{\"color\":\"#E5ECF6\",\"width\":0.5},\"pattern\":{\"fillmode\":\"overlay\",\"size\":10,\"solidity\":0.2}},\"type\":\"barpolar\"}],\"pie\":[{\"automargin\":true,\"type\":\"pie\"}]},\"layout\":{\"autotypenumbers\":\"strict\",\"colorway\":[\"#636efa\",\"#EF553B\",\"#00cc96\",\"#ab63fa\",\"#FFA15A\",\"#19d3f3\",\"#FF6692\",\"#B6E880\",\"#FF97FF\",\"#FECB52\"],\"font\":{\"color\":\"#2a3f5f\"},\"hovermode\":\"closest\",\"hoverlabel\":{\"align\":\"left\"},\"paper_bgcolor\":\"white\",\"plot_bgcolor\":\"#E5ECF6\",\"polar\":{\"bgcolor\":\"#E5ECF6\",\"angularaxis\":{\"gridcolor\":\"white\",\"linecolor\":\"white\",\"ticks\":\"\"},\"radialaxis\":{\"gridcolor\":\"white\",\"linecolor\":\"white\",\"ticks\":\"\"}},\"ternary\":{\"bgcolor\":\"#E5ECF6\",\"aaxis\":{\"gridcolor\":\"white\",\"linecolor\":\"white\",\"ticks\":\"\"},\"baxis\":{\"gridcolor\":\"white\",\"linecolor\":\"white\",\"ticks\":\"\"},\"caxis\":{\"gridcolor\":\"white\",\"linecolor\":\"white\",\"ticks\":\"\"}},\"coloraxis\":{\"colorbar\":{\"outlinewidth\":0,\"ticks\":\"\"}},\"colorscale\":{\"sequential\":[[0.0,\"#0d0887\"],[0.1111111111111111,\"#46039f\"],[0.2222222222222222,\"#7201a8\"],[0.3333333333333333,\"#9c179e\"],[0.4444444444444444,\"#bd3786\"],[0.5555555555555556,\"#d8576b\"],[0.6666666666666666,\"#ed7953\"],[0.7777777777777778,\"#fb9f3a\"],[0.8888888888888888,\"#fdca26\"],[1.0,\"#f0f921\"]],\"sequentialminus\":[[0.0,\"#0d0887\"],[0.1111111111111111,\"#46039f\"],[0.2222222222222222,\"#7201a8\"],[0.3333333333333333,\"#9c179e\"],[0.4444444444444444,\"#bd3786\"],[0.5555555555555556,\"#d8576b\"],[0.6666666666666666,\"#ed7953\"],[0.7777777777777778,\"#fb9f3a\"],[0.8888888888888888,\"#fdca26\"],[1.0,\"#f0f921\"]],\"diverging\":[[0,\"#8e0152\"],[0.1,\"#c51b7d\"],[0.2,\"#de77ae\"],[0.3,\"#f1b6da\"],[0.4,\"#fde0ef\"],[0.5,\"#f7f7f7\"],[0.6,\"#e6f5d0\"],[0.7,\"#b8e186\"],[0.8,\"#7fbc41\"],[0.9,\"#4d9221\"],[1,\"#276419\"]]},\"xaxis\":{\"gridcolor\":\"white\",\"linecolor\":\"white\",\"ticks\":\"\",\"title\":{\"standoff\":15},\"zerolinecolor\":\"white\",\"automargin\":true,\"zerolinewidth\":2},\"yaxis\":{\"gridcolor\":\"white\",\"linecolor\":\"white\",\"ticks\":\"\",\"title\":{\"standoff\":15},\"zerolinecolor\":\"white\",\"automargin\":true,\"zerolinewidth\":2},\"scene\":{\"xaxis\":{\"backgroundcolor\":\"#E5ECF6\",\"gridcolor\":\"white\",\"linecolor\":\"white\",\"showbackground\":true,\"ticks\":\"\",\"zerolinecolor\":\"white\",\"gridwidth\":2},\"yaxis\":{\"backgroundcolor\":\"#E5ECF6\",\"gridcolor\":\"white\",\"linecolor\":\"white\",\"showbackground\":true,\"ticks\":\"\",\"zerolinecolor\":\"white\",\"gridwidth\":2},\"zaxis\":{\"backgroundcolor\":\"#E5ECF6\",\"gridcolor\":\"white\",\"linecolor\":\"white\",\"showbackground\":true,\"ticks\":\"\",\"zerolinecolor\":\"white\",\"gridwidth\":2}},\"shapedefaults\":{\"line\":{\"color\":\"#2a3f5f\"}},\"annotationdefaults\":{\"arrowcolor\":\"#2a3f5f\",\"arrowhead\":0,\"arrowwidth\":1},\"geo\":{\"bgcolor\":\"white\",\"landcolor\":\"#E5ECF6\",\"subunitcolor\":\"white\",\"showland\":true,\"showlakes\":true,\"lakecolor\":\"white\"},\"title\":{\"x\":0.05},\"mapbox\":{\"style\":\"light\"}}},\"xaxis\":{\"anchor\":\"y\",\"domain\":[0.0,1.0],\"title\":{\"text\":\"success_rate\"}},\"yaxis\":{\"anchor\":\"x\",\"domain\":[0.0,1.0],\"title\":{\"text\":\"merchant\"},\"categoryorder\":\"total ascending\"},\"legend\":{\"title\":{\"text\":\"Bin-Campaign\"},\"tracegroupgap\":0},\"title\":{\"text\":\"Top Merchants by Success Rate (Grouped by BIN + Campaign)\"},\"barmode\":\"relative\",\"height\":600},                        {\"responsive\": true}                    ).then(function(){\n",
       "                            \n",
       "var gd = document.getElementById('177d33df-4626-4886-a8b0-8be5a5622168');\n",
       "var x = new MutationObserver(function (mutations, observer) {{\n",
       "        var display = window.getComputedStyle(gd).display;\n",
       "        if (!display || display === 'none') {{\n",
       "            console.log([gd, 'removed!']);\n",
       "            Plotly.purge(gd);\n",
       "            observer.disconnect();\n",
       "        }}\n",
       "}});\n",
       "\n",
       "// Listen for the removal of the full notebook cells\n",
       "var notebookContainer = gd.closest('#notebook-container');\n",
       "if (notebookContainer) {{\n",
       "    x.observe(notebookContainer, {childList: true});\n",
       "}}\n",
       "\n",
       "// Listen for the clearing of the current output cell\n",
       "var outputEl = gd.closest('.output');\n",
       "if (outputEl) {{\n",
       "    x.observe(outputEl, {childList: true});\n",
       "}}\n",
       "\n",
       "                        })                };                });            </script>        </div>"
      ]
     },
     "metadata": {},
     "output_type": "display_data"
    }
   ],
   "source": [
    "import plotly.express as px\n",
    "\n",
    "q1_result['Bin-Campaign'] = q1_result['cardBin'].astype(str) + ' - ' + q1_result['campaignName']\n",
    "\n",
    "fig = px.bar(\n",
    "    q1_result,\n",
    "    x='success_rate',\n",
    "    y='merchant',\n",
    "    color='Bin-Campaign',\n",
    "    text='success_rate',\n",
    "    orientation='h',\n",
    "    title='Top Merchants by Success Rate (Grouped by BIN + Campaign)',\n",
    "    hover_data=['cardBin', 'campaignName', 'total_txns', 'success_count']\n",
    ")\n",
    "\n",
    "fig.update_traces(texttemplate='%{text:.2f}', textposition='outside')\n",
    "fig.update_layout(yaxis={'categoryorder':'total ascending'}, height=600)\n",
    "fig.show()\n"
   ]
  },
  {
   "cell_type": "code",
   "execution_count": 38,
   "id": "3ee585e7-9f22-4a51-9f38-a24accd5a9b2",
   "metadata": {},
   "outputs": [
    {
     "data": {
      "application/vnd.plotly.v1+json": {
       "config": {
        "plotlyServerURL": "https://plot.ly"
       },
       "data": [
        {
         "alignmentgroup": "True",
         "customdata": [
          [
           "410039",
           "EMS Josh (NMI)",
           74,
           66
          ],
          [
           "410039",
           "EMS Josh (NMI)",
           194,
           173
          ],
          [
           "410039",
           "EMS Josh (NMI)",
           139,
           121
          ]
         ],
         "hovertemplate": "Bin-Merchant=410039 - EMS Josh (NMI)<br>success_rate=%{text}<br>campaignName=%{y}<br>cardBin=%{customdata[0]}<br>merchant=%{customdata[1]}<br>total_txns=%{customdata[2]}<br>success_count=%{customdata[3]}<extra></extra>",
         "legendgroup": "410039 - EMS Josh (NMI)",
         "marker": {
          "color": "#636efa",
          "pattern": {
           "shape": ""
          }
         },
         "name": "410039 - EMS Josh (NMI)",
         "offsetgroup": "410039 - EMS Josh (NMI)",
         "orientation": "h",
         "showlegend": true,
         "text": [
          0.8918918918918919,
          0.8917525773195877,
          0.8705035971223022
         ],
         "textposition": "outside",
         "texttemplate": "%{text:.2f}",
         "type": "bar",
         "x": [
          0.8918918918918919,
          0.8917525773195877,
          0.8705035971223022
         ],
         "xaxis": "x",
         "y": [
          "MozzGuard",
          "OptiFuel",
          "BTE Hearing CIC Pro (Native) Original"
         ],
         "yaxis": "y"
        },
        {
         "alignmentgroup": "True",
         "customdata": [
          [
           "410039",
           "Payarc Josh (NMI)",
           280,
           241
          ]
         ],
         "hovertemplate": "Bin-Merchant=410039 - Payarc Josh (NMI)<br>success_rate=%{text}<br>campaignName=%{y}<br>cardBin=%{customdata[0]}<br>merchant=%{customdata[1]}<br>total_txns=%{customdata[2]}<br>success_count=%{customdata[3]}<extra></extra>",
         "legendgroup": "410039 - Payarc Josh (NMI)",
         "marker": {
          "color": "#EF553B",
          "pattern": {
           "shape": ""
          }
         },
         "name": "410039 - Payarc Josh (NMI)",
         "offsetgroup": "410039 - Payarc Josh (NMI)",
         "orientation": "h",
         "showlegend": true,
         "text": [
          0.8607142857142858
         ],
         "textposition": "outside",
         "texttemplate": "%{text:.2f}",
         "type": "bar",
         "x": [
          0.8607142857142858
         ],
         "xaxis": "x",
         "y": [
          "OptiFuel"
         ],
         "yaxis": "y"
        },
        {
         "alignmentgroup": "True",
         "customdata": [
          [
           "410039",
           "Quantum (NMI)",
           89,
           82
          ],
          [
           "410039",
           "Quantum (NMI)",
           209,
           186
          ],
          [
           "410039",
           "Quantum (NMI)",
           70,
           60
          ]
         ],
         "hovertemplate": "Bin-Merchant=410039 - Quantum (NMI)<br>success_rate=%{text}<br>campaignName=%{y}<br>cardBin=%{customdata[0]}<br>merchant=%{customdata[1]}<br>total_txns=%{customdata[2]}<br>success_count=%{customdata[3]}<extra></extra>",
         "legendgroup": "410039 - Quantum (NMI)",
         "marker": {
          "color": "#00cc96",
          "pattern": {
           "shape": ""
          }
         },
         "name": "410039 - Quantum (NMI)",
         "offsetgroup": "410039 - Quantum (NMI)",
         "orientation": "h",
         "showlegend": true,
         "text": [
          0.9213483146067416,
          0.8899521531100478,
          0.8571428571428571
         ],
         "textposition": "outside",
         "texttemplate": "%{text:.2f}",
         "type": "bar",
         "x": [
          0.9213483146067416,
          0.8899521531100478,
          0.8571428571428571
         ],
         "xaxis": "x",
         "y": [
          "BTE Hearing CIC Pro (Native) Original",
          "OptiFuel",
          "BTE Hearing CIC Pro (Facebook)"
         ],
         "yaxis": "y"
        },
        {
         "alignmentgroup": "True",
         "customdata": [
          [
           "410039",
           "Seamless Chex (Auth.net)",
           105,
           103
          ],
          [
           "410039",
           "Seamless Chex (Auth.net)",
           196,
           157
          ],
          [
           "410039",
           "Seamless Chex (Auth.net)",
           122,
           94
          ]
         ],
         "hovertemplate": "Bin-Merchant=410039 - Seamless Chex (Auth.net)<br>success_rate=%{text}<br>campaignName=%{y}<br>cardBin=%{customdata[0]}<br>merchant=%{customdata[1]}<br>total_txns=%{customdata[2]}<br>success_count=%{customdata[3]}<extra></extra>",
         "legendgroup": "410039 - Seamless Chex (Auth.net)",
         "marker": {
          "color": "#ab63fa",
          "pattern": {
           "shape": ""
          }
         },
         "name": "410039 - Seamless Chex (Auth.net)",
         "offsetgroup": "410039 - Seamless Chex (Auth.net)",
         "orientation": "h",
         "showlegend": true,
         "text": [
          0.9809523809523809,
          0.8010204081632653,
          0.7704918032786885
         ],
         "textposition": "outside",
         "texttemplate": "%{text:.2f}",
         "type": "bar",
         "x": [
          0.9809523809523809,
          0.8010204081632653,
          0.7704918032786885
         ],
         "xaxis": "x",
         "y": [
          "MozzGuard",
          "Ozzi Heat",
          "OptiFuel"
         ],
         "yaxis": "y"
        },
        {
         "alignmentgroup": "True",
         "customdata": [
          [
           "440066",
           "EMS Josh (NMI)",
           147,
           108
          ],
          [
           "440066",
           "EMS Josh (NMI)",
           112,
           74
          ]
         ],
         "hovertemplate": "Bin-Merchant=440066 - EMS Josh (NMI)<br>success_rate=%{text}<br>campaignName=%{y}<br>cardBin=%{customdata[0]}<br>merchant=%{customdata[1]}<br>total_txns=%{customdata[2]}<br>success_count=%{customdata[3]}<extra></extra>",
         "legendgroup": "440066 - EMS Josh (NMI)",
         "marker": {
          "color": "#FFA15A",
          "pattern": {
           "shape": ""
          }
         },
         "name": "440066 - EMS Josh (NMI)",
         "offsetgroup": "440066 - EMS Josh (NMI)",
         "orientation": "h",
         "showlegend": true,
         "text": [
          0.7346938775510204,
          0.6607142857142857
         ],
         "textposition": "outside",
         "texttemplate": "%{text:.2f}",
         "type": "bar",
         "x": [
          0.7346938775510204,
          0.6607142857142857
         ],
         "xaxis": "x",
         "y": [
          "OptiFuel",
          "BTE Hearing CIC Pro (Native) Original"
         ],
         "yaxis": "y"
        },
        {
         "alignmentgroup": "True",
         "customdata": [
          [
           "462239",
           "ADYEN AU",
           78,
           55
          ],
          [
           "462239",
           "ADYEN AU",
           194,
           131
          ]
         ],
         "hovertemplate": "Bin-Merchant=462239 - ADYEN AU<br>success_rate=%{text}<br>campaignName=%{y}<br>cardBin=%{customdata[0]}<br>merchant=%{customdata[1]}<br>total_txns=%{customdata[2]}<br>success_count=%{customdata[3]}<extra></extra>",
         "legendgroup": "462239 - ADYEN AU",
         "marker": {
          "color": "#19d3f3",
          "pattern": {
           "shape": ""
          }
         },
         "name": "462239 - ADYEN AU",
         "offsetgroup": "462239 - ADYEN AU",
         "orientation": "h",
         "showlegend": true,
         "text": [
          0.7051282051282052,
          0.6752577319587629
         ],
         "textposition": "outside",
         "texttemplate": "%{text:.2f}",
         "type": "bar",
         "x": [
          0.7051282051282052,
          0.6752577319587629
         ],
         "xaxis": "x",
         "y": [
          "BTE Hearing CIC Pro (Native) - AU",
          "OptiFuel | AU"
         ],
         "yaxis": "y"
        },
        {
         "alignmentgroup": "True",
         "customdata": [
          [
           "516361",
           "ADYEN AU",
           110,
           94
          ],
          [
           "516361",
           "ADYEN AU",
           217,
           159
          ]
         ],
         "hovertemplate": "Bin-Merchant=516361 - ADYEN AU<br>success_rate=%{text}<br>campaignName=%{y}<br>cardBin=%{customdata[0]}<br>merchant=%{customdata[1]}<br>total_txns=%{customdata[2]}<br>success_count=%{customdata[3]}<extra></extra>",
         "legendgroup": "516361 - ADYEN AU",
         "marker": {
          "color": "#FF6692",
          "pattern": {
           "shape": ""
          }
         },
         "name": "516361 - ADYEN AU",
         "offsetgroup": "516361 - ADYEN AU",
         "orientation": "h",
         "showlegend": true,
         "text": [
          0.8545454545454545,
          0.7327188940092166
         ],
         "textposition": "outside",
         "texttemplate": "%{text:.2f}",
         "type": "bar",
         "x": [
          0.8545454545454545,
          0.7327188940092166
         ],
         "xaxis": "x",
         "y": [
          "BTE Hearing CIC Pro (Native) - AU",
          "OptiFuel | AU"
         ],
         "yaxis": "y"
        },
        {
         "alignmentgroup": "True",
         "customdata": [
          [
           "517805",
           "Payarc Josh (NMI)",
           258,
           76
          ]
         ],
         "hovertemplate": "Bin-Merchant=517805 - Payarc Josh (NMI)<br>success_rate=%{text}<br>campaignName=%{y}<br>cardBin=%{customdata[0]}<br>merchant=%{customdata[1]}<br>total_txns=%{customdata[2]}<br>success_count=%{customdata[3]}<extra></extra>",
         "legendgroup": "517805 - Payarc Josh (NMI)",
         "marker": {
          "color": "#B6E880",
          "pattern": {
           "shape": ""
          }
         },
         "name": "517805 - Payarc Josh (NMI)",
         "offsetgroup": "517805 - Payarc Josh (NMI)",
         "orientation": "h",
         "showlegend": true,
         "text": [
          0.29457364341085274
         ],
         "textposition": "outside",
         "texttemplate": "%{text:.2f}",
         "type": "bar",
         "x": [
          0.29457364341085274
         ],
         "xaxis": "x",
         "y": [
          "OptiFuel"
         ],
         "yaxis": "y"
        },
        {
         "alignmentgroup": "True",
         "customdata": [
          [
           "521729",
           "ADYEN AU",
           137,
           129
          ],
          [
           "521729",
           "ADYEN AU",
           295,
           242
          ]
         ],
         "hovertemplate": "Bin-Merchant=521729 - ADYEN AU<br>success_rate=%{text}<br>campaignName=%{y}<br>cardBin=%{customdata[0]}<br>merchant=%{customdata[1]}<br>total_txns=%{customdata[2]}<br>success_count=%{customdata[3]}<extra></extra>",
         "legendgroup": "521729 - ADYEN AU",
         "marker": {
          "color": "#FF97FF",
          "pattern": {
           "shape": ""
          }
         },
         "name": "521729 - ADYEN AU",
         "offsetgroup": "521729 - ADYEN AU",
         "orientation": "h",
         "showlegend": true,
         "text": [
          0.9416058394160584,
          0.8203389830508474
         ],
         "textposition": "outside",
         "texttemplate": "%{text:.2f}",
         "type": "bar",
         "x": [
          0.9416058394160584,
          0.8203389830508474
         ],
         "xaxis": "x",
         "y": [
          "BTE Hearing CIC Pro (Native) - AU",
          "OptiFuel | AU"
         ],
         "yaxis": "y"
        },
        {
         "alignmentgroup": "True",
         "customdata": [
          [
           "521729",
           "Seamless Chex (Auth.net)",
           278,
           222
          ]
         ],
         "hovertemplate": "Bin-Merchant=521729 - Seamless Chex (Auth.net)<br>success_rate=%{text}<br>campaignName=%{y}<br>cardBin=%{customdata[0]}<br>merchant=%{customdata[1]}<br>total_txns=%{customdata[2]}<br>success_count=%{customdata[3]}<extra></extra>",
         "legendgroup": "521729 - Seamless Chex (Auth.net)",
         "marker": {
          "color": "#FECB52",
          "pattern": {
           "shape": ""
          }
         },
         "name": "521729 - Seamless Chex (Auth.net)",
         "offsetgroup": "521729 - Seamless Chex (Auth.net)",
         "orientation": "h",
         "showlegend": true,
         "text": [
          0.7985611510791367
         ],
         "textposition": "outside",
         "texttemplate": "%{text:.2f}",
         "type": "bar",
         "x": [
          0.7985611510791367
         ],
         "xaxis": "x",
         "y": [
          "MozzGuard"
         ],
         "yaxis": "y"
        },
        {
         "alignmentgroup": "True",
         "customdata": [
          [
           "535666",
           "Adyen US",
           256,
           62
          ]
         ],
         "hovertemplate": "Bin-Merchant=535666 - Adyen US<br>success_rate=%{text}<br>campaignName=%{y}<br>cardBin=%{customdata[0]}<br>merchant=%{customdata[1]}<br>total_txns=%{customdata[2]}<br>success_count=%{customdata[3]}<extra></extra>",
         "legendgroup": "535666 - Adyen US",
         "marker": {
          "color": "#636efa",
          "pattern": {
           "shape": ""
          }
         },
         "name": "535666 - Adyen US",
         "offsetgroup": "535666 - Adyen US",
         "orientation": "h",
         "showlegend": true,
         "text": [
          0.2421875
         ],
         "textposition": "outside",
         "texttemplate": "%{text:.2f}",
         "type": "bar",
         "x": [
          0.2421875
         ],
         "xaxis": "x",
         "y": [
          "BTE Hearing CIC Pro (Native) - UK"
         ],
         "yaxis": "y"
        },
        {
         "alignmentgroup": "True",
         "customdata": [
          [
           "537410",
           "ADYEN AU",
           101,
           75
          ],
          [
           "537410",
           "ADYEN AU",
           60,
           43
          ],
          [
           "537410",
           "ADYEN AU",
           181,
           108
          ]
         ],
         "hovertemplate": "Bin-Merchant=537410 - ADYEN AU<br>success_rate=%{text}<br>campaignName=%{y}<br>cardBin=%{customdata[0]}<br>merchant=%{customdata[1]}<br>total_txns=%{customdata[2]}<br>success_count=%{customdata[3]}<extra></extra>",
         "legendgroup": "537410 - ADYEN AU",
         "marker": {
          "color": "#EF553B",
          "pattern": {
           "shape": ""
          }
         },
         "name": "537410 - ADYEN AU",
         "offsetgroup": "537410 - ADYEN AU",
         "orientation": "h",
         "showlegend": true,
         "text": [
          0.7425742574257426,
          0.7166666666666667,
          0.5966850828729282
         ],
         "textposition": "outside",
         "texttemplate": "%{text:.2f}",
         "type": "bar",
         "x": [
          0.7425742574257426,
          0.7166666666666667,
          0.5966850828729282
         ],
         "xaxis": "x",
         "y": [
          "Fungus Funnel - UK",
          "BTE Hearing CIC Pro - UK",
          "BTE Hearing CIC Pro (Native) - UK"
         ],
         "yaxis": "y"
        },
        {
         "alignmentgroup": "True",
         "customdata": [
          [
           "537410",
           "Adyen US",
           247,
           141
          ]
         ],
         "hovertemplate": "Bin-Merchant=537410 - Adyen US<br>success_rate=%{text}<br>campaignName=%{y}<br>cardBin=%{customdata[0]}<br>merchant=%{customdata[1]}<br>total_txns=%{customdata[2]}<br>success_count=%{customdata[3]}<extra></extra>",
         "legendgroup": "537410 - Adyen US",
         "marker": {
          "color": "#00cc96",
          "pattern": {
           "shape": ""
          }
         },
         "name": "537410 - Adyen US",
         "offsetgroup": "537410 - Adyen US",
         "orientation": "h",
         "showlegend": true,
         "text": [
          0.5708502024291497
         ],
         "textposition": "outside",
         "texttemplate": "%{text:.2f}",
         "type": "bar",
         "x": [
          0.5708502024291497
         ],
         "xaxis": "x",
         "y": [
          "BTE Hearing CIC Pro (Native) - UK"
         ],
         "yaxis": "y"
        },
        {
         "alignmentgroup": "True",
         "customdata": [
          [
           "542418",
           "Seamless Chex (Auth.net)",
           126,
           126
          ],
          [
           "542418",
           "Seamless Chex (Auth.net)",
           106,
           76
          ],
          [
           "542418",
           "Seamless Chex (Auth.net)",
           138,
           82
          ]
         ],
         "hovertemplate": "Bin-Merchant=542418 - Seamless Chex (Auth.net)<br>success_rate=%{text}<br>campaignName=%{y}<br>cardBin=%{customdata[0]}<br>merchant=%{customdata[1]}<br>total_txns=%{customdata[2]}<br>success_count=%{customdata[3]}<extra></extra>",
         "legendgroup": "542418 - Seamless Chex (Auth.net)",
         "marker": {
          "color": "#ab63fa",
          "pattern": {
           "shape": ""
          }
         },
         "name": "542418 - Seamless Chex (Auth.net)",
         "offsetgroup": "542418 - Seamless Chex (Auth.net)",
         "orientation": "h",
         "showlegend": true,
         "text": [
          1,
          0.7169811320754716,
          0.5942028985507246
         ],
         "textposition": "outside",
         "texttemplate": "%{text:.2f}",
         "type": "bar",
         "x": [
          1,
          0.7169811320754716,
          0.5942028985507246
         ],
         "xaxis": "x",
         "y": [
          "MozzGuard",
          "OptiFuel",
          "Ozzi Heat"
         ],
         "yaxis": "y"
        },
        {
         "alignmentgroup": "True",
         "customdata": [
          [
           "601100",
           "Seamless Chex (Auth.net)",
           97,
           86
          ],
          [
           "601100",
           "Seamless Chex (Auth.net)",
           108,
           34
          ],
          [
           "601100",
           "Seamless Chex (Auth.net)",
           146,
           44
          ]
         ],
         "hovertemplate": "Bin-Merchant=601100 - Seamless Chex (Auth.net)<br>success_rate=%{text}<br>campaignName=%{y}<br>cardBin=%{customdata[0]}<br>merchant=%{customdata[1]}<br>total_txns=%{customdata[2]}<br>success_count=%{customdata[3]}<extra></extra>",
         "legendgroup": "601100 - Seamless Chex (Auth.net)",
         "marker": {
          "color": "#FFA15A",
          "pattern": {
           "shape": ""
          }
         },
         "name": "601100 - Seamless Chex (Auth.net)",
         "offsetgroup": "601100 - Seamless Chex (Auth.net)",
         "orientation": "h",
         "showlegend": true,
         "text": [
          0.8865979381443299,
          0.3148148148148148,
          0.3013698630136986
         ],
         "textposition": "outside",
         "texttemplate": "%{text:.2f}",
         "type": "bar",
         "x": [
          0.8865979381443299,
          0.3148148148148148,
          0.3013698630136986
         ],
         "xaxis": "x",
         "y": [
          "MozzGuard",
          "OptiFuel",
          "Ozzi Heat"
         ],
         "yaxis": "y"
        }
       ],
       "layout": {
        "barmode": "relative",
        "height": 600,
        "legend": {
         "title": {
          "text": "Bin-Merchant"
         },
         "tracegroupgap": 0
        },
        "template": {
         "data": {
          "bar": [
           {
            "error_x": {
             "color": "#2a3f5f"
            },
            "error_y": {
             "color": "#2a3f5f"
            },
            "marker": {
             "line": {
              "color": "#E5ECF6",
              "width": 0.5
             },
             "pattern": {
              "fillmode": "overlay",
              "size": 10,
              "solidity": 0.2
             }
            },
            "type": "bar"
           }
          ],
          "barpolar": [
           {
            "marker": {
             "line": {
              "color": "#E5ECF6",
              "width": 0.5
             },
             "pattern": {
              "fillmode": "overlay",
              "size": 10,
              "solidity": 0.2
             }
            },
            "type": "barpolar"
           }
          ],
          "carpet": [
           {
            "aaxis": {
             "endlinecolor": "#2a3f5f",
             "gridcolor": "white",
             "linecolor": "white",
             "minorgridcolor": "white",
             "startlinecolor": "#2a3f5f"
            },
            "baxis": {
             "endlinecolor": "#2a3f5f",
             "gridcolor": "white",
             "linecolor": "white",
             "minorgridcolor": "white",
             "startlinecolor": "#2a3f5f"
            },
            "type": "carpet"
           }
          ],
          "choropleth": [
           {
            "colorbar": {
             "outlinewidth": 0,
             "ticks": ""
            },
            "type": "choropleth"
           }
          ],
          "contour": [
           {
            "colorbar": {
             "outlinewidth": 0,
             "ticks": ""
            },
            "colorscale": [
             [
              0,
              "#0d0887"
             ],
             [
              0.1111111111111111,
              "#46039f"
             ],
             [
              0.2222222222222222,
              "#7201a8"
             ],
             [
              0.3333333333333333,
              "#9c179e"
             ],
             [
              0.4444444444444444,
              "#bd3786"
             ],
             [
              0.5555555555555556,
              "#d8576b"
             ],
             [
              0.6666666666666666,
              "#ed7953"
             ],
             [
              0.7777777777777778,
              "#fb9f3a"
             ],
             [
              0.8888888888888888,
              "#fdca26"
             ],
             [
              1,
              "#f0f921"
             ]
            ],
            "type": "contour"
           }
          ],
          "contourcarpet": [
           {
            "colorbar": {
             "outlinewidth": 0,
             "ticks": ""
            },
            "type": "contourcarpet"
           }
          ],
          "heatmap": [
           {
            "colorbar": {
             "outlinewidth": 0,
             "ticks": ""
            },
            "colorscale": [
             [
              0,
              "#0d0887"
             ],
             [
              0.1111111111111111,
              "#46039f"
             ],
             [
              0.2222222222222222,
              "#7201a8"
             ],
             [
              0.3333333333333333,
              "#9c179e"
             ],
             [
              0.4444444444444444,
              "#bd3786"
             ],
             [
              0.5555555555555556,
              "#d8576b"
             ],
             [
              0.6666666666666666,
              "#ed7953"
             ],
             [
              0.7777777777777778,
              "#fb9f3a"
             ],
             [
              0.8888888888888888,
              "#fdca26"
             ],
             [
              1,
              "#f0f921"
             ]
            ],
            "type": "heatmap"
           }
          ],
          "heatmapgl": [
           {
            "colorbar": {
             "outlinewidth": 0,
             "ticks": ""
            },
            "colorscale": [
             [
              0,
              "#0d0887"
             ],
             [
              0.1111111111111111,
              "#46039f"
             ],
             [
              0.2222222222222222,
              "#7201a8"
             ],
             [
              0.3333333333333333,
              "#9c179e"
             ],
             [
              0.4444444444444444,
              "#bd3786"
             ],
             [
              0.5555555555555556,
              "#d8576b"
             ],
             [
              0.6666666666666666,
              "#ed7953"
             ],
             [
              0.7777777777777778,
              "#fb9f3a"
             ],
             [
              0.8888888888888888,
              "#fdca26"
             ],
             [
              1,
              "#f0f921"
             ]
            ],
            "type": "heatmapgl"
           }
          ],
          "histogram": [
           {
            "marker": {
             "pattern": {
              "fillmode": "overlay",
              "size": 10,
              "solidity": 0.2
             }
            },
            "type": "histogram"
           }
          ],
          "histogram2d": [
           {
            "colorbar": {
             "outlinewidth": 0,
             "ticks": ""
            },
            "colorscale": [
             [
              0,
              "#0d0887"
             ],
             [
              0.1111111111111111,
              "#46039f"
             ],
             [
              0.2222222222222222,
              "#7201a8"
             ],
             [
              0.3333333333333333,
              "#9c179e"
             ],
             [
              0.4444444444444444,
              "#bd3786"
             ],
             [
              0.5555555555555556,
              "#d8576b"
             ],
             [
              0.6666666666666666,
              "#ed7953"
             ],
             [
              0.7777777777777778,
              "#fb9f3a"
             ],
             [
              0.8888888888888888,
              "#fdca26"
             ],
             [
              1,
              "#f0f921"
             ]
            ],
            "type": "histogram2d"
           }
          ],
          "histogram2dcontour": [
           {
            "colorbar": {
             "outlinewidth": 0,
             "ticks": ""
            },
            "colorscale": [
             [
              0,
              "#0d0887"
             ],
             [
              0.1111111111111111,
              "#46039f"
             ],
             [
              0.2222222222222222,
              "#7201a8"
             ],
             [
              0.3333333333333333,
              "#9c179e"
             ],
             [
              0.4444444444444444,
              "#bd3786"
             ],
             [
              0.5555555555555556,
              "#d8576b"
             ],
             [
              0.6666666666666666,
              "#ed7953"
             ],
             [
              0.7777777777777778,
              "#fb9f3a"
             ],
             [
              0.8888888888888888,
              "#fdca26"
             ],
             [
              1,
              "#f0f921"
             ]
            ],
            "type": "histogram2dcontour"
           }
          ],
          "mesh3d": [
           {
            "colorbar": {
             "outlinewidth": 0,
             "ticks": ""
            },
            "type": "mesh3d"
           }
          ],
          "parcoords": [
           {
            "line": {
             "colorbar": {
              "outlinewidth": 0,
              "ticks": ""
             }
            },
            "type": "parcoords"
           }
          ],
          "pie": [
           {
            "automargin": true,
            "type": "pie"
           }
          ],
          "scatter": [
           {
            "fillpattern": {
             "fillmode": "overlay",
             "size": 10,
             "solidity": 0.2
            },
            "type": "scatter"
           }
          ],
          "scatter3d": [
           {
            "line": {
             "colorbar": {
              "outlinewidth": 0,
              "ticks": ""
             }
            },
            "marker": {
             "colorbar": {
              "outlinewidth": 0,
              "ticks": ""
             }
            },
            "type": "scatter3d"
           }
          ],
          "scattercarpet": [
           {
            "marker": {
             "colorbar": {
              "outlinewidth": 0,
              "ticks": ""
             }
            },
            "type": "scattercarpet"
           }
          ],
          "scattergeo": [
           {
            "marker": {
             "colorbar": {
              "outlinewidth": 0,
              "ticks": ""
             }
            },
            "type": "scattergeo"
           }
          ],
          "scattergl": [
           {
            "marker": {
             "colorbar": {
              "outlinewidth": 0,
              "ticks": ""
             }
            },
            "type": "scattergl"
           }
          ],
          "scattermapbox": [
           {
            "marker": {
             "colorbar": {
              "outlinewidth": 0,
              "ticks": ""
             }
            },
            "type": "scattermapbox"
           }
          ],
          "scatterpolar": [
           {
            "marker": {
             "colorbar": {
              "outlinewidth": 0,
              "ticks": ""
             }
            },
            "type": "scatterpolar"
           }
          ],
          "scatterpolargl": [
           {
            "marker": {
             "colorbar": {
              "outlinewidth": 0,
              "ticks": ""
             }
            },
            "type": "scatterpolargl"
           }
          ],
          "scatterternary": [
           {
            "marker": {
             "colorbar": {
              "outlinewidth": 0,
              "ticks": ""
             }
            },
            "type": "scatterternary"
           }
          ],
          "surface": [
           {
            "colorbar": {
             "outlinewidth": 0,
             "ticks": ""
            },
            "colorscale": [
             [
              0,
              "#0d0887"
             ],
             [
              0.1111111111111111,
              "#46039f"
             ],
             [
              0.2222222222222222,
              "#7201a8"
             ],
             [
              0.3333333333333333,
              "#9c179e"
             ],
             [
              0.4444444444444444,
              "#bd3786"
             ],
             [
              0.5555555555555556,
              "#d8576b"
             ],
             [
              0.6666666666666666,
              "#ed7953"
             ],
             [
              0.7777777777777778,
              "#fb9f3a"
             ],
             [
              0.8888888888888888,
              "#fdca26"
             ],
             [
              1,
              "#f0f921"
             ]
            ],
            "type": "surface"
           }
          ],
          "table": [
           {
            "cells": {
             "fill": {
              "color": "#EBF0F8"
             },
             "line": {
              "color": "white"
             }
            },
            "header": {
             "fill": {
              "color": "#C8D4E3"
             },
             "line": {
              "color": "white"
             }
            },
            "type": "table"
           }
          ]
         },
         "layout": {
          "annotationdefaults": {
           "arrowcolor": "#2a3f5f",
           "arrowhead": 0,
           "arrowwidth": 1
          },
          "autotypenumbers": "strict",
          "coloraxis": {
           "colorbar": {
            "outlinewidth": 0,
            "ticks": ""
           }
          },
          "colorscale": {
           "diverging": [
            [
             0,
             "#8e0152"
            ],
            [
             0.1,
             "#c51b7d"
            ],
            [
             0.2,
             "#de77ae"
            ],
            [
             0.3,
             "#f1b6da"
            ],
            [
             0.4,
             "#fde0ef"
            ],
            [
             0.5,
             "#f7f7f7"
            ],
            [
             0.6,
             "#e6f5d0"
            ],
            [
             0.7,
             "#b8e186"
            ],
            [
             0.8,
             "#7fbc41"
            ],
            [
             0.9,
             "#4d9221"
            ],
            [
             1,
             "#276419"
            ]
           ],
           "sequential": [
            [
             0,
             "#0d0887"
            ],
            [
             0.1111111111111111,
             "#46039f"
            ],
            [
             0.2222222222222222,
             "#7201a8"
            ],
            [
             0.3333333333333333,
             "#9c179e"
            ],
            [
             0.4444444444444444,
             "#bd3786"
            ],
            [
             0.5555555555555556,
             "#d8576b"
            ],
            [
             0.6666666666666666,
             "#ed7953"
            ],
            [
             0.7777777777777778,
             "#fb9f3a"
            ],
            [
             0.8888888888888888,
             "#fdca26"
            ],
            [
             1,
             "#f0f921"
            ]
           ],
           "sequentialminus": [
            [
             0,
             "#0d0887"
            ],
            [
             0.1111111111111111,
             "#46039f"
            ],
            [
             0.2222222222222222,
             "#7201a8"
            ],
            [
             0.3333333333333333,
             "#9c179e"
            ],
            [
             0.4444444444444444,
             "#bd3786"
            ],
            [
             0.5555555555555556,
             "#d8576b"
            ],
            [
             0.6666666666666666,
             "#ed7953"
            ],
            [
             0.7777777777777778,
             "#fb9f3a"
            ],
            [
             0.8888888888888888,
             "#fdca26"
            ],
            [
             1,
             "#f0f921"
            ]
           ]
          },
          "colorway": [
           "#636efa",
           "#EF553B",
           "#00cc96",
           "#ab63fa",
           "#FFA15A",
           "#19d3f3",
           "#FF6692",
           "#B6E880",
           "#FF97FF",
           "#FECB52"
          ],
          "font": {
           "color": "#2a3f5f"
          },
          "geo": {
           "bgcolor": "white",
           "lakecolor": "white",
           "landcolor": "#E5ECF6",
           "showlakes": true,
           "showland": true,
           "subunitcolor": "white"
          },
          "hoverlabel": {
           "align": "left"
          },
          "hovermode": "closest",
          "mapbox": {
           "style": "light"
          },
          "paper_bgcolor": "white",
          "plot_bgcolor": "#E5ECF6",
          "polar": {
           "angularaxis": {
            "gridcolor": "white",
            "linecolor": "white",
            "ticks": ""
           },
           "bgcolor": "#E5ECF6",
           "radialaxis": {
            "gridcolor": "white",
            "linecolor": "white",
            "ticks": ""
           }
          },
          "scene": {
           "xaxis": {
            "backgroundcolor": "#E5ECF6",
            "gridcolor": "white",
            "gridwidth": 2,
            "linecolor": "white",
            "showbackground": true,
            "ticks": "",
            "zerolinecolor": "white"
           },
           "yaxis": {
            "backgroundcolor": "#E5ECF6",
            "gridcolor": "white",
            "gridwidth": 2,
            "linecolor": "white",
            "showbackground": true,
            "ticks": "",
            "zerolinecolor": "white"
           },
           "zaxis": {
            "backgroundcolor": "#E5ECF6",
            "gridcolor": "white",
            "gridwidth": 2,
            "linecolor": "white",
            "showbackground": true,
            "ticks": "",
            "zerolinecolor": "white"
           }
          },
          "shapedefaults": {
           "line": {
            "color": "#2a3f5f"
           }
          },
          "ternary": {
           "aaxis": {
            "gridcolor": "white",
            "linecolor": "white",
            "ticks": ""
           },
           "baxis": {
            "gridcolor": "white",
            "linecolor": "white",
            "ticks": ""
           },
           "bgcolor": "#E5ECF6",
           "caxis": {
            "gridcolor": "white",
            "linecolor": "white",
            "ticks": ""
           }
          },
          "title": {
           "x": 0.05
          },
          "xaxis": {
           "automargin": true,
           "gridcolor": "white",
           "linecolor": "white",
           "ticks": "",
           "title": {
            "standoff": 15
           },
           "zerolinecolor": "white",
           "zerolinewidth": 2
          },
          "yaxis": {
           "automargin": true,
           "gridcolor": "white",
           "linecolor": "white",
           "ticks": "",
           "title": {
            "standoff": 15
           },
           "zerolinecolor": "white",
           "zerolinewidth": 2
          }
         }
        },
        "title": {
         "text": "Top Campaigns by Success Rate (Grouped by BIN + Merchant)"
        },
        "xaxis": {
         "anchor": "y",
         "domain": [
          0,
          1
         ],
         "title": {
          "text": "success_rate"
         }
        },
        "yaxis": {
         "anchor": "x",
         "categoryorder": "total ascending",
         "domain": [
          0,
          1
         ],
         "title": {
          "text": "campaignName"
         }
        }
       }
      },
      "image/png": "[encoded data removed]",
      "text/html": [
       "<div>                            <div id=\"8c309acc-d9df-4609-8ad8-7238d7dc5995\" class=\"plotly-graph-div\" style=\"height:600px; width:100%;\"></div>            <script type=\"text/javascript\">                require([\"plotly\"], function(Plotly) {                    window.PLOTLYENV=window.PLOTLYENV || {};                                    if (document.getElementById(\"8c309acc-d9df-4609-8ad8-7238d7dc5995\")) {                    Plotly.newPlot(                        \"8c309acc-d9df-4609-8ad8-7238d7dc5995\",                        [{\"alignmentgroup\":\"True\",\"customdata\":[[\"410039\",\"EMS Josh (NMI)\",74,66],[\"410039\",\"EMS Josh (NMI)\",194,173],[\"410039\",\"EMS Josh (NMI)\",139,121]],\"hovertemplate\":\"Bin-Merchant=410039 - EMS Josh (NMI)\\u003cbr\\u003esuccess_rate=%{text}\\u003cbr\\u003ecampaignName=%{y}\\u003cbr\\u003ecardBin=%{customdata[0]}\\u003cbr\\u003emerchant=%{customdata[1]}\\u003cbr\\u003etotal_txns=%{customdata[2]}\\u003cbr\\u003esuccess_count=%{customdata[3]}\\u003cextra\\u003e\\u003c\\u002fextra\\u003e\",\"legendgroup\":\"410039 - EMS Josh (NMI)\",\"marker\":{\"color\":\"#636efa\",\"pattern\":{\"shape\":\"\"}},\"name\":\"410039 - EMS Josh (NMI)\",\"offsetgroup\":\"410039 - EMS Josh (NMI)\",\"orientation\":\"h\",\"showlegend\":true,\"text\":[0.8918918918918919,0.8917525773195877,0.8705035971223022],\"textposition\":\"outside\",\"x\":[0.8918918918918919,0.8917525773195877,0.8705035971223022],\"xaxis\":\"x\",\"y\":[\"MozzGuard\",\"OptiFuel\",\"BTE Hearing CIC Pro (Native) Original\"],\"yaxis\":\"y\",\"type\":\"bar\",\"texttemplate\":\"%{text:.2f}\"},{\"alignmentgroup\":\"True\",\"customdata\":[[\"410039\",\"Payarc Josh (NMI)\",280,241]],\"hovertemplate\":\"Bin-Merchant=410039 - Payarc Josh (NMI)\\u003cbr\\u003esuccess_rate=%{text}\\u003cbr\\u003ecampaignName=%{y}\\u003cbr\\u003ecardBin=%{customdata[0]}\\u003cbr\\u003emerchant=%{customdata[1]}\\u003cbr\\u003etotal_txns=%{customdata[2]}\\u003cbr\\u003esuccess_count=%{customdata[3]}\\u003cextra\\u003e\\u003c\\u002fextra\\u003e\",\"legendgroup\":\"410039 - Payarc Josh (NMI)\",\"marker\":{\"color\":\"#EF553B\",\"pattern\":{\"shape\":\"\"}},\"name\":\"410039 - Payarc Josh (NMI)\",\"offsetgroup\":\"410039 - Payarc Josh (NMI)\",\"orientation\":\"h\",\"showlegend\":true,\"text\":[0.8607142857142858],\"textposition\":\"outside\",\"x\":[0.8607142857142858],\"xaxis\":\"x\",\"y\":[\"OptiFuel\"],\"yaxis\":\"y\",\"type\":\"bar\",\"texttemplate\":\"%{text:.2f}\"},{\"alignmentgroup\":\"True\",\"customdata\":[[\"410039\",\"Quantum (NMI)\",89,82],[\"410039\",\"Quantum (NMI)\",209,186],[\"410039\",\"Quantum (NMI)\",70,60]],\"hovertemplate\":\"Bin-Merchant=410039 - Quantum (NMI)\\u003cbr\\u003esuccess_rate=%{text}\\u003cbr\\u003ecampaignName=%{y}\\u003cbr\\u003ecardBin=%{customdata[0]}\\u003cbr\\u003emerchant=%{customdata[1]}\\u003cbr\\u003etotal_txns=%{customdata[2]}\\u003cbr\\u003esuccess_count=%{customdata[3]}\\u003cextra\\u003e\\u003c\\u002fextra\\u003e\",\"legendgroup\":\"410039 - Quantum (NMI)\",\"marker\":{\"color\":\"#00cc96\",\"pattern\":{\"shape\":\"\"}},\"name\":\"410039 - Quantum (NMI)\",\"offsetgroup\":\"410039 - Quantum (NMI)\",\"orientation\":\"h\",\"showlegend\":true,\"text\":[0.9213483146067416,0.8899521531100478,0.8571428571428571],\"textposition\":\"outside\",\"x\":[0.9213483146067416,0.8899521531100478,0.8571428571428571],\"xaxis\":\"x\",\"y\":[\"BTE Hearing CIC Pro (Native) Original\",\"OptiFuel\",\"BTE Hearing CIC Pro (Facebook)\"],\"yaxis\":\"y\",\"type\":\"bar\",\"texttemplate\":\"%{text:.2f}\"},{\"alignmentgroup\":\"True\",\"customdata\":[[\"410039\",\"Seamless Chex (Auth.net)\",105,103],[\"410039\",\"Seamless Chex (Auth.net)\",196,157],[\"410039\",\"Seamless Chex (Auth.net)\",122,94]],\"hovertemplate\":\"Bin-Merchant=410039 - Seamless Chex (Auth.net)\\u003cbr\\u003esuccess_rate=%{text}\\u003cbr\\u003ecampaignName=%{y}\\u003cbr\\u003ecardBin=%{customdata[0]}\\u003cbr\\u003emerchant=%{customdata[1]}\\u003cbr\\u003etotal_txns=%{customdata[2]}\\u003cbr\\u003esuccess_count=%{customdata[3]}\\u003cextra\\u003e\\u003c\\u002fextra\\u003e\",\"legendgroup\":\"410039 - Seamless Chex (Auth.net)\",\"marker\":{\"color\":\"#ab63fa\",\"pattern\":{\"shape\":\"\"}},\"name\":\"410039 - Seamless Chex (Auth.net)\",\"offsetgroup\":\"410039 - Seamless Chex (Auth.net)\",\"orientation\":\"h\",\"showlegend\":true,\"text\":[0.9809523809523809,0.8010204081632653,0.7704918032786885],\"textposition\":\"outside\",\"x\":[0.9809523809523809,0.8010204081632653,0.7704918032786885],\"xaxis\":\"x\",\"y\":[\"MozzGuard\",\"Ozzi Heat\",\"OptiFuel\"],\"yaxis\":\"y\",\"type\":\"bar\",\"texttemplate\":\"%{text:.2f}\"},{\"alignmentgroup\":\"True\",\"customdata\":[[\"440066\",\"EMS Josh (NMI)\",147,108],[\"440066\",\"EMS Josh (NMI)\",112,74]],\"hovertemplate\":\"Bin-Merchant=440066 - EMS Josh (NMI)\\u003cbr\\u003esuccess_rate=%{text}\\u003cbr\\u003ecampaignName=%{y}\\u003cbr\\u003ecardBin=%{customdata[0]}\\u003cbr\\u003emerchant=%{customdata[1]}\\u003cbr\\u003etotal_txns=%{customdata[2]}\\u003cbr\\u003esuccess_count=%{customdata[3]}\\u003cextra\\u003e\\u003c\\u002fextra\\u003e\",\"legendgroup\":\"440066 - EMS Josh (NMI)\",\"marker\":{\"color\":\"#FFA15A\",\"pattern\":{\"shape\":\"\"}},\"name\":\"440066 - EMS Josh (NMI)\",\"offsetgroup\":\"440066 - EMS Josh (NMI)\",\"orientation\":\"h\",\"showlegend\":true,\"text\":[0.7346938775510204,0.6607142857142857],\"textposition\":\"outside\",\"x\":[0.7346938775510204,0.6607142857142857],\"xaxis\":\"x\",\"y\":[\"OptiFuel\",\"BTE Hearing CIC Pro (Native) Original\"],\"yaxis\":\"y\",\"type\":\"bar\",\"texttemplate\":\"%{text:.2f}\"},{\"alignmentgroup\":\"True\",\"customdata\":[[\"462239\",\"ADYEN AU\",78,55],[\"462239\",\"ADYEN AU\",194,131]],\"hovertemplate\":\"Bin-Merchant=462239 - ADYEN AU\\u003cbr\\u003esuccess_rate=%{text}\\u003cbr\\u003ecampaignName=%{y}\\u003cbr\\u003ecardBin=%{customdata[0]}\\u003cbr\\u003emerchant=%{customdata[1]}\\u003cbr\\u003etotal_txns=%{customdata[2]}\\u003cbr\\u003esuccess_count=%{customdata[3]}\\u003cextra\\u003e\\u003c\\u002fextra\\u003e\",\"legendgroup\":\"462239 - ADYEN AU\",\"marker\":{\"color\":\"#19d3f3\",\"pattern\":{\"shape\":\"\"}},\"name\":\"462239 - ADYEN AU\",\"offsetgroup\":\"462239 - ADYEN AU\",\"orientation\":\"h\",\"showlegend\":true,\"text\":[0.7051282051282052,0.6752577319587629],\"textposition\":\"outside\",\"x\":[0.7051282051282052,0.6752577319587629],\"xaxis\":\"x\",\"y\":[\"BTE Hearing CIC Pro (Native) - AU\",\"OptiFuel | AU\"],\"yaxis\":\"y\",\"type\":\"bar\",\"texttemplate\":\"%{text:.2f}\"},{\"alignmentgroup\":\"True\",\"customdata\":[[\"516361\",\"ADYEN AU\",110,94],[\"516361\",\"ADYEN AU\",217,159]],\"hovertemplate\":\"Bin-Merchant=516361 - ADYEN AU\\u003cbr\\u003esuccess_rate=%{text}\\u003cbr\\u003ecampaignName=%{y}\\u003cbr\\u003ecardBin=%{customdata[0]}\\u003cbr\\u003emerchant=%{customdata[1]}\\u003cbr\\u003etotal_txns=%{customdata[2]}\\u003cbr\\u003esuccess_count=%{customdata[3]}\\u003cextra\\u003e\\u003c\\u002fextra\\u003e\",\"legendgroup\":\"516361 - ADYEN AU\",\"marker\":{\"color\":\"#FF6692\",\"pattern\":{\"shape\":\"\"}},\"name\":\"516361 - ADYEN AU\",\"offsetgroup\":\"516361 - ADYEN AU\",\"orientation\":\"h\",\"showlegend\":true,\"text\":[0.8545454545454545,0.7327188940092166],\"textposition\":\"outside\",\"x\":[0.8545454545454545,0.7327188940092166],\"xaxis\":\"x\",\"y\":[\"BTE Hearing CIC Pro (Native) - AU\",\"OptiFuel | AU\"],\"yaxis\":\"y\",\"type\":\"bar\",\"texttemplate\":\"%{text:.2f}\"},{\"alignmentgroup\":\"True\",\"customdata\":[[\"517805\",\"Payarc Josh (NMI)\",258,76]],\"hovertemplate\":\"Bin-Merchant=517805 - Payarc Josh (NMI)\\u003cbr\\u003esuccess_rate=%{text}\\u003cbr\\u003ecampaignName=%{y}\\u003cbr\\u003ecardBin=%{customdata[0]}\\u003cbr\\u003emerchant=%{customdata[1]}\\u003cbr\\u003etotal_txns=%{customdata[2]}\\u003cbr\\u003esuccess_count=%{customdata[3]}\\u003cextra\\u003e\\u003c\\u002fextra\\u003e\",\"legendgroup\":\"517805 - Payarc Josh (NMI)\",\"marker\":{\"color\":\"#B6E880\",\"pattern\":{\"shape\":\"\"}},\"name\":\"517805 - Payarc Josh (NMI)\",\"offsetgroup\":\"517805 - Payarc Josh (NMI)\",\"orientation\":\"h\",\"showlegend\":true,\"text\":[0.29457364341085274],\"textposition\":\"outside\",\"x\":[0.29457364341085274],\"xaxis\":\"x\",\"y\":[\"OptiFuel\"],\"yaxis\":\"y\",\"type\":\"bar\",\"texttemplate\":\"%{text:.2f}\"},{\"alignmentgroup\":\"True\",\"customdata\":[[\"521729\",\"ADYEN AU\",137,129],[\"521729\",\"ADYEN AU\",295,242]],\"hovertemplate\":\"Bin-Merchant=521729 - ADYEN AU\\u003cbr\\u003esuccess_rate=%{text}\\u003cbr\\u003ecampaignName=%{y}\\u003cbr\\u003ecardBin=%{customdata[0]}\\u003cbr\\u003emerchant=%{customdata[1]}\\u003cbr\\u003etotal_txns=%{customdata[2]}\\u003cbr\\u003esuccess_count=%{customdata[3]}\\u003cextra\\u003e\\u003c\\u002fextra\\u003e\",\"legendgroup\":\"521729 - ADYEN AU\",\"marker\":{\"color\":\"#FF97FF\",\"pattern\":{\"shape\":\"\"}},\"name\":\"521729 - ADYEN AU\",\"offsetgroup\":\"521729 - ADYEN AU\",\"orientation\":\"h\",\"showlegend\":true,\"text\":[0.9416058394160584,0.8203389830508474],\"textposition\":\"outside\",\"x\":[0.9416058394160584,0.8203389830508474],\"xaxis\":\"x\",\"y\":[\"BTE Hearing CIC Pro (Native) - AU\",\"OptiFuel | AU\"],\"yaxis\":\"y\",\"type\":\"bar\",\"texttemplate\":\"%{text:.2f}\"},{\"alignmentgroup\":\"True\",\"customdata\":[[\"521729\",\"Seamless Chex (Auth.net)\",278,222]],\"hovertemplate\":\"Bin-Merchant=521729 - Seamless Chex (Auth.net)\\u003cbr\\u003esuccess_rate=%{text}\\u003cbr\\u003ecampaignName=%{y}\\u003cbr\\u003ecardBin=%{customdata[0]}\\u003cbr\\u003emerchant=%{customdata[1]}\\u003cbr\\u003etotal_txns=%{customdata[2]}\\u003cbr\\u003esuccess_count=%{customdata[3]}\\u003cextra\\u003e\\u003c\\u002fextra\\u003e\",\"legendgroup\":\"521729 - Seamless Chex (Auth.net)\",\"marker\":{\"color\":\"#FECB52\",\"pattern\":{\"shape\":\"\"}},\"name\":\"521729 - Seamless Chex (Auth.net)\",\"offsetgroup\":\"521729 - Seamless Chex (Auth.net)\",\"orientation\":\"h\",\"showlegend\":true,\"text\":[0.7985611510791367],\"textposition\":\"outside\",\"x\":[0.7985611510791367],\"xaxis\":\"x\",\"y\":[\"MozzGuard\"],\"yaxis\":\"y\",\"type\":\"bar\",\"texttemplate\":\"%{text:.2f}\"},{\"alignmentgroup\":\"True\",\"customdata\":[[\"535666\",\"Adyen US\",256,62]],\"hovertemplate\":\"Bin-Merchant=535666 - Adyen US\\u003cbr\\u003esuccess_rate=%{text}\\u003cbr\\u003ecampaignName=%{y}\\u003cbr\\u003ecardBin=%{customdata[0]}\\u003cbr\\u003emerchant=%{customdata[1]}\\u003cbr\\u003etotal_txns=%{customdata[2]}\\u003cbr\\u003esuccess_count=%{customdata[3]}\\u003cextra\\u003e\\u003c\\u002fextra\\u003e\",\"legendgroup\":\"535666 - Adyen US\",\"marker\":{\"color\":\"#636efa\",\"pattern\":{\"shape\":\"\"}},\"name\":\"535666 - Adyen US\",\"offsetgroup\":\"535666 - Adyen US\",\"orientation\":\"h\",\"showlegend\":true,\"text\":[0.2421875],\"textposition\":\"outside\",\"x\":[0.2421875],\"xaxis\":\"x\",\"y\":[\"BTE Hearing CIC Pro (Native) - UK\"],\"yaxis\":\"y\",\"type\":\"bar\",\"texttemplate\":\"%{text:.2f}\"},{\"alignmentgroup\":\"True\",\"customdata\":[[\"537410\",\"ADYEN AU\",101,75],[\"537410\",\"ADYEN AU\",60,43],[\"537410\",\"ADYEN AU\",181,108]],\"hovertemplate\":\"Bin-Merchant=537410 - ADYEN AU\\u003cbr\\u003esuccess_rate=%{text}\\u003cbr\\u003ecampaignName=%{y}\\u003cbr\\u003ecardBin=%{customdata[0]}\\u003cbr\\u003emerchant=%{customdata[1]}\\u003cbr\\u003etotal_txns=%{customdata[2]}\\u003cbr\\u003esuccess_count=%{customdata[3]}\\u003cextra\\u003e\\u003c\\u002fextra\\u003e\",\"legendgroup\":\"537410 - ADYEN AU\",\"marker\":{\"color\":\"#EF553B\",\"pattern\":{\"shape\":\"\"}},\"name\":\"537410 - ADYEN AU\",\"offsetgroup\":\"537410 - ADYEN AU\",\"orientation\":\"h\",\"showlegend\":true,\"text\":[0.7425742574257426,0.7166666666666667,0.5966850828729282],\"textposition\":\"outside\",\"x\":[0.7425742574257426,0.7166666666666667,0.5966850828729282],\"xaxis\":\"x\",\"y\":[\"Fungus Funnel - UK\",\"BTE Hearing CIC Pro - UK\",\"BTE Hearing CIC Pro (Native) - UK\"],\"yaxis\":\"y\",\"type\":\"bar\",\"texttemplate\":\"%{text:.2f}\"},{\"alignmentgroup\":\"True\",\"customdata\":[[\"537410\",\"Adyen US\",247,141]],\"hovertemplate\":\"Bin-Merchant=537410 - Adyen US\\u003cbr\\u003esuccess_rate=%{text}\\u003cbr\\u003ecampaignName=%{y}\\u003cbr\\u003ecardBin=%{customdata[0]}\\u003cbr\\u003emerchant=%{customdata[1]}\\u003cbr\\u003etotal_txns=%{customdata[2]}\\u003cbr\\u003esuccess_count=%{customdata[3]}\\u003cextra\\u003e\\u003c\\u002fextra\\u003e\",\"legendgroup\":\"537410 - Adyen US\",\"marker\":{\"color\":\"#00cc96\",\"pattern\":{\"shape\":\"\"}},\"name\":\"537410 - Adyen US\",\"offsetgroup\":\"537410 - Adyen US\",\"orientation\":\"h\",\"showlegend\":true,\"text\":[0.5708502024291497],\"textposition\":\"outside\",\"x\":[0.5708502024291497],\"xaxis\":\"x\",\"y\":[\"BTE Hearing CIC Pro (Native) - UK\"],\"yaxis\":\"y\",\"type\":\"bar\",\"texttemplate\":\"%{text:.2f}\"},{\"alignmentgroup\":\"True\",\"customdata\":[[\"542418\",\"Seamless Chex (Auth.net)\",126,126],[\"542418\",\"Seamless Chex (Auth.net)\",106,76],[\"542418\",\"Seamless Chex (Auth.net)\",138,82]],\"hovertemplate\":\"Bin-Merchant=542418 - Seamless Chex (Auth.net)\\u003cbr\\u003esuccess_rate=%{text}\\u003cbr\\u003ecampaignName=%{y}\\u003cbr\\u003ecardBin=%{customdata[0]}\\u003cbr\\u003emerchant=%{customdata[1]}\\u003cbr\\u003etotal_txns=%{customdata[2]}\\u003cbr\\u003esuccess_count=%{customdata[3]}\\u003cextra\\u003e\\u003c\\u002fextra\\u003e\",\"legendgroup\":\"542418 - Seamless Chex (Auth.net)\",\"marker\":{\"color\":\"#ab63fa\",\"pattern\":{\"shape\":\"\"}},\"name\":\"542418 - Seamless Chex (Auth.net)\",\"offsetgroup\":\"542418 - Seamless Chex (Auth.net)\",\"orientation\":\"h\",\"showlegend\":true,\"text\":[1.0,0.7169811320754716,0.5942028985507246],\"textposition\":\"outside\",\"x\":[1.0,0.7169811320754716,0.5942028985507246],\"xaxis\":\"x\",\"y\":[\"MozzGuard\",\"OptiFuel\",\"Ozzi Heat\"],\"yaxis\":\"y\",\"type\":\"bar\",\"texttemplate\":\"%{text:.2f}\"},{\"alignmentgroup\":\"True\",\"customdata\":[[\"601100\",\"Seamless Chex (Auth.net)\",97,86],[\"601100\",\"Seamless Chex (Auth.net)\",108,34],[\"601100\",\"Seamless Chex (Auth.net)\",146,44]],\"hovertemplate\":\"Bin-Merchant=601100 - Seamless Chex (Auth.net)\\u003cbr\\u003esuccess_rate=%{text}\\u003cbr\\u003ecampaignName=%{y}\\u003cbr\\u003ecardBin=%{customdata[0]}\\u003cbr\\u003emerchant=%{customdata[1]}\\u003cbr\\u003etotal_txns=%{customdata[2]}\\u003cbr\\u003esuccess_count=%{customdata[3]}\\u003cextra\\u003e\\u003c\\u002fextra\\u003e\",\"legendgroup\":\"601100 - Seamless Chex (Auth.net)\",\"marker\":{\"color\":\"#FFA15A\",\"pattern\":{\"shape\":\"\"}},\"name\":\"601100 - Seamless Chex (Auth.net)\",\"offsetgroup\":\"601100 - Seamless Chex (Auth.net)\",\"orientation\":\"h\",\"showlegend\":true,\"text\":[0.8865979381443299,0.3148148148148148,0.3013698630136986],\"textposition\":\"outside\",\"x\":[0.8865979381443299,0.3148148148148148,0.3013698630136986],\"xaxis\":\"x\",\"y\":[\"MozzGuard\",\"OptiFuel\",\"Ozzi Heat\"],\"yaxis\":\"y\",\"type\":\"bar\",\"texttemplate\":\"%{text:.2f}\"}],                        {\"template\":{\"data\":{\"histogram2dcontour\":[{\"type\":\"histogram2dcontour\",\"colorbar\":{\"outlinewidth\":0,\"ticks\":\"\"},\"colorscale\":[[0.0,\"#0d0887\"],[0.1111111111111111,\"#46039f\"],[0.2222222222222222,\"#7201a8\"],[0.3333333333333333,\"#9c179e\"],[0.4444444444444444,\"#bd3786\"],[0.5555555555555556,\"#d8576b\"],[0.6666666666666666,\"#ed7953\"],[0.7777777777777778,\"#fb9f3a\"],[0.8888888888888888,\"#fdca26\"],[1.0,\"#f0f921\"]]}],\"choropleth\":[{\"type\":\"choropleth\",\"colorbar\":{\"outlinewidth\":0,\"ticks\":\"\"}}],\"histogram2d\":[{\"type\":\"histogram2d\",\"colorbar\":{\"outlinewidth\":0,\"ticks\":\"\"},\"colorscale\":[[0.0,\"#0d0887\"],[0.1111111111111111,\"#46039f\"],[0.2222222222222222,\"#7201a8\"],[0.3333333333333333,\"#9c179e\"],[0.4444444444444444,\"#bd3786\"],[0.5555555555555556,\"#d8576b\"],[0.6666666666666666,\"#ed7953\"],[0.7777777777777778,\"#fb9f3a\"],[0.8888888888888888,\"#fdca26\"],[1.0,\"#f0f921\"]]}],\"heatmap\":[{\"type\":\"heatmap\",\"colorbar\":{\"outlinewidth\":0,\"ticks\":\"\"},\"colorscale\":[[0.0,\"#0d0887\"],[0.1111111111111111,\"#46039f\"],[0.2222222222222222,\"#7201a8\"],[0.3333333333333333,\"#9c179e\"],[0.4444444444444444,\"#bd3786\"],[0.5555555555555556,\"#d8576b\"],[0.6666666666666666,\"#ed7953\"],[0.7777777777777778,\"#fb9f3a\"],[0.8888888888888888,\"#fdca26\"],[1.0,\"#f0f921\"]]}],\"heatmapgl\":[{\"type\":\"heatmapgl\",\"colorbar\":{\"outlinewidth\":0,\"ticks\":\"\"},\"colorscale\":[[0.0,\"#0d0887\"],[0.1111111111111111,\"#46039f\"],[0.2222222222222222,\"#7201a8\"],[0.3333333333333333,\"#9c179e\"],[0.4444444444444444,\"#bd3786\"],[0.5555555555555556,\"#d8576b\"],[0.6666666666666666,\"#ed7953\"],[0.7777777777777778,\"#fb9f3a\"],[0.8888888888888888,\"#fdca26\"],[1.0,\"#f0f921\"]]}],\"contourcarpet\":[{\"type\":\"contourcarpet\",\"colorbar\":{\"outlinewidth\":0,\"ticks\":\"\"}}],\"contour\":[{\"type\":\"contour\",\"colorbar\":{\"outlinewidth\":0,\"ticks\":\"\"},\"colorscale\":[[0.0,\"#0d0887\"],[0.1111111111111111,\"#46039f\"],[0.2222222222222222,\"#7201a8\"],[0.3333333333333333,\"#9c179e\"],[0.4444444444444444,\"#bd3786\"],[0.5555555555555556,\"#d8576b\"],[0.6666666666666666,\"#ed7953\"],[0.7777777777777778,\"#fb9f3a\"],[0.8888888888888888,\"#fdca26\"],[1.0,\"#f0f921\"]]}],\"surface\":[{\"type\":\"surface\",\"colorbar\":{\"outlinewidth\":0,\"ticks\":\"\"},\"colorscale\":[[0.0,\"#0d0887\"],[0.1111111111111111,\"#46039f\"],[0.2222222222222222,\"#7201a8\"],[0.3333333333333333,\"#9c179e\"],[0.4444444444444444,\"#bd3786\"],[0.5555555555555556,\"#d8576b\"],[0.6666666666666666,\"#ed7953\"],[0.7777777777777778,\"#fb9f3a\"],[0.8888888888888888,\"#fdca26\"],[1.0,\"#f0f921\"]]}],\"mesh3d\":[{\"type\":\"mesh3d\",\"colorbar\":{\"outlinewidth\":0,\"ticks\":\"\"}}],\"scatter\":[{\"fillpattern\":{\"fillmode\":\"overlay\",\"size\":10,\"solidity\":0.2},\"type\":\"scatter\"}],\"parcoords\":[{\"type\":\"parcoords\",\"line\":{\"colorbar\":{\"outlinewidth\":0,\"ticks\":\"\"}}}],\"scatterpolargl\":[{\"type\":\"scatterpolargl\",\"marker\":{\"colorbar\":{\"outlinewidth\":0,\"ticks\":\"\"}}}],\"bar\":[{\"error_x\":{\"color\":\"#2a3f5f\"},\"error_y\":{\"color\":\"#2a3f5f\"},\"marker\":{\"line\":{\"color\":\"#E5ECF6\",\"width\":0.5},\"pattern\":{\"fillmode\":\"overlay\",\"size\":10,\"solidity\":0.2}},\"type\":\"bar\"}],\"scattergeo\":[{\"type\":\"scattergeo\",\"marker\":{\"colorbar\":{\"outlinewidth\":0,\"ticks\":\"\"}}}],\"scatterpolar\":[{\"type\":\"scatterpolar\",\"marker\":{\"colorbar\":{\"outlinewidth\":0,\"ticks\":\"\"}}}],\"histogram\":[{\"marker\":{\"pattern\":{\"fillmode\":\"overlay\",\"size\":10,\"solidity\":0.2}},\"type\":\"histogram\"}],\"scattergl\":[{\"type\":\"scattergl\",\"marker\":{\"colorbar\":{\"outlinewidth\":0,\"ticks\":\"\"}}}],\"scatter3d\":[{\"type\":\"scatter3d\",\"line\":{\"colorbar\":{\"outlinewidth\":0,\"ticks\":\"\"}},\"marker\":{\"colorbar\":{\"outlinewidth\":0,\"ticks\":\"\"}}}],\"scattermapbox\":[{\"type\":\"scattermapbox\",\"marker\":{\"colorbar\":{\"outlinewidth\":0,\"ticks\":\"\"}}}],\"scatterternary\":[{\"type\":\"scatterternary\",\"marker\":{\"colorbar\":{\"outlinewidth\":0,\"ticks\":\"\"}}}],\"scattercarpet\":[{\"type\":\"scattercarpet\",\"marker\":{\"colorbar\":{\"outlinewidth\":0,\"ticks\":\"\"}}}],\"carpet\":[{\"aaxis\":{\"endlinecolor\":\"#2a3f5f\",\"gridcolor\":\"white\",\"linecolor\":\"white\",\"minorgridcolor\":\"white\",\"startlinecolor\":\"#2a3f5f\"},\"baxis\":{\"endlinecolor\":\"#2a3f5f\",\"gridcolor\":\"white\",\"linecolor\":\"white\",\"minorgridcolor\":\"white\",\"startlinecolor\":\"#2a3f5f\"},\"type\":\"carpet\"}],\"table\":[{\"cells\":{\"fill\":{\"color\":\"#EBF0F8\"},\"line\":{\"color\":\"white\"}},\"header\":{\"fill\":{\"color\":\"#C8D4E3\"},\"line\":{\"color\":\"white\"}},\"type\":\"table\"}],\"barpolar\":[{\"marker\":{\"line\":{\"color\":\"#E5ECF6\",\"width\":0.5},\"pattern\":{\"fillmode\":\"overlay\",\"size\":10,\"solidity\":0.2}},\"type\":\"barpolar\"}],\"pie\":[{\"automargin\":true,\"type\":\"pie\"}]},\"layout\":{\"autotypenumbers\":\"strict\",\"colorway\":[\"#636efa\",\"#EF553B\",\"#00cc96\",\"#ab63fa\",\"#FFA15A\",\"#19d3f3\",\"#FF6692\",\"#B6E880\",\"#FF97FF\",\"#FECB52\"],\"font\":{\"color\":\"#2a3f5f\"},\"hovermode\":\"closest\",\"hoverlabel\":{\"align\":\"left\"},\"paper_bgcolor\":\"white\",\"plot_bgcolor\":\"#E5ECF6\",\"polar\":{\"bgcolor\":\"#E5ECF6\",\"angularaxis\":{\"gridcolor\":\"white\",\"linecolor\":\"white\",\"ticks\":\"\"},\"radialaxis\":{\"gridcolor\":\"white\",\"linecolor\":\"white\",\"ticks\":\"\"}},\"ternary\":{\"bgcolor\":\"#E5ECF6\",\"aaxis\":{\"gridcolor\":\"white\",\"linecolor\":\"white\",\"ticks\":\"\"},\"baxis\":{\"gridcolor\":\"white\",\"linecolor\":\"white\",\"ticks\":\"\"},\"caxis\":{\"gridcolor\":\"white\",\"linecolor\":\"white\",\"ticks\":\"\"}},\"coloraxis\":{\"colorbar\":{\"outlinewidth\":0,\"ticks\":\"\"}},\"colorscale\":{\"sequential\":[[0.0,\"#0d0887\"],[0.1111111111111111,\"#46039f\"],[0.2222222222222222,\"#7201a8\"],[0.3333333333333333,\"#9c179e\"],[0.4444444444444444,\"#bd3786\"],[0.5555555555555556,\"#d8576b\"],[0.6666666666666666,\"#ed7953\"],[0.7777777777777778,\"#fb9f3a\"],[0.8888888888888888,\"#fdca26\"],[1.0,\"#f0f921\"]],\"sequentialminus\":[[0.0,\"#0d0887\"],[0.1111111111111111,\"#46039f\"],[0.2222222222222222,\"#7201a8\"],[0.3333333333333333,\"#9c179e\"],[0.4444444444444444,\"#bd3786\"],[0.5555555555555556,\"#d8576b\"],[0.6666666666666666,\"#ed7953\"],[0.7777777777777778,\"#fb9f3a\"],[0.8888888888888888,\"#fdca26\"],[1.0,\"#f0f921\"]],\"diverging\":[[0,\"#8e0152\"],[0.1,\"#c51b7d\"],[0.2,\"#de77ae\"],[0.3,\"#f1b6da\"],[0.4,\"#fde0ef\"],[0.5,\"#f7f7f7\"],[0.6,\"#e6f5d0\"],[0.7,\"#b8e186\"],[0.8,\"#7fbc41\"],[0.9,\"#4d9221\"],[1,\"#276419\"]]},\"xaxis\":{\"gridcolor\":\"white\",\"linecolor\":\"white\",\"ticks\":\"\",\"title\":{\"standoff\":15},\"zerolinecolor\":\"white\",\"automargin\":true,\"zerolinewidth\":2},\"yaxis\":{\"gridcolor\":\"white\",\"linecolor\":\"white\",\"ticks\":\"\",\"title\":{\"standoff\":15},\"zerolinecolor\":\"white\",\"automargin\":true,\"zerolinewidth\":2},\"scene\":{\"xaxis\":{\"backgroundcolor\":\"#E5ECF6\",\"gridcolor\":\"white\",\"linecolor\":\"white\",\"showbackground\":true,\"ticks\":\"\",\"zerolinecolor\":\"white\",\"gridwidth\":2},\"yaxis\":{\"backgroundcolor\":\"#E5ECF6\",\"gridcolor\":\"white\",\"linecolor\":\"white\",\"showbackground\":true,\"ticks\":\"\",\"zerolinecolor\":\"white\",\"gridwidth\":2},\"zaxis\":{\"backgroundcolor\":\"#E5ECF6\",\"gridcolor\":\"white\",\"linecolor\":\"white\",\"showbackground\":true,\"ticks\":\"\",\"zerolinecolor\":\"white\",\"gridwidth\":2}},\"shapedefaults\":{\"line\":{\"color\":\"#2a3f5f\"}},\"annotationdefaults\":{\"arrowcolor\":\"#2a3f5f\",\"arrowhead\":0,\"arrowwidth\":1},\"geo\":{\"bgcolor\":\"white\",\"landcolor\":\"#E5ECF6\",\"subunitcolor\":\"white\",\"showland\":true,\"showlakes\":true,\"lakecolor\":\"white\"},\"title\":{\"x\":0.05},\"mapbox\":{\"style\":\"light\"}}},\"xaxis\":{\"anchor\":\"y\",\"domain\":[0.0,1.0],\"title\":{\"text\":\"success_rate\"}},\"yaxis\":{\"anchor\":\"x\",\"domain\":[0.0,1.0],\"title\":{\"text\":\"campaignName\"},\"categoryorder\":\"total ascending\"},\"legend\":{\"title\":{\"text\":\"Bin-Merchant\"},\"tracegroupgap\":0},\"title\":{\"text\":\"Top Campaigns by Success Rate (Grouped by BIN + Merchant)\"},\"barmode\":\"relative\",\"height\":600},                        {\"responsive\": true}                    ).then(function(){\n",
       "                            \n",
       "var gd = document.getElementById('8c309acc-d9df-4609-8ad8-7238d7dc5995');\n",
       "var x = new MutationObserver(function (mutations, observer) {{\n",
       "        var display = window.getComputedStyle(gd).display;\n",
       "        if (!display || display === 'none') {{\n",
       "            console.log([gd, 'removed!']);\n",
       "            Plotly.purge(gd);\n",
       "            observer.disconnect();\n",
       "        }}\n",
       "}});\n",
       "\n",
       "// Listen for the removal of the full notebook cells\n",
       "var notebookContainer = gd.closest('#notebook-container');\n",
       "if (notebookContainer) {{\n",
       "    x.observe(notebookContainer, {childList: true});\n",
       "}}\n",
       "\n",
       "// Listen for the clearing of the current output cell\n",
       "var outputEl = gd.closest('.output');\n",
       "if (outputEl) {{\n",
       "    x.observe(outputEl, {childList: true});\n",
       "}}\n",
       "\n",
       "                        })                };                });            </script>        </div>"
      ]
     },
     "metadata": {},
     "output_type": "display_data"
    }
   ],
   "source": [
    "q2_result['Bin-Merchant'] = q2_result['cardBin'].astype(str) + ' - ' + q2_result['merchant']\n",
    "\n",
    "fig = px.bar(\n",
    "    q2_result,\n",
    "    x='success_rate',\n",
    "    y='campaignName',\n",
    "    color='Bin-Merchant',\n",
    "    text='success_rate',\n",
    "    orientation='h',\n",
    "    title='Top Campaigns by Success Rate (Grouped by BIN + Merchant)',\n",
    "    hover_data=['cardBin', 'merchant', 'total_txns', 'success_count']\n",
    ")\n",
    "\n",
    "fig.update_traces(texttemplate='%{text:.2f}', textposition='outside')\n",
    "fig.update_layout(yaxis={'categoryorder':'total ascending'}, height=600)\n",
    "fig.show()\n",
    "\n"
   ]
  },
  {
   "cell_type": "code",
   "execution_count": 33,
   "id": "05d4061b-1a13-4fbc-81c7-407c4e5ba5a8",
   "metadata": {},
   "outputs": [],
   "source": [
    "q1_result.to_csv('q1_result.csv', index=False)"
   ]
  },
  {
   "cell_type": "code",
   "execution_count": 34,
   "id": "d4aed255-db30-4f10-a790-9e1b71283f16",
   "metadata": {},
   "outputs": [],
   "source": [
    "q2_result.to_csv('q2_result.csv', index=False)"
   ]
  },
  {
   "cell_type": "code",
   "execution_count": 35,
   "id": "ecd65f86-e38b-4094-a0df-f3c73a35f039",
   "metadata": {},
   "outputs": [
    {
     "name": "stdout",
     "output_type": "stream",
     "text": [
      "Defaulting to user installation because normal site-packages is not writeable\n",
      "Collecting kaleido\n",
      "  Downloading kaleido-0.2.1-py2.py3-none-win_amd64.whl.metadata (15 kB)\n",
      "Downloading kaleido-0.2.1-py2.py3-none-win_amd64.whl (65.9 MB)\n",
      "   ---------------------------------------- 0.0/65.9 MB ? eta -:--:--\n",
      "   ---------------------------------------- 0.3/65.9 MB ? eta -:--:--\n",
      "   ---------------------------------------- 0.8/65.9 MB 3.0 MB/s eta 0:00:22\n",
      "   - -------------------------------------- 1.8/65.9 MB 3.6 MB/s eta 0:00:18\n",
      "   - -------------------------------------- 2.6/65.9 MB 3.9 MB/s eta 0:00:17\n",
      "   -- ------------------------------------- 3.7/65.9 MB 4.1 MB/s eta 0:00:16\n",
      "   --- ------------------------------------ 5.2/65.9 MB 4.7 MB/s eta 0:00:13\n",
      "   ---- ----------------------------------- 7.1/65.9 MB 5.3 MB/s eta 0:00:12\n",
      "   ----- ---------------------------------- 8.7/65.9 MB 5.9 MB/s eta 0:00:10\n",
      "   ----- ---------------------------------- 9.7/65.9 MB 5.6 MB/s eta 0:00:10\n",
      "   ------ --------------------------------- 10.2/65.9 MB 5.4 MB/s eta 0:00:11\n",
      "   ------ --------------------------------- 11.0/65.9 MB 5.1 MB/s eta 0:00:11\n",
      "   ------ --------------------------------- 11.5/65.9 MB 5.0 MB/s eta 0:00:11\n",
      "   ------- -------------------------------- 12.3/65.9 MB 4.7 MB/s eta 0:00:12\n",
      "   ------- -------------------------------- 12.8/65.9 MB 4.6 MB/s eta 0:00:12\n",
      "   -------- ------------------------------- 13.4/65.9 MB 4.5 MB/s eta 0:00:12\n",
      "   -------- ------------------------------- 13.9/65.9 MB 4.4 MB/s eta 0:00:12\n",
      "   -------- ------------------------------- 14.7/65.9 MB 4.3 MB/s eta 0:00:13\n",
      "   --------- ------------------------------ 15.2/65.9 MB 4.2 MB/s eta 0:00:13\n",
      "   --------- ------------------------------ 16.0/65.9 MB 4.1 MB/s eta 0:00:13\n",
      "   ---------- ----------------------------- 16.8/65.9 MB 4.1 MB/s eta 0:00:13\n",
      "   ---------- ----------------------------- 17.3/65.9 MB 4.1 MB/s eta 0:00:12\n",
      "   ---------- ----------------------------- 18.1/65.9 MB 4.0 MB/s eta 0:00:12\n",
      "   ----------- ---------------------------- 18.6/65.9 MB 4.0 MB/s eta 0:00:12\n",
      "   ----------- ---------------------------- 19.4/65.9 MB 4.0 MB/s eta 0:00:12\n",
      "   ------------ --------------------------- 20.2/65.9 MB 4.0 MB/s eta 0:00:12\n",
      "   ------------ --------------------------- 21.0/65.9 MB 3.9 MB/s eta 0:00:12\n",
      "   ------------- -------------------------- 21.8/65.9 MB 4.0 MB/s eta 0:00:12\n",
      "   ------------- -------------------------- 22.5/65.9 MB 3.9 MB/s eta 0:00:12\n",
      "   -------------- ------------------------- 23.3/65.9 MB 3.9 MB/s eta 0:00:11\n",
      "   -------------- ------------------------- 24.1/65.9 MB 3.9 MB/s eta 0:00:11\n",
      "   --------------- ------------------------ 25.2/65.9 MB 3.9 MB/s eta 0:00:11\n",
      "   --------------- ------------------------ 26.0/65.9 MB 3.9 MB/s eta 0:00:11\n",
      "   ---------------- ----------------------- 26.7/65.9 MB 3.9 MB/s eta 0:00:10\n",
      "   ---------------- ----------------------- 27.8/65.9 MB 4.0 MB/s eta 0:00:10\n",
      "   ----------------- ---------------------- 28.6/65.9 MB 4.0 MB/s eta 0:00:10\n",
      "   ----------------- ---------------------- 29.6/65.9 MB 4.0 MB/s eta 0:00:10\n",
      "   ------------------ --------------------- 30.7/65.9 MB 4.0 MB/s eta 0:00:09\n",
      "   ------------------ --------------------- 31.2/65.9 MB 4.0 MB/s eta 0:00:09\n",
      "   ------------------- -------------------- 32.0/65.9 MB 4.0 MB/s eta 0:00:09\n",
      "   ------------------- -------------------- 32.8/65.9 MB 4.0 MB/s eta 0:00:09\n",
      "   -------------------- ------------------- 33.6/65.9 MB 4.0 MB/s eta 0:00:09\n",
      "   -------------------- ------------------- 34.3/65.9 MB 4.0 MB/s eta 0:00:08\n",
      "   --------------------- ------------------ 35.1/65.9 MB 4.0 MB/s eta 0:00:08\n",
      "   --------------------- ------------------ 35.9/65.9 MB 3.9 MB/s eta 0:00:08\n",
      "   ---------------------- ----------------- 36.4/65.9 MB 3.9 MB/s eta 0:00:08\n",
      "   ---------------------- ----------------- 37.0/65.9 MB 3.9 MB/s eta 0:00:08\n",
      "   ---------------------- ----------------- 37.7/65.9 MB 3.9 MB/s eta 0:00:08\n",
      "   ----------------------- ---------------- 38.3/65.9 MB 3.9 MB/s eta 0:00:08\n",
      "   ----------------------- ---------------- 38.8/65.9 MB 3.8 MB/s eta 0:00:08\n",
      "   ------------------------ --------------- 39.6/65.9 MB 3.8 MB/s eta 0:00:07\n",
      "   ------------------------ --------------- 40.1/65.9 MB 3.8 MB/s eta 0:00:07\n",
      "   ------------------------ --------------- 40.9/65.9 MB 3.8 MB/s eta 0:00:07\n",
      "   ------------------------- -------------- 41.7/65.9 MB 3.8 MB/s eta 0:00:07\n",
      "   ------------------------- -------------- 42.2/65.9 MB 3.8 MB/s eta 0:00:07\n",
      "   -------------------------- ------------- 43.0/65.9 MB 3.8 MB/s eta 0:00:07\n",
      "   -------------------------- ------------- 43.5/65.9 MB 3.8 MB/s eta 0:00:06\n",
      "   -------------------------- ------------- 44.3/65.9 MB 3.7 MB/s eta 0:00:06\n",
      "   --------------------------- ------------ 45.1/65.9 MB 3.7 MB/s eta 0:00:06\n",
      "   --------------------------- ------------ 45.9/65.9 MB 3.7 MB/s eta 0:00:06\n",
      "   ---------------------------- ----------- 46.7/65.9 MB 3.7 MB/s eta 0:00:06\n",
      "   ---------------------------- ----------- 47.4/65.9 MB 3.7 MB/s eta 0:00:05\n",
      "   ----------------------------- ---------- 48.2/65.9 MB 3.7 MB/s eta 0:00:05\n",
      "   ----------------------------- ---------- 49.3/65.9 MB 3.8 MB/s eta 0:00:05\n",
      "   ------------------------------ --------- 50.1/65.9 MB 3.8 MB/s eta 0:00:05\n",
      "   ------------------------------ --------- 50.9/65.9 MB 3.8 MB/s eta 0:00:04\n",
      "   ------------------------------- -------- 51.9/65.9 MB 3.8 MB/s eta 0:00:04\n",
      "   ------------------------------- -------- 52.7/65.9 MB 3.8 MB/s eta 0:00:04\n",
      "   -------------------------------- ------- 53.7/65.9 MB 3.8 MB/s eta 0:00:04\n",
      "   --------------------------------- ------ 54.5/65.9 MB 3.8 MB/s eta 0:00:03\n",
      "   --------------------------------- ------ 55.1/65.9 MB 3.8 MB/s eta 0:00:03\n",
      "   --------------------------------- ------ 55.8/65.9 MB 3.8 MB/s eta 0:00:03\n",
      "   ---------------------------------- ----- 56.4/65.9 MB 3.8 MB/s eta 0:00:03\n",
      "   ---------------------------------- ----- 56.9/65.9 MB 3.8 MB/s eta 0:00:03\n",
      "   ---------------------------------- ----- 57.7/65.9 MB 3.8 MB/s eta 0:00:03\n",
      "   ----------------------------------- ---- 58.5/65.9 MB 3.8 MB/s eta 0:00:02\n",
      "   ----------------------------------- ---- 59.2/65.9 MB 3.8 MB/s eta 0:00:02\n",
      "   ------------------------------------ --- 60.3/65.9 MB 3.7 MB/s eta 0:00:02\n",
      "   ------------------------------------- -- 61.1/65.9 MB 3.8 MB/s eta 0:00:02\n",
      "   ------------------------------------- -- 61.9/65.9 MB 3.8 MB/s eta 0:00:02\n",
      "   -------------------------------------- - 62.7/65.9 MB 3.8 MB/s eta 0:00:01\n",
      "   -------------------------------------- - 63.7/65.9 MB 3.8 MB/s eta 0:00:01\n",
      "   ---------------------------------------  64.5/65.9 MB 3.8 MB/s eta 0:00:01\n",
      "   ---------------------------------------  65.0/65.9 MB 3.8 MB/s eta 0:00:01\n",
      "   ---------------------------------------  65.5/65.9 MB 3.8 MB/s eta 0:00:01\n",
      "   ---------------------------------------- 65.9/65.9 MB 3.7 MB/s eta 0:00:00\n",
      "Installing collected packages: kaleido\n",
      "Successfully installed kaleido-0.2.1\n"
     ]
    }
   ],
   "source": [
    "!pip install -U kaleido"
   ]
  },
  {
   "cell_type": "code",
   "execution_count": null,
   "id": "f2cac93e-a1f6-4727-93f2-73ad8d8718cb",
   "metadata": {},
   "outputs": [],
   "source": []
  }
 ],
 "metadata": {
  "kernelspec": {
   "display_name": "Python 3 (ipykernel)",
   "language": "python",
   "name": "python3"
  },
  "language_info": {
   "codemirror_mode": {
    "name": "ipython",
    "version": 3
   },
   "file_extension": ".py",
   "mimetype": "text/x-python",
   "name": "python",
   "nbconvert_exporter": "python",
   "pygments_lexer": "ipython3",
   "version": "3.9.21"
  }
 },
 "nbformat": 4,
 "nbformat_minor": 5
}
