{
 "cells": [
  {
   "cell_type": "code",
   "execution_count": 1,
   "id": "2bea0cdc",
   "metadata": {},
   "outputs": [
    {
     "name": "stdout",
     "output_type": "stream",
     "text": [
      "                        _id  transactionId 3DTxnResult  __v achBankName  \\\n",
      "0  6816c18f10f783ceceb640a7         438506       false    0        None   \n",
      "1  6816c18f10f783ceceb640a8         438507       false    0        None   \n",
      "2  6816c18f10f783ceceb640a9         438512       false    0        None   \n",
      "3  6816c18f10f783ceceb640aa         438513       false    0        None   \n",
      "4  6816c18f10f783ceceb640ab         438514       false    0        None   \n",
      "\n",
      "   actualOrderId affId authCode avsResponse  billingCycleNumber  ...  \\\n",
      "0         292135  None     None        None                 1.0  ...   \n",
      "1         292135  None     None        None                 1.0  ...   \n",
      "2         292139  None   300467           P                 7.0  ...   \n",
      "3         292140  None     None        None                 3.0  ...   \n",
      "4         292141  None   196536        None                 2.0  ...   \n",
      "\n",
      "  sourceValue2 sourceValue3 sourceValue4 sourceValue5  state  surcharge  \\\n",
      "0         None         None         None         None    QLD       0.00   \n",
      "1         None         None         None         None    QLD       0.00   \n",
      "2         None         None         None         None     MA       0.00   \n",
      "3         None         None         None         None    CLK       0.00   \n",
      "4         None         None         None         None     WA       0.00   \n",
      "\n",
      "  totalAmount txnType refundItemId refundProductName  \n",
      "0      104.92    SALE          NaN               NaN  \n",
      "1      134.97    SALE          NaN               NaN  \n",
      "2       29.95    SALE          NaN               NaN  \n",
      "3       29.99    SALE          NaN               NaN  \n",
      "4       29.99    SALE          NaN               NaN  \n",
      "\n",
      "[5 rows x 69 columns]\n"
     ]
    }
   ],
   "source": [
    "from pymongo import MongoClient\n",
    "import pandas as pd\n",
    "import urllib.parse\n",
    "\n",
    "# Your credentials\n",
    "username = \"soundDev\"\n",
    "password = \"e1kemyOwhAYXNidM\"\n",
    "cluster_url = \"atlas-sql-681e2eb821f0c21b8b5e1712-lkspta.a.query.mongodb.net\"\n",
    "database_name = \"checkoutETL\"\n",
    "collection_name = \"transactions\"\n",
    "\n",
    "# URL encode username and password in case of special chars\n",
    "username = urllib.parse.quote_plus(username)\n",
    "password = urllib.parse.quote_plus(password)\n",
    "\n",
    "# Build the MongoDB connection string (note: mongodb:// not mongodb+srv://)\n",
    "mongo_uri = (\n",
    "    f\"mongodb://{username}:{password}@{cluster_url}/{database_name}\"\n",
    "    \"?ssl=true&authSource=admin\"\n",
    ")\n",
    "\n",
    "# Connect to MongoDB\n",
    "client = MongoClient(mongo_uri)\n",
    "\n",
    "# Select DB and collection\n",
    "db = client[database_name]\n",
    "collection = db[collection_name]\n",
    "\n",
    "# Load data into DataFrame (limit to 1000 documents to avoid overload)\n",
    "df = pd.DataFrame(list(collection.find()))\n",
    "\n",
    "# Show first rows\n",
    "print(df.head())\n"
   ]
  },
  {
   "cell_type": "code",
   "execution_count": 2,
   "id": "c556b6bc",
   "metadata": {},
   "outputs": [
    {
     "data": {
      "text/plain": [
       "Index(['_id', 'transactionId', '3DTxnResult', '__v', 'achBankName',\n",
       "       'actualOrderId', 'affId', 'authCode', 'avsResponse',\n",
       "       'billingCycleNumber', 'campaignCategoryName', 'campaignId',\n",
       "       'campaignName', 'cardBin', 'cardIsDebit', 'cardIsPrepaid', 'cardLast4',\n",
       "       'cardType', 'chargebackAmount', 'chargebackDate', 'chargebackNote',\n",
       "       'chargebackReasonCode', 'city', 'clientOrderId', 'clientTxnId',\n",
       "       'country', 'currencyCode', 'currencySymbol', 'custom1', 'custom2',\n",
       "       'custom3', 'custom4', 'custom5', 'customerId', 'cvvResponse',\n",
       "       'dateCreated', 'dateUpdated', 'funnelReferenceId', 'ipAddress',\n",
       "       'isChargedback', 'items', 'merchant', 'merchantDescriptor',\n",
       "       'merchantId', 'merchantTxnId', 'midNumber', 'orderAgentName', 'orderId',\n",
       "       'orderType', 'parentTxnId', 'paySource', 'paySourceId', 'postalCode',\n",
       "       'recycleNumber', 'refundReason', 'responseText', 'responseType',\n",
       "       'sourceTitle', 'sourceValue1', 'sourceValue2', 'sourceValue3',\n",
       "       'sourceValue4', 'sourceValue5', 'state', 'surcharge', 'totalAmount',\n",
       "       'txnType', 'refundItemId', 'refundProductName'],\n",
       "      dtype='object')"
      ]
     },
     "execution_count": 2,
     "metadata": {},
     "output_type": "execute_result"
    }
   ],
   "source": [
    "df.columns"
   ]
  },
  {
   "cell_type": "code",
   "execution_count": 3,
   "id": "2d0ad549",
   "metadata": {},
   "outputs": [
    {
     "data": {
      "text/plain": [
       "(173212, 69)"
      ]
     },
     "execution_count": 3,
     "metadata": {},
     "output_type": "execute_result"
    }
   ],
   "source": [
    "df.shape"
   ]
  },
  {
   "cell_type": "code",
   "execution_count": 4,
   "id": "32f48e12",
   "metadata": {},
   "outputs": [],
   "source": [
    "df['TransactionType'] = df['billingCycleNumber'].apply(\n",
    "    lambda x: 'CIT' if x == 1 else ('MIT' if x > 1 else 'Ignore')\n",
    ")\n",
    "df = df[df['TransactionType'] == 'CIT']"
   ]
  },
  {
   "cell_type": "code",
   "execution_count": 5,
   "id": "4389767f",
   "metadata": {},
   "outputs": [
    {
     "data": {
      "text/plain": [
       "(116412, 70)"
      ]
     },
     "execution_count": 5,
     "metadata": {},
     "output_type": "execute_result"
    }
   ],
   "source": [
    "df.shape"
   ]
  },
  {
   "cell_type": "code",
   "execution_count": 6,
   "id": "6e846a5f",
   "metadata": {},
   "outputs": [],
   "source": [
    "# Filter only SUCCESS transactions\n",
    "success_df = df[df['responseType'] == 'SUCCESS']\n",
    "\n",
    "# Count SUCCESS per campaign\n",
    "success_per_campaign = (\n",
    "    success_df\n",
    "    .groupby('campaignName')['transactionId']\n",
    "    .count()\n",
    "    .reset_index(name='success_count')\n",
    ")\n",
    "\n",
    "# Keep only campaigns with at least 100 SUCCESS transactions\n",
    "top_campaigns = success_per_campaign[success_per_campaign['success_count'] >= 100]\n",
    "\n",
    "# Select top 10 campaigns by SUCCESS volume\n",
    "top_10_campaigns = top_campaigns.sort_values(by='success_count', ascending=False).head(10)\n",
    "\n",
    "# Filter original CIT dataset to only include these top 10 campaigns\n",
    "df_top10 = df[df['campaignName'].isin(top_10_campaigns['campaignName'])]\n"
   ]
  },
  {
   "cell_type": "code",
   "execution_count": 7,
   "id": "05ec44de",
   "metadata": {},
   "outputs": [],
   "source": [
    "# Define merchants to exclude\n",
    "paypal_keywords = ['paypal us', 'paypal usd', 'paypal@om']\n",
    "\n",
    "# Filter out PayPal merchants (case-insensitive match)\n",
    "df_top10_filtered = df_top10[~df_top10['merchant'].str.lower().isin(paypal_keywords)]\n",
    "\n"
   ]
  },
  {
   "cell_type": "code",
   "execution_count": 8,
   "id": "1ef3b97e",
   "metadata": {},
   "outputs": [],
   "source": [
    "# Pivot to get counts of each responseType per campaign & merchant\n",
    "pivot = (\n",
    "    df_top10_filtered\n",
    "    .groupby(['campaignName', 'merchant', 'responseType'])['transactionId']\n",
    "    .count()\n",
    "    .unstack(fill_value=0)\n",
    "    .reset_index()\n",
    ")\n",
    "\n",
    "# Fill missing response type columns with 0\n",
    "for col in ['SUCCESS', 'SOFT_DECLINE', 'HARD_DECLINE', 'PENDING']:\n",
    "    if col not in pivot.columns:\n",
    "        pivot[col] = 0\n",
    "\n",
    "# Calculate total attempts and auth_rate\n",
    "pivot['total_attempts'] = pivot[['SUCCESS', 'SOFT_DECLINE', 'HARD_DECLINE', 'PENDING']].sum(axis=1)\n",
    "pivot['auth_rate'] = pivot['SUCCESS'] / pivot['total_attempts']\n"
   ]
  },
  {
   "cell_type": "code",
   "execution_count": 9,
   "id": "72ceff6a",
   "metadata": {},
   "outputs": [
    {
     "data": {
      "text/html": [
       "<div>\n",
       "<style scoped>\n",
       "    .dataframe tbody tr th:only-of-type {\n",
       "        vertical-align: middle;\n",
       "    }\n",
       "\n",
       "    .dataframe tbody tr th {\n",
       "        vertical-align: top;\n",
       "    }\n",
       "\n",
       "    .dataframe thead th {\n",
       "        text-align: right;\n",
       "    }\n",
       "</style>\n",
       "<table border=\"1\" class=\"dataframe\">\n",
       "  <thead>\n",
       "    <tr style=\"text-align: right;\">\n",
       "      <th>responseType</th>\n",
       "      <th>campaignName</th>\n",
       "      <th>merchant</th>\n",
       "      <th>HARD_DECLINE</th>\n",
       "      <th>PENDING</th>\n",
       "      <th>SOFT_DECLINE</th>\n",
       "      <th>SUCCESS</th>\n",
       "      <th>total_attempts</th>\n",
       "      <th>auth_rate</th>\n",
       "    </tr>\n",
       "  </thead>\n",
       "  <tbody>\n",
       "    <tr>\n",
       "      <th>0</th>\n",
       "      <td>BTE Hearing CIC Pro (Facebook)</td>\n",
       "      <td>ADYEN AU</td>\n",
       "      <td>0</td>\n",
       "      <td>0</td>\n",
       "      <td>1</td>\n",
       "      <td>5</td>\n",
       "      <td>6</td>\n",
       "      <td>0.833333</td>\n",
       "    </tr>\n",
       "    <tr>\n",
       "      <th>1</th>\n",
       "      <td>BTE Hearing CIC Pro (Facebook)</td>\n",
       "      <td>Adyen US</td>\n",
       "      <td>25</td>\n",
       "      <td>0</td>\n",
       "      <td>448</td>\n",
       "      <td>967</td>\n",
       "      <td>1440</td>\n",
       "      <td>0.671528</td>\n",
       "    </tr>\n",
       "    <tr>\n",
       "      <th>2</th>\n",
       "      <td>BTE Hearing CIC Pro (Facebook)</td>\n",
       "      <td>EMS Josh (NMI)</td>\n",
       "      <td>105</td>\n",
       "      <td>0</td>\n",
       "      <td>118</td>\n",
       "      <td>251</td>\n",
       "      <td>474</td>\n",
       "      <td>0.529536</td>\n",
       "    </tr>\n",
       "    <tr>\n",
       "      <th>3</th>\n",
       "      <td>BTE Hearing CIC Pro (Facebook)</td>\n",
       "      <td>Finix Josh (Auth.net)</td>\n",
       "      <td>8</td>\n",
       "      <td>0</td>\n",
       "      <td>0</td>\n",
       "      <td>8</td>\n",
       "      <td>16</td>\n",
       "      <td>0.500000</td>\n",
       "    </tr>\n",
       "    <tr>\n",
       "      <th>4</th>\n",
       "      <td>BTE Hearing CIC Pro (Facebook)</td>\n",
       "      <td>Payarc Josh (NMI)</td>\n",
       "      <td>33</td>\n",
       "      <td>0</td>\n",
       "      <td>30</td>\n",
       "      <td>42</td>\n",
       "      <td>105</td>\n",
       "      <td>0.400000</td>\n",
       "    </tr>\n",
       "    <tr>\n",
       "      <th>...</th>\n",
       "      <td>...</td>\n",
       "      <td>...</td>\n",
       "      <td>...</td>\n",
       "      <td>...</td>\n",
       "      <td>...</td>\n",
       "      <td>...</td>\n",
       "      <td>...</td>\n",
       "      <td>...</td>\n",
       "    </tr>\n",
       "    <tr>\n",
       "      <th>74</th>\n",
       "      <td>OptiFuel | AU</td>\n",
       "      <td>EMS Josh (NMI)</td>\n",
       "      <td>27</td>\n",
       "      <td>0</td>\n",
       "      <td>0</td>\n",
       "      <td>0</td>\n",
       "      <td>27</td>\n",
       "      <td>0.000000</td>\n",
       "    </tr>\n",
       "    <tr>\n",
       "      <th>75</th>\n",
       "      <td>OptiFuel | AU</td>\n",
       "      <td>Payarc Josh (NMI)</td>\n",
       "      <td>19</td>\n",
       "      <td>0</td>\n",
       "      <td>0</td>\n",
       "      <td>0</td>\n",
       "      <td>19</td>\n",
       "      <td>0.000000</td>\n",
       "    </tr>\n",
       "    <tr>\n",
       "      <th>76</th>\n",
       "      <td>OptiFuel | AU</td>\n",
       "      <td>Phoenix (NMI)</td>\n",
       "      <td>9</td>\n",
       "      <td>0</td>\n",
       "      <td>0</td>\n",
       "      <td>0</td>\n",
       "      <td>9</td>\n",
       "      <td>0.000000</td>\n",
       "    </tr>\n",
       "    <tr>\n",
       "      <th>77</th>\n",
       "      <td>OptiFuel | AU</td>\n",
       "      <td>Quantum (NMI)</td>\n",
       "      <td>34</td>\n",
       "      <td>0</td>\n",
       "      <td>0</td>\n",
       "      <td>0</td>\n",
       "      <td>34</td>\n",
       "      <td>0.000000</td>\n",
       "    </tr>\n",
       "    <tr>\n",
       "      <th>78</th>\n",
       "      <td>OptiFuel | AU</td>\n",
       "      <td>Seamless Chex (Auth.net)</td>\n",
       "      <td>28</td>\n",
       "      <td>0</td>\n",
       "      <td>0</td>\n",
       "      <td>0</td>\n",
       "      <td>28</td>\n",
       "      <td>0.000000</td>\n",
       "    </tr>\n",
       "  </tbody>\n",
       "</table>\n",
       "<p>79 rows × 8 columns</p>\n",
       "</div>"
      ],
      "text/plain": [
       "responseType                    campaignName                  merchant  \\\n",
       "0             BTE Hearing CIC Pro (Facebook)                  ADYEN AU   \n",
       "1             BTE Hearing CIC Pro (Facebook)                  Adyen US   \n",
       "2             BTE Hearing CIC Pro (Facebook)            EMS Josh (NMI)   \n",
       "3             BTE Hearing CIC Pro (Facebook)     Finix Josh (Auth.net)   \n",
       "4             BTE Hearing CIC Pro (Facebook)         Payarc Josh (NMI)   \n",
       "..                                       ...                       ...   \n",
       "74                             OptiFuel | AU            EMS Josh (NMI)   \n",
       "75                             OptiFuel | AU         Payarc Josh (NMI)   \n",
       "76                             OptiFuel | AU             Phoenix (NMI)   \n",
       "77                             OptiFuel | AU             Quantum (NMI)   \n",
       "78                             OptiFuel | AU  Seamless Chex (Auth.net)   \n",
       "\n",
       "responseType  HARD_DECLINE  PENDING  SOFT_DECLINE  SUCCESS  total_attempts  \\\n",
       "0                        0        0             1        5               6   \n",
       "1                       25        0           448      967            1440   \n",
       "2                      105        0           118      251             474   \n",
       "3                        8        0             0        8              16   \n",
       "4                       33        0            30       42             105   \n",
       "..                     ...      ...           ...      ...             ...   \n",
       "74                      27        0             0        0              27   \n",
       "75                      19        0             0        0              19   \n",
       "76                       9        0             0        0               9   \n",
       "77                      34        0             0        0              34   \n",
       "78                      28        0             0        0              28   \n",
       "\n",
       "responseType  auth_rate  \n",
       "0              0.833333  \n",
       "1              0.671528  \n",
       "2              0.529536  \n",
       "3              0.500000  \n",
       "4              0.400000  \n",
       "..                  ...  \n",
       "74             0.000000  \n",
       "75             0.000000  \n",
       "76             0.000000  \n",
       "77             0.000000  \n",
       "78             0.000000  \n",
       "\n",
       "[79 rows x 8 columns]"
      ]
     },
     "execution_count": 9,
     "metadata": {},
     "output_type": "execute_result"
    }
   ],
   "source": [
    "pivot"
   ]
  },
  {
   "cell_type": "code",
   "execution_count": 23,
   "id": "fe65f7e5",
   "metadata": {},
   "outputs": [],
   "source": [
    "# Keep only merchant-campaign combos with at least 50 SUCCESS transactions\n",
    "pivot_filtered = pivot[pivot['SUCCESS'] >= 10]\n",
    "\n",
    "# For each campaign, pick top 4 merchants by auth_rate\n",
    "top_merchants = (\n",
    "    pivot_filtered\n",
    "    .sort_values(['campaignName', 'auth_rate'], ascending=[True, False])\n",
    "    .groupby('campaignName')\n",
    "    .head(4)\n",
    "    .reset_index(drop=True)\n",
    ")\n"
   ]
  },
  {
   "cell_type": "code",
   "execution_count": 24,
   "id": "db238760",
   "metadata": {},
   "outputs": [
    {
     "data": {
      "text/html": [
       "<div>\n",
       "<style scoped>\n",
       "    .dataframe tbody tr th:only-of-type {\n",
       "        vertical-align: middle;\n",
       "    }\n",
       "\n",
       "    .dataframe tbody tr th {\n",
       "        vertical-align: top;\n",
       "    }\n",
       "\n",
       "    .dataframe thead th {\n",
       "        text-align: right;\n",
       "    }\n",
       "</style>\n",
       "<table border=\"1\" class=\"dataframe\">\n",
       "  <thead>\n",
       "    <tr style=\"text-align: right;\">\n",
       "      <th>responseType</th>\n",
       "      <th>campaignName</th>\n",
       "      <th>merchant</th>\n",
       "      <th>HARD_DECLINE</th>\n",
       "      <th>PENDING</th>\n",
       "      <th>SOFT_DECLINE</th>\n",
       "      <th>SUCCESS</th>\n",
       "      <th>total_attempts</th>\n",
       "      <th>auth_rate</th>\n",
       "    </tr>\n",
       "  </thead>\n",
       "  <tbody>\n",
       "    <tr>\n",
       "      <th>0</th>\n",
       "      <td>BTE Hearing CIC Pro (Facebook)</td>\n",
       "      <td>Adyen US</td>\n",
       "      <td>25</td>\n",
       "      <td>0</td>\n",
       "      <td>448</td>\n",
       "      <td>967</td>\n",
       "      <td>1440</td>\n",
       "      <td>0.671528</td>\n",
       "    </tr>\n",
       "    <tr>\n",
       "      <th>1</th>\n",
       "      <td>BTE Hearing CIC Pro (Facebook)</td>\n",
       "      <td>Stripe (Josh)</td>\n",
       "      <td>0</td>\n",
       "      <td>0</td>\n",
       "      <td>1332</td>\n",
       "      <td>2102</td>\n",
       "      <td>3434</td>\n",
       "      <td>0.612114</td>\n",
       "    </tr>\n",
       "    <tr>\n",
       "      <th>2</th>\n",
       "      <td>BTE Hearing CIC Pro (Facebook)</td>\n",
       "      <td>EMS Josh (NMI)</td>\n",
       "      <td>105</td>\n",
       "      <td>0</td>\n",
       "      <td>118</td>\n",
       "      <td>251</td>\n",
       "      <td>474</td>\n",
       "      <td>0.529536</td>\n",
       "    </tr>\n",
       "    <tr>\n",
       "      <th>3</th>\n",
       "      <td>BTE Hearing CIC Pro (Facebook)</td>\n",
       "      <td>Quantum PremHealth (NMI)</td>\n",
       "      <td>175</td>\n",
       "      <td>0</td>\n",
       "      <td>82</td>\n",
       "      <td>186</td>\n",
       "      <td>443</td>\n",
       "      <td>0.419865</td>\n",
       "    </tr>\n",
       "    <tr>\n",
       "      <th>4</th>\n",
       "      <td>BTE Hearing CIC Pro (Native) - AU</td>\n",
       "      <td>ADYEN AU</td>\n",
       "      <td>27</td>\n",
       "      <td>0</td>\n",
       "      <td>467</td>\n",
       "      <td>1468</td>\n",
       "      <td>1962</td>\n",
       "      <td>0.748216</td>\n",
       "    </tr>\n",
       "    <tr>\n",
       "      <th>5</th>\n",
       "      <td>BTE Hearing CIC Pro (Native) - AU</td>\n",
       "      <td>Adyen US</td>\n",
       "      <td>2</td>\n",
       "      <td>0</td>\n",
       "      <td>28</td>\n",
       "      <td>33</td>\n",
       "      <td>63</td>\n",
       "      <td>0.523810</td>\n",
       "    </tr>\n",
       "    <tr>\n",
       "      <th>6</th>\n",
       "      <td>BTE Hearing CIC Pro (Native) - UK</td>\n",
       "      <td>Adyen US</td>\n",
       "      <td>45</td>\n",
       "      <td>0</td>\n",
       "      <td>2248</td>\n",
       "      <td>2577</td>\n",
       "      <td>4870</td>\n",
       "      <td>0.529158</td>\n",
       "    </tr>\n",
       "    <tr>\n",
       "      <th>7</th>\n",
       "      <td>BTE Hearing CIC Pro (Native) - UK</td>\n",
       "      <td>Stripe (Josh)</td>\n",
       "      <td>0</td>\n",
       "      <td>0</td>\n",
       "      <td>86</td>\n",
       "      <td>66</td>\n",
       "      <td>152</td>\n",
       "      <td>0.434211</td>\n",
       "    </tr>\n",
       "    <tr>\n",
       "      <th>8</th>\n",
       "      <td>BTE Hearing CIC Pro (Native) - UK</td>\n",
       "      <td>ADYEN AU</td>\n",
       "      <td>34</td>\n",
       "      <td>0</td>\n",
       "      <td>2024</td>\n",
       "      <td>1453</td>\n",
       "      <td>3511</td>\n",
       "      <td>0.413842</td>\n",
       "    </tr>\n",
       "    <tr>\n",
       "      <th>9</th>\n",
       "      <td>BTE Hearing CIC Pro (Native) Original</td>\n",
       "      <td>Finix Josh (Auth.net)</td>\n",
       "      <td>80</td>\n",
       "      <td>0</td>\n",
       "      <td>2</td>\n",
       "      <td>764</td>\n",
       "      <td>846</td>\n",
       "      <td>0.903073</td>\n",
       "    </tr>\n",
       "    <tr>\n",
       "      <th>10</th>\n",
       "      <td>BTE Hearing CIC Pro (Native) Original</td>\n",
       "      <td>Seamless Chex (Auth.net)</td>\n",
       "      <td>30</td>\n",
       "      <td>0</td>\n",
       "      <td>36</td>\n",
       "      <td>262</td>\n",
       "      <td>328</td>\n",
       "      <td>0.798780</td>\n",
       "    </tr>\n",
       "    <tr>\n",
       "      <th>11</th>\n",
       "      <td>BTE Hearing CIC Pro (Native) Original</td>\n",
       "      <td>Stripe (Josh)</td>\n",
       "      <td>0</td>\n",
       "      <td>0</td>\n",
       "      <td>348</td>\n",
       "      <td>595</td>\n",
       "      <td>943</td>\n",
       "      <td>0.630965</td>\n",
       "    </tr>\n",
       "    <tr>\n",
       "      <th>12</th>\n",
       "      <td>BTE Hearing CIC Pro (Native) Original</td>\n",
       "      <td>EMS Josh (NMI)</td>\n",
       "      <td>704</td>\n",
       "      <td>0</td>\n",
       "      <td>285</td>\n",
       "      <td>1579</td>\n",
       "      <td>2568</td>\n",
       "      <td>0.614875</td>\n",
       "    </tr>\n",
       "    <tr>\n",
       "      <th>13</th>\n",
       "      <td>BTE Hearing CIC Pro - UK</td>\n",
       "      <td>Adyen US</td>\n",
       "      <td>0</td>\n",
       "      <td>0</td>\n",
       "      <td>127</td>\n",
       "      <td>115</td>\n",
       "      <td>242</td>\n",
       "      <td>0.475207</td>\n",
       "    </tr>\n",
       "    <tr>\n",
       "      <th>14</th>\n",
       "      <td>BTE Hearing CIC Pro - UK</td>\n",
       "      <td>ADYEN AU</td>\n",
       "      <td>9</td>\n",
       "      <td>0</td>\n",
       "      <td>399</td>\n",
       "      <td>363</td>\n",
       "      <td>771</td>\n",
       "      <td>0.470817</td>\n",
       "    </tr>\n",
       "    <tr>\n",
       "      <th>15</th>\n",
       "      <td>MozzGuard</td>\n",
       "      <td>NMI (EMS)</td>\n",
       "      <td>0</td>\n",
       "      <td>0</td>\n",
       "      <td>0</td>\n",
       "      <td>10</td>\n",
       "      <td>10</td>\n",
       "      <td>1.000000</td>\n",
       "    </tr>\n",
       "    <tr>\n",
       "      <th>16</th>\n",
       "      <td>MozzGuard</td>\n",
       "      <td>Adyen US</td>\n",
       "      <td>15</td>\n",
       "      <td>0</td>\n",
       "      <td>236</td>\n",
       "      <td>809</td>\n",
       "      <td>1060</td>\n",
       "      <td>0.763208</td>\n",
       "    </tr>\n",
       "    <tr>\n",
       "      <th>17</th>\n",
       "      <td>MozzGuard</td>\n",
       "      <td>Stripe (Josh)</td>\n",
       "      <td>0</td>\n",
       "      <td>0</td>\n",
       "      <td>84</td>\n",
       "      <td>185</td>\n",
       "      <td>269</td>\n",
       "      <td>0.687732</td>\n",
       "    </tr>\n",
       "    <tr>\n",
       "      <th>18</th>\n",
       "      <td>MozzGuard</td>\n",
       "      <td>EMS Josh (NMI)</td>\n",
       "      <td>274</td>\n",
       "      <td>0</td>\n",
       "      <td>264</td>\n",
       "      <td>773</td>\n",
       "      <td>1311</td>\n",
       "      <td>0.589626</td>\n",
       "    </tr>\n",
       "    <tr>\n",
       "      <th>19</th>\n",
       "      <td>MozzGuard - CA</td>\n",
       "      <td>Adyen US</td>\n",
       "      <td>13</td>\n",
       "      <td>1</td>\n",
       "      <td>233</td>\n",
       "      <td>755</td>\n",
       "      <td>1002</td>\n",
       "      <td>0.753493</td>\n",
       "    </tr>\n",
       "    <tr>\n",
       "      <th>20</th>\n",
       "      <td>MozzGuard - CA</td>\n",
       "      <td>Payarc Josh (NMI)</td>\n",
       "      <td>302</td>\n",
       "      <td>0</td>\n",
       "      <td>154</td>\n",
       "      <td>946</td>\n",
       "      <td>1402</td>\n",
       "      <td>0.674750</td>\n",
       "    </tr>\n",
       "    <tr>\n",
       "      <th>21</th>\n",
       "      <td>MozzGuard - CA</td>\n",
       "      <td>EMS Josh (NMI)</td>\n",
       "      <td>452</td>\n",
       "      <td>0</td>\n",
       "      <td>250</td>\n",
       "      <td>1411</td>\n",
       "      <td>2113</td>\n",
       "      <td>0.667771</td>\n",
       "    </tr>\n",
       "    <tr>\n",
       "      <th>22</th>\n",
       "      <td>MozzGuard - CA</td>\n",
       "      <td>Quantum (NMI)</td>\n",
       "      <td>89</td>\n",
       "      <td>0</td>\n",
       "      <td>155</td>\n",
       "      <td>292</td>\n",
       "      <td>536</td>\n",
       "      <td>0.544776</td>\n",
       "    </tr>\n",
       "    <tr>\n",
       "      <th>23</th>\n",
       "      <td>MozzGuard Orange (US)</td>\n",
       "      <td>Paypal USD (Josh)</td>\n",
       "      <td>0</td>\n",
       "      <td>0</td>\n",
       "      <td>0</td>\n",
       "      <td>22</td>\n",
       "      <td>22</td>\n",
       "      <td>1.000000</td>\n",
       "    </tr>\n",
       "    <tr>\n",
       "      <th>24</th>\n",
       "      <td>MozzGuard Orange (US)</td>\n",
       "      <td>Adyen US</td>\n",
       "      <td>1</td>\n",
       "      <td>0</td>\n",
       "      <td>33</td>\n",
       "      <td>159</td>\n",
       "      <td>193</td>\n",
       "      <td>0.823834</td>\n",
       "    </tr>\n",
       "    <tr>\n",
       "      <th>25</th>\n",
       "      <td>MozzGuard Orange (US)</td>\n",
       "      <td>Seamless Chex (Auth.net)</td>\n",
       "      <td>1</td>\n",
       "      <td>0</td>\n",
       "      <td>72</td>\n",
       "      <td>109</td>\n",
       "      <td>182</td>\n",
       "      <td>0.598901</td>\n",
       "    </tr>\n",
       "    <tr>\n",
       "      <th>26</th>\n",
       "      <td>MozzGuard Orange (US)</td>\n",
       "      <td>EMS Josh (NMI)</td>\n",
       "      <td>151</td>\n",
       "      <td>0</td>\n",
       "      <td>145</td>\n",
       "      <td>396</td>\n",
       "      <td>692</td>\n",
       "      <td>0.572254</td>\n",
       "    </tr>\n",
       "    <tr>\n",
       "      <th>27</th>\n",
       "      <td>OptiFuel</td>\n",
       "      <td>Adyen US</td>\n",
       "      <td>9</td>\n",
       "      <td>0</td>\n",
       "      <td>336</td>\n",
       "      <td>644</td>\n",
       "      <td>989</td>\n",
       "      <td>0.651163</td>\n",
       "    </tr>\n",
       "    <tr>\n",
       "      <th>28</th>\n",
       "      <td>OptiFuel</td>\n",
       "      <td>EMS Josh (NMI)</td>\n",
       "      <td>1038</td>\n",
       "      <td>0</td>\n",
       "      <td>1113</td>\n",
       "      <td>3484</td>\n",
       "      <td>5635</td>\n",
       "      <td>0.618279</td>\n",
       "    </tr>\n",
       "    <tr>\n",
       "      <th>29</th>\n",
       "      <td>OptiFuel</td>\n",
       "      <td>NMI (EMS)</td>\n",
       "      <td>401</td>\n",
       "      <td>0</td>\n",
       "      <td>493</td>\n",
       "      <td>1236</td>\n",
       "      <td>2130</td>\n",
       "      <td>0.580282</td>\n",
       "    </tr>\n",
       "    <tr>\n",
       "      <th>30</th>\n",
       "      <td>OptiFuel</td>\n",
       "      <td>Payarc Josh (NMI)</td>\n",
       "      <td>1741</td>\n",
       "      <td>0</td>\n",
       "      <td>1446</td>\n",
       "      <td>4238</td>\n",
       "      <td>7425</td>\n",
       "      <td>0.570774</td>\n",
       "    </tr>\n",
       "    <tr>\n",
       "      <th>31</th>\n",
       "      <td>OptiFuel | AU</td>\n",
       "      <td>ADYEN AU</td>\n",
       "      <td>49</td>\n",
       "      <td>0</td>\n",
       "      <td>753</td>\n",
       "      <td>2468</td>\n",
       "      <td>3270</td>\n",
       "      <td>0.754740</td>\n",
       "    </tr>\n",
       "  </tbody>\n",
       "</table>\n",
       "</div>"
      ],
      "text/plain": [
       "responseType                           campaignName                  merchant  \\\n",
       "0                    BTE Hearing CIC Pro (Facebook)                  Adyen US   \n",
       "1                    BTE Hearing CIC Pro (Facebook)             Stripe (Josh)   \n",
       "2                    BTE Hearing CIC Pro (Facebook)            EMS Josh (NMI)   \n",
       "3                    BTE Hearing CIC Pro (Facebook)  Quantum PremHealth (NMI)   \n",
       "4                 BTE Hearing CIC Pro (Native) - AU                  ADYEN AU   \n",
       "5                 BTE Hearing CIC Pro (Native) - AU                  Adyen US   \n",
       "6                 BTE Hearing CIC Pro (Native) - UK                  Adyen US   \n",
       "7                 BTE Hearing CIC Pro (Native) - UK             Stripe (Josh)   \n",
       "8                 BTE Hearing CIC Pro (Native) - UK                  ADYEN AU   \n",
       "9             BTE Hearing CIC Pro (Native) Original     Finix Josh (Auth.net)   \n",
       "10            BTE Hearing CIC Pro (Native) Original  Seamless Chex (Auth.net)   \n",
       "11            BTE Hearing CIC Pro (Native) Original             Stripe (Josh)   \n",
       "12            BTE Hearing CIC Pro (Native) Original            EMS Josh (NMI)   \n",
       "13                         BTE Hearing CIC Pro - UK                  Adyen US   \n",
       "14                         BTE Hearing CIC Pro - UK                  ADYEN AU   \n",
       "15                                        MozzGuard                 NMI (EMS)   \n",
       "16                                        MozzGuard                  Adyen US   \n",
       "17                                        MozzGuard             Stripe (Josh)   \n",
       "18                                        MozzGuard            EMS Josh (NMI)   \n",
       "19                                   MozzGuard - CA                  Adyen US   \n",
       "20                                   MozzGuard - CA         Payarc Josh (NMI)   \n",
       "21                                   MozzGuard - CA            EMS Josh (NMI)   \n",
       "22                                   MozzGuard - CA             Quantum (NMI)   \n",
       "23                            MozzGuard Orange (US)         Paypal USD (Josh)   \n",
       "24                            MozzGuard Orange (US)                  Adyen US   \n",
       "25                            MozzGuard Orange (US)  Seamless Chex (Auth.net)   \n",
       "26                            MozzGuard Orange (US)            EMS Josh (NMI)   \n",
       "27                                         OptiFuel                  Adyen US   \n",
       "28                                         OptiFuel            EMS Josh (NMI)   \n",
       "29                                         OptiFuel                 NMI (EMS)   \n",
       "30                                         OptiFuel         Payarc Josh (NMI)   \n",
       "31                                    OptiFuel | AU                  ADYEN AU   \n",
       "\n",
       "responseType  HARD_DECLINE  PENDING  SOFT_DECLINE  SUCCESS  total_attempts  \\\n",
       "0                       25        0           448      967            1440   \n",
       "1                        0        0          1332     2102            3434   \n",
       "2                      105        0           118      251             474   \n",
       "3                      175        0            82      186             443   \n",
       "4                       27        0           467     1468            1962   \n",
       "5                        2        0            28       33              63   \n",
       "6                       45        0          2248     2577            4870   \n",
       "7                        0        0            86       66             152   \n",
       "8                       34        0          2024     1453            3511   \n",
       "9                       80        0             2      764             846   \n",
       "10                      30        0            36      262             328   \n",
       "11                       0        0           348      595             943   \n",
       "12                     704        0           285     1579            2568   \n",
       "13                       0        0           127      115             242   \n",
       "14                       9        0           399      363             771   \n",
       "15                       0        0             0       10              10   \n",
       "16                      15        0           236      809            1060   \n",
       "17                       0        0            84      185             269   \n",
       "18                     274        0           264      773            1311   \n",
       "19                      13        1           233      755            1002   \n",
       "20                     302        0           154      946            1402   \n",
       "21                     452        0           250     1411            2113   \n",
       "22                      89        0           155      292             536   \n",
       "23                       0        0             0       22              22   \n",
       "24                       1        0            33      159             193   \n",
       "25                       1        0            72      109             182   \n",
       "26                     151        0           145      396             692   \n",
       "27                       9        0           336      644             989   \n",
       "28                    1038        0          1113     3484            5635   \n",
       "29                     401        0           493     1236            2130   \n",
       "30                    1741        0          1446     4238            7425   \n",
       "31                      49        0           753     2468            3270   \n",
       "\n",
       "responseType  auth_rate  \n",
       "0              0.671528  \n",
       "1              0.612114  \n",
       "2              0.529536  \n",
       "3              0.419865  \n",
       "4              0.748216  \n",
       "5              0.523810  \n",
       "6              0.529158  \n",
       "7              0.434211  \n",
       "8              0.413842  \n",
       "9              0.903073  \n",
       "10             0.798780  \n",
       "11             0.630965  \n",
       "12             0.614875  \n",
       "13             0.475207  \n",
       "14             0.470817  \n",
       "15             1.000000  \n",
       "16             0.763208  \n",
       "17             0.687732  \n",
       "18             0.589626  \n",
       "19             0.753493  \n",
       "20             0.674750  \n",
       "21             0.667771  \n",
       "22             0.544776  \n",
       "23             1.000000  \n",
       "24             0.823834  \n",
       "25             0.598901  \n",
       "26             0.572254  \n",
       "27             0.651163  \n",
       "28             0.618279  \n",
       "29             0.580282  \n",
       "30             0.570774  \n",
       "31             0.754740  "
      ]
     },
     "execution_count": 24,
     "metadata": {},
     "output_type": "execute_result"
    }
   ],
   "source": [
    "top_merchants"
   ]
  },
  {
   "cell_type": "code",
   "execution_count": 25,
   "id": "ba7f8ea1",
   "metadata": {},
   "outputs": [],
   "source": [
    "# Get total success for the top 4 gateways of each campaign\n",
    "campaign_success_totals = (\n",
    "    top_merchants\n",
    "    .groupby('campaignName')['SUCCESS']\n",
    "    .sum()\n",
    "    .reset_index(name='total_success_top4')\n",
    ")\n",
    "\n",
    "# Merge total success into top_merchants\n",
    "top_merchants = top_merchants.merge(campaign_success_totals, on='campaignName')\n",
    "\n",
    "# Calculate  % split\n",
    "top_merchants['recommended_split_%'] = (top_merchants['SUCCESS'] / top_merchants['total_success_top4'] * 100).round(1)\n"
   ]
  },
  {
   "cell_type": "code",
   "execution_count": 26,
   "id": "a3e41acd",
   "metadata": {},
   "outputs": [
    {
     "data": {
      "text/html": [
       "<div>\n",
       "<style scoped>\n",
       "    .dataframe tbody tr th:only-of-type {\n",
       "        vertical-align: middle;\n",
       "    }\n",
       "\n",
       "    .dataframe tbody tr th {\n",
       "        vertical-align: top;\n",
       "    }\n",
       "\n",
       "    .dataframe thead th {\n",
       "        text-align: right;\n",
       "    }\n",
       "</style>\n",
       "<table border=\"1\" class=\"dataframe\">\n",
       "  <thead>\n",
       "    <tr style=\"text-align: right;\">\n",
       "      <th></th>\n",
       "      <th>campaignName</th>\n",
       "      <th>merchant</th>\n",
       "      <th>HARD_DECLINE</th>\n",
       "      <th>PENDING</th>\n",
       "      <th>SOFT_DECLINE</th>\n",
       "      <th>SUCCESS</th>\n",
       "      <th>total_attempts</th>\n",
       "      <th>auth_rate</th>\n",
       "      <th>total_success_top4</th>\n",
       "      <th>recommended_split_%</th>\n",
       "    </tr>\n",
       "  </thead>\n",
       "  <tbody>\n",
       "    <tr>\n",
       "      <th>0</th>\n",
       "      <td>BTE Hearing CIC Pro (Facebook)</td>\n",
       "      <td>Adyen US</td>\n",
       "      <td>25</td>\n",
       "      <td>0</td>\n",
       "      <td>448</td>\n",
       "      <td>967</td>\n",
       "      <td>1440</td>\n",
       "      <td>0.671528</td>\n",
       "      <td>3506</td>\n",
       "      <td>27.6</td>\n",
       "    </tr>\n",
       "    <tr>\n",
       "      <th>1</th>\n",
       "      <td>BTE Hearing CIC Pro (Facebook)</td>\n",
       "      <td>Stripe (Josh)</td>\n",
       "      <td>0</td>\n",
       "      <td>0</td>\n",
       "      <td>1332</td>\n",
       "      <td>2102</td>\n",
       "      <td>3434</td>\n",
       "      <td>0.612114</td>\n",
       "      <td>3506</td>\n",
       "      <td>60.0</td>\n",
       "    </tr>\n",
       "    <tr>\n",
       "      <th>2</th>\n",
       "      <td>BTE Hearing CIC Pro (Facebook)</td>\n",
       "      <td>EMS Josh (NMI)</td>\n",
       "      <td>105</td>\n",
       "      <td>0</td>\n",
       "      <td>118</td>\n",
       "      <td>251</td>\n",
       "      <td>474</td>\n",
       "      <td>0.529536</td>\n",
       "      <td>3506</td>\n",
       "      <td>7.2</td>\n",
       "    </tr>\n",
       "    <tr>\n",
       "      <th>3</th>\n",
       "      <td>BTE Hearing CIC Pro (Facebook)</td>\n",
       "      <td>Quantum PremHealth (NMI)</td>\n",
       "      <td>175</td>\n",
       "      <td>0</td>\n",
       "      <td>82</td>\n",
       "      <td>186</td>\n",
       "      <td>443</td>\n",
       "      <td>0.419865</td>\n",
       "      <td>3506</td>\n",
       "      <td>5.3</td>\n",
       "    </tr>\n",
       "    <tr>\n",
       "      <th>4</th>\n",
       "      <td>BTE Hearing CIC Pro (Native) - AU</td>\n",
       "      <td>ADYEN AU</td>\n",
       "      <td>27</td>\n",
       "      <td>0</td>\n",
       "      <td>467</td>\n",
       "      <td>1468</td>\n",
       "      <td>1962</td>\n",
       "      <td>0.748216</td>\n",
       "      <td>1501</td>\n",
       "      <td>97.8</td>\n",
       "    </tr>\n",
       "    <tr>\n",
       "      <th>5</th>\n",
       "      <td>BTE Hearing CIC Pro (Native) - AU</td>\n",
       "      <td>Adyen US</td>\n",
       "      <td>2</td>\n",
       "      <td>0</td>\n",
       "      <td>28</td>\n",
       "      <td>33</td>\n",
       "      <td>63</td>\n",
       "      <td>0.523810</td>\n",
       "      <td>1501</td>\n",
       "      <td>2.2</td>\n",
       "    </tr>\n",
       "    <tr>\n",
       "      <th>6</th>\n",
       "      <td>BTE Hearing CIC Pro (Native) - UK</td>\n",
       "      <td>Adyen US</td>\n",
       "      <td>45</td>\n",
       "      <td>0</td>\n",
       "      <td>2248</td>\n",
       "      <td>2577</td>\n",
       "      <td>4870</td>\n",
       "      <td>0.529158</td>\n",
       "      <td>4096</td>\n",
       "      <td>62.9</td>\n",
       "    </tr>\n",
       "    <tr>\n",
       "      <th>7</th>\n",
       "      <td>BTE Hearing CIC Pro (Native) - UK</td>\n",
       "      <td>Stripe (Josh)</td>\n",
       "      <td>0</td>\n",
       "      <td>0</td>\n",
       "      <td>86</td>\n",
       "      <td>66</td>\n",
       "      <td>152</td>\n",
       "      <td>0.434211</td>\n",
       "      <td>4096</td>\n",
       "      <td>1.6</td>\n",
       "    </tr>\n",
       "    <tr>\n",
       "      <th>8</th>\n",
       "      <td>BTE Hearing CIC Pro (Native) - UK</td>\n",
       "      <td>ADYEN AU</td>\n",
       "      <td>34</td>\n",
       "      <td>0</td>\n",
       "      <td>2024</td>\n",
       "      <td>1453</td>\n",
       "      <td>3511</td>\n",
       "      <td>0.413842</td>\n",
       "      <td>4096</td>\n",
       "      <td>35.5</td>\n",
       "    </tr>\n",
       "    <tr>\n",
       "      <th>9</th>\n",
       "      <td>BTE Hearing CIC Pro (Native) Original</td>\n",
       "      <td>Finix Josh (Auth.net)</td>\n",
       "      <td>80</td>\n",
       "      <td>0</td>\n",
       "      <td>2</td>\n",
       "      <td>764</td>\n",
       "      <td>846</td>\n",
       "      <td>0.903073</td>\n",
       "      <td>3200</td>\n",
       "      <td>23.9</td>\n",
       "    </tr>\n",
       "    <tr>\n",
       "      <th>10</th>\n",
       "      <td>BTE Hearing CIC Pro (Native) Original</td>\n",
       "      <td>Seamless Chex (Auth.net)</td>\n",
       "      <td>30</td>\n",
       "      <td>0</td>\n",
       "      <td>36</td>\n",
       "      <td>262</td>\n",
       "      <td>328</td>\n",
       "      <td>0.798780</td>\n",
       "      <td>3200</td>\n",
       "      <td>8.2</td>\n",
       "    </tr>\n",
       "    <tr>\n",
       "      <th>11</th>\n",
       "      <td>BTE Hearing CIC Pro (Native) Original</td>\n",
       "      <td>Stripe (Josh)</td>\n",
       "      <td>0</td>\n",
       "      <td>0</td>\n",
       "      <td>348</td>\n",
       "      <td>595</td>\n",
       "      <td>943</td>\n",
       "      <td>0.630965</td>\n",
       "      <td>3200</td>\n",
       "      <td>18.6</td>\n",
       "    </tr>\n",
       "    <tr>\n",
       "      <th>12</th>\n",
       "      <td>BTE Hearing CIC Pro (Native) Original</td>\n",
       "      <td>EMS Josh (NMI)</td>\n",
       "      <td>704</td>\n",
       "      <td>0</td>\n",
       "      <td>285</td>\n",
       "      <td>1579</td>\n",
       "      <td>2568</td>\n",
       "      <td>0.614875</td>\n",
       "      <td>3200</td>\n",
       "      <td>49.3</td>\n",
       "    </tr>\n",
       "    <tr>\n",
       "      <th>13</th>\n",
       "      <td>BTE Hearing CIC Pro - UK</td>\n",
       "      <td>Adyen US</td>\n",
       "      <td>0</td>\n",
       "      <td>0</td>\n",
       "      <td>127</td>\n",
       "      <td>115</td>\n",
       "      <td>242</td>\n",
       "      <td>0.475207</td>\n",
       "      <td>478</td>\n",
       "      <td>24.1</td>\n",
       "    </tr>\n",
       "    <tr>\n",
       "      <th>14</th>\n",
       "      <td>BTE Hearing CIC Pro - UK</td>\n",
       "      <td>ADYEN AU</td>\n",
       "      <td>9</td>\n",
       "      <td>0</td>\n",
       "      <td>399</td>\n",
       "      <td>363</td>\n",
       "      <td>771</td>\n",
       "      <td>0.470817</td>\n",
       "      <td>478</td>\n",
       "      <td>75.9</td>\n",
       "    </tr>\n",
       "    <tr>\n",
       "      <th>15</th>\n",
       "      <td>MozzGuard</td>\n",
       "      <td>NMI (EMS)</td>\n",
       "      <td>0</td>\n",
       "      <td>0</td>\n",
       "      <td>0</td>\n",
       "      <td>10</td>\n",
       "      <td>10</td>\n",
       "      <td>1.000000</td>\n",
       "      <td>1777</td>\n",
       "      <td>0.6</td>\n",
       "    </tr>\n",
       "    <tr>\n",
       "      <th>16</th>\n",
       "      <td>MozzGuard</td>\n",
       "      <td>Adyen US</td>\n",
       "      <td>15</td>\n",
       "      <td>0</td>\n",
       "      <td>236</td>\n",
       "      <td>809</td>\n",
       "      <td>1060</td>\n",
       "      <td>0.763208</td>\n",
       "      <td>1777</td>\n",
       "      <td>45.5</td>\n",
       "    </tr>\n",
       "    <tr>\n",
       "      <th>17</th>\n",
       "      <td>MozzGuard</td>\n",
       "      <td>Stripe (Josh)</td>\n",
       "      <td>0</td>\n",
       "      <td>0</td>\n",
       "      <td>84</td>\n",
       "      <td>185</td>\n",
       "      <td>269</td>\n",
       "      <td>0.687732</td>\n",
       "      <td>1777</td>\n",
       "      <td>10.4</td>\n",
       "    </tr>\n",
       "    <tr>\n",
       "      <th>18</th>\n",
       "      <td>MozzGuard</td>\n",
       "      <td>EMS Josh (NMI)</td>\n",
       "      <td>274</td>\n",
       "      <td>0</td>\n",
       "      <td>264</td>\n",
       "      <td>773</td>\n",
       "      <td>1311</td>\n",
       "      <td>0.589626</td>\n",
       "      <td>1777</td>\n",
       "      <td>43.5</td>\n",
       "    </tr>\n",
       "    <tr>\n",
       "      <th>19</th>\n",
       "      <td>MozzGuard - CA</td>\n",
       "      <td>Adyen US</td>\n",
       "      <td>13</td>\n",
       "      <td>1</td>\n",
       "      <td>233</td>\n",
       "      <td>755</td>\n",
       "      <td>1002</td>\n",
       "      <td>0.753493</td>\n",
       "      <td>3404</td>\n",
       "      <td>22.2</td>\n",
       "    </tr>\n",
       "    <tr>\n",
       "      <th>20</th>\n",
       "      <td>MozzGuard - CA</td>\n",
       "      <td>Payarc Josh (NMI)</td>\n",
       "      <td>302</td>\n",
       "      <td>0</td>\n",
       "      <td>154</td>\n",
       "      <td>946</td>\n",
       "      <td>1402</td>\n",
       "      <td>0.674750</td>\n",
       "      <td>3404</td>\n",
       "      <td>27.8</td>\n",
       "    </tr>\n",
       "    <tr>\n",
       "      <th>21</th>\n",
       "      <td>MozzGuard - CA</td>\n",
       "      <td>EMS Josh (NMI)</td>\n",
       "      <td>452</td>\n",
       "      <td>0</td>\n",
       "      <td>250</td>\n",
       "      <td>1411</td>\n",
       "      <td>2113</td>\n",
       "      <td>0.667771</td>\n",
       "      <td>3404</td>\n",
       "      <td>41.5</td>\n",
       "    </tr>\n",
       "    <tr>\n",
       "      <th>22</th>\n",
       "      <td>MozzGuard - CA</td>\n",
       "      <td>Quantum (NMI)</td>\n",
       "      <td>89</td>\n",
       "      <td>0</td>\n",
       "      <td>155</td>\n",
       "      <td>292</td>\n",
       "      <td>536</td>\n",
       "      <td>0.544776</td>\n",
       "      <td>3404</td>\n",
       "      <td>8.6</td>\n",
       "    </tr>\n",
       "    <tr>\n",
       "      <th>23</th>\n",
       "      <td>MozzGuard Orange (US)</td>\n",
       "      <td>Paypal USD (Josh)</td>\n",
       "      <td>0</td>\n",
       "      <td>0</td>\n",
       "      <td>0</td>\n",
       "      <td>22</td>\n",
       "      <td>22</td>\n",
       "      <td>1.000000</td>\n",
       "      <td>686</td>\n",
       "      <td>3.2</td>\n",
       "    </tr>\n",
       "    <tr>\n",
       "      <th>24</th>\n",
       "      <td>MozzGuard Orange (US)</td>\n",
       "      <td>Adyen US</td>\n",
       "      <td>1</td>\n",
       "      <td>0</td>\n",
       "      <td>33</td>\n",
       "      <td>159</td>\n",
       "      <td>193</td>\n",
       "      <td>0.823834</td>\n",
       "      <td>686</td>\n",
       "      <td>23.2</td>\n",
       "    </tr>\n",
       "    <tr>\n",
       "      <th>25</th>\n",
       "      <td>MozzGuard Orange (US)</td>\n",
       "      <td>Seamless Chex (Auth.net)</td>\n",
       "      <td>1</td>\n",
       "      <td>0</td>\n",
       "      <td>72</td>\n",
       "      <td>109</td>\n",
       "      <td>182</td>\n",
       "      <td>0.598901</td>\n",
       "      <td>686</td>\n",
       "      <td>15.9</td>\n",
       "    </tr>\n",
       "    <tr>\n",
       "      <th>26</th>\n",
       "      <td>MozzGuard Orange (US)</td>\n",
       "      <td>EMS Josh (NMI)</td>\n",
       "      <td>151</td>\n",
       "      <td>0</td>\n",
       "      <td>145</td>\n",
       "      <td>396</td>\n",
       "      <td>692</td>\n",
       "      <td>0.572254</td>\n",
       "      <td>686</td>\n",
       "      <td>57.7</td>\n",
       "    </tr>\n",
       "    <tr>\n",
       "      <th>27</th>\n",
       "      <td>OptiFuel</td>\n",
       "      <td>Adyen US</td>\n",
       "      <td>9</td>\n",
       "      <td>0</td>\n",
       "      <td>336</td>\n",
       "      <td>644</td>\n",
       "      <td>989</td>\n",
       "      <td>0.651163</td>\n",
       "      <td>9602</td>\n",
       "      <td>6.7</td>\n",
       "    </tr>\n",
       "    <tr>\n",
       "      <th>28</th>\n",
       "      <td>OptiFuel</td>\n",
       "      <td>EMS Josh (NMI)</td>\n",
       "      <td>1038</td>\n",
       "      <td>0</td>\n",
       "      <td>1113</td>\n",
       "      <td>3484</td>\n",
       "      <td>5635</td>\n",
       "      <td>0.618279</td>\n",
       "      <td>9602</td>\n",
       "      <td>36.3</td>\n",
       "    </tr>\n",
       "    <tr>\n",
       "      <th>29</th>\n",
       "      <td>OptiFuel</td>\n",
       "      <td>NMI (EMS)</td>\n",
       "      <td>401</td>\n",
       "      <td>0</td>\n",
       "      <td>493</td>\n",
       "      <td>1236</td>\n",
       "      <td>2130</td>\n",
       "      <td>0.580282</td>\n",
       "      <td>9602</td>\n",
       "      <td>12.9</td>\n",
       "    </tr>\n",
       "    <tr>\n",
       "      <th>30</th>\n",
       "      <td>OptiFuel</td>\n",
       "      <td>Payarc Josh (NMI)</td>\n",
       "      <td>1741</td>\n",
       "      <td>0</td>\n",
       "      <td>1446</td>\n",
       "      <td>4238</td>\n",
       "      <td>7425</td>\n",
       "      <td>0.570774</td>\n",
       "      <td>9602</td>\n",
       "      <td>44.1</td>\n",
       "    </tr>\n",
       "    <tr>\n",
       "      <th>31</th>\n",
       "      <td>OptiFuel | AU</td>\n",
       "      <td>ADYEN AU</td>\n",
       "      <td>49</td>\n",
       "      <td>0</td>\n",
       "      <td>753</td>\n",
       "      <td>2468</td>\n",
       "      <td>3270</td>\n",
       "      <td>0.754740</td>\n",
       "      <td>2468</td>\n",
       "      <td>100.0</td>\n",
       "    </tr>\n",
       "  </tbody>\n",
       "</table>\n",
       "</div>"
      ],
      "text/plain": [
       "                             campaignName                  merchant  \\\n",
       "0          BTE Hearing CIC Pro (Facebook)                  Adyen US   \n",
       "1          BTE Hearing CIC Pro (Facebook)             Stripe (Josh)   \n",
       "2          BTE Hearing CIC Pro (Facebook)            EMS Josh (NMI)   \n",
       "3          BTE Hearing CIC Pro (Facebook)  Quantum PremHealth (NMI)   \n",
       "4       BTE Hearing CIC Pro (Native) - AU                  ADYEN AU   \n",
       "5       BTE Hearing CIC Pro (Native) - AU                  Adyen US   \n",
       "6       BTE Hearing CIC Pro (Native) - UK                  Adyen US   \n",
       "7       BTE Hearing CIC Pro (Native) - UK             Stripe (Josh)   \n",
       "8       BTE Hearing CIC Pro (Native) - UK                  ADYEN AU   \n",
       "9   BTE Hearing CIC Pro (Native) Original     Finix Josh (Auth.net)   \n",
       "10  BTE Hearing CIC Pro (Native) Original  Seamless Chex (Auth.net)   \n",
       "11  BTE Hearing CIC Pro (Native) Original             Stripe (Josh)   \n",
       "12  BTE Hearing CIC Pro (Native) Original            EMS Josh (NMI)   \n",
       "13               BTE Hearing CIC Pro - UK                  Adyen US   \n",
       "14               BTE Hearing CIC Pro - UK                  ADYEN AU   \n",
       "15                              MozzGuard                 NMI (EMS)   \n",
       "16                              MozzGuard                  Adyen US   \n",
       "17                              MozzGuard             Stripe (Josh)   \n",
       "18                              MozzGuard            EMS Josh (NMI)   \n",
       "19                         MozzGuard - CA                  Adyen US   \n",
       "20                         MozzGuard - CA         Payarc Josh (NMI)   \n",
       "21                         MozzGuard - CA            EMS Josh (NMI)   \n",
       "22                         MozzGuard - CA             Quantum (NMI)   \n",
       "23                  MozzGuard Orange (US)         Paypal USD (Josh)   \n",
       "24                  MozzGuard Orange (US)                  Adyen US   \n",
       "25                  MozzGuard Orange (US)  Seamless Chex (Auth.net)   \n",
       "26                  MozzGuard Orange (US)            EMS Josh (NMI)   \n",
       "27                               OptiFuel                  Adyen US   \n",
       "28                               OptiFuel            EMS Josh (NMI)   \n",
       "29                               OptiFuel                 NMI (EMS)   \n",
       "30                               OptiFuel         Payarc Josh (NMI)   \n",
       "31                          OptiFuel | AU                  ADYEN AU   \n",
       "\n",
       "    HARD_DECLINE  PENDING  SOFT_DECLINE  SUCCESS  total_attempts  auth_rate  \\\n",
       "0             25        0           448      967            1440   0.671528   \n",
       "1              0        0          1332     2102            3434   0.612114   \n",
       "2            105        0           118      251             474   0.529536   \n",
       "3            175        0            82      186             443   0.419865   \n",
       "4             27        0           467     1468            1962   0.748216   \n",
       "5              2        0            28       33              63   0.523810   \n",
       "6             45        0          2248     2577            4870   0.529158   \n",
       "7              0        0            86       66             152   0.434211   \n",
       "8             34        0          2024     1453            3511   0.413842   \n",
       "9             80        0             2      764             846   0.903073   \n",
       "10            30        0            36      262             328   0.798780   \n",
       "11             0        0           348      595             943   0.630965   \n",
       "12           704        0           285     1579            2568   0.614875   \n",
       "13             0        0           127      115             242   0.475207   \n",
       "14             9        0           399      363             771   0.470817   \n",
       "15             0        0             0       10              10   1.000000   \n",
       "16            15        0           236      809            1060   0.763208   \n",
       "17             0        0            84      185             269   0.687732   \n",
       "18           274        0           264      773            1311   0.589626   \n",
       "19            13        1           233      755            1002   0.753493   \n",
       "20           302        0           154      946            1402   0.674750   \n",
       "21           452        0           250     1411            2113   0.667771   \n",
       "22            89        0           155      292             536   0.544776   \n",
       "23             0        0             0       22              22   1.000000   \n",
       "24             1        0            33      159             193   0.823834   \n",
       "25             1        0            72      109             182   0.598901   \n",
       "26           151        0           145      396             692   0.572254   \n",
       "27             9        0           336      644             989   0.651163   \n",
       "28          1038        0          1113     3484            5635   0.618279   \n",
       "29           401        0           493     1236            2130   0.580282   \n",
       "30          1741        0          1446     4238            7425   0.570774   \n",
       "31            49        0           753     2468            3270   0.754740   \n",
       "\n",
       "    total_success_top4  recommended_split_%  \n",
       "0                 3506                 27.6  \n",
       "1                 3506                 60.0  \n",
       "2                 3506                  7.2  \n",
       "3                 3506                  5.3  \n",
       "4                 1501                 97.8  \n",
       "5                 1501                  2.2  \n",
       "6                 4096                 62.9  \n",
       "7                 4096                  1.6  \n",
       "8                 4096                 35.5  \n",
       "9                 3200                 23.9  \n",
       "10                3200                  8.2  \n",
       "11                3200                 18.6  \n",
       "12                3200                 49.3  \n",
       "13                 478                 24.1  \n",
       "14                 478                 75.9  \n",
       "15                1777                  0.6  \n",
       "16                1777                 45.5  \n",
       "17                1777                 10.4  \n",
       "18                1777                 43.5  \n",
       "19                3404                 22.2  \n",
       "20                3404                 27.8  \n",
       "21                3404                 41.5  \n",
       "22                3404                  8.6  \n",
       "23                 686                  3.2  \n",
       "24                 686                 23.2  \n",
       "25                 686                 15.9  \n",
       "26                 686                 57.7  \n",
       "27                9602                  6.7  \n",
       "28                9602                 36.3  \n",
       "29                9602                 12.9  \n",
       "30                9602                 44.1  \n",
       "31                2468                100.0  "
      ]
     },
     "execution_count": 26,
     "metadata": {},
     "output_type": "execute_result"
    }
   ],
   "source": [
    "top_merchants"
   ]
  },
  {
   "cell_type": "code",
   "execution_count": 27,
   "id": "98b66825-5e3f-4923-bb1a-550f45b680d0",
   "metadata": {},
   "outputs": [],
   "source": [
    "top_merchants.to_csv('top_merchants.csv', index=False)\n"
   ]
  },
  {
   "cell_type": "code",
   "execution_count": 28,
   "id": "b2b66c3b-62eb-4765-9b0d-0bcc40febcc0",
   "metadata": {},
   "outputs": [
    {
     "data": {
      "image/png": "[encoded data removed]",
      "text/plain": [
       "<Figure size 1400x700 with 1 Axes>"
      ]
     },
     "metadata": {},
     "output_type": "display_data"
    }
   ],
   "source": [
    "import matplotlib.pyplot as plt\n",
    "import seaborn as sns\n",
    "import pandas as pd\n",
    "\n",
    "# Pivot the data for plotting\n",
    "plot_data = top_merchants.pivot_table(\n",
    "    index='campaignName',\n",
    "    columns='merchant',\n",
    "    values='recommended_split_%',\n",
    "    fill_value=0\n",
    ")\n",
    "\n",
    "# Plot\n",
    "plot_data.plot(\n",
    "    kind='bar',\n",
    "    stacked=True,\n",
    "    figsize=(14, 7),\n",
    "    colormap='tab20c'\n",
    ")\n",
    "\n",
    "plt.title('Recommended Gateway % Split for Top 10 Campaigns (Top 4 Merchants Each)')\n",
    "plt.ylabel('Recommended Split (%)')\n",
    "plt.xlabel('Campaign Name')\n",
    "plt.xticks(rotation=45, ha='right')\n",
    "plt.legend(title='Merchant', bbox_to_anchor=(1.05, 1), loc='upper left')\n",
    "plt.tight_layout()\n",
    "plt.show()\n"
   ]
  },
  {
   "cell_type": "code",
   "execution_count": 29,
   "id": "1ecda864-af96-4da4-8169-64220425b379",
   "metadata": {},
   "outputs": [
    {
     "data": {
      "image/png": "[encoded data removed]",
      "text/plain": [
       "<Figure size 1400x600 with 1 Axes>"
      ]
     },
     "metadata": {},
     "output_type": "display_data"
    }
   ],
   "source": [
    "plt.figure(figsize=(14, 6))\n",
    "sns.barplot(\n",
    "    data=top_merchants,\n",
    "    x='campaignName',\n",
    "    y='auth_rate',\n",
    "    hue='merchant',\n",
    "    palette='tab10'\n",
    ")\n",
    "plt.title('Authorization Rate by Merchant per Campaign')\n",
    "plt.ylabel('Auth Rate')\n",
    "plt.xlabel('Campaign')\n",
    "plt.xticks(rotation=45, ha='right')\n",
    "plt.legend(title='Merchant', bbox_to_anchor=(1.05, 1), loc='upper left')\n",
    "plt.tight_layout()\n",
    "plt.show()\n"
   ]
  },
  {
   "cell_type": "code",
   "execution_count": 30,
   "id": "778f6600-5670-490c-a3bb-28b531597183",
   "metadata": {},
   "outputs": [
    {
     "data": {
      "image/png": "[encoded data removed]",
      "text/plain": [
       "<Figure size 1400x600 with 2 Axes>"
      ]
     },
     "metadata": {},
     "output_type": "display_data"
    }
   ],
   "source": [
    "plt.figure(figsize=(14, 6))\n",
    "sns.heatmap(\n",
    "    plot_data,  # from the stacked bar chart pivot\n",
    "    annot=True,\n",
    "    fmt=\".1f\",\n",
    "    cmap='Blues',\n",
    "    linewidths=0.5\n",
    ")\n",
    "plt.title('Recommended Gateway Split % (Top 10 Campaigns)')\n",
    "plt.xlabel('Merchant')\n",
    "plt.ylabel('Campaign')\n",
    "plt.tight_layout()\n",
    "plt.show()\n"
   ]
  },
  {
   "cell_type": "code",
   "execution_count": 32,
   "id": "b2d82f5e-97a2-4075-bae5-64d40ed4116b",
   "metadata": {},
   "outputs": [
    {
     "data": {
      "application/vnd.plotly.v1+json": {
       "config": {
        "plotlyServerURL": "https://plot.ly"
       },
       "data": [
        {
         "alignmentgroup": "True",
         "hovertemplate": "merchant=Adyen US<br>campaignName=%{x}<br>Recommended Split (%)=%{text}<extra></extra>",
         "legendgroup": "Adyen US",
         "marker": {
          "color": "#636efa",
          "pattern": {
           "shape": ""
          }
         },
         "name": "Adyen US",
         "offsetgroup": "Adyen US",
         "orientation": "v",
         "showlegend": true,
         "text": [
          27.6,
          2.2,
          62.9,
          24.1,
          45.5,
          22.2,
          23.2,
          6.7
         ],
         "textposition": "auto",
         "type": "bar",
         "x": [
          "BTE Hearing CIC Pro (Facebook)",
          "BTE Hearing CIC Pro (Native) - AU",
          "BTE Hearing CIC Pro (Native) - UK",
          "BTE Hearing CIC Pro - UK",
          "MozzGuard",
          "MozzGuard - CA",
          "MozzGuard Orange (US)",
          "OptiFuel"
         ],
         "xaxis": "x",
         "y": [
          27.6,
          2.2,
          62.9,
          24.1,
          45.5,
          22.2,
          23.2,
          6.7
         ],
         "yaxis": "y"
        },
        {
         "alignmentgroup": "True",
         "hovertemplate": "merchant=Stripe (Josh)<br>campaignName=%{x}<br>Recommended Split (%)=%{text}<extra></extra>",
         "legendgroup": "Stripe (Josh)",
         "marker": {
          "color": "#EF553B",
          "pattern": {
           "shape": ""
          }
         },
         "name": "Stripe (Josh)",
         "offsetgroup": "Stripe (Josh)",
         "orientation": "v",
         "showlegend": true,
         "text": [
          60,
          1.6,
          18.6,
          10.4
         ],
         "textposition": "auto",
         "type": "bar",
         "x": [
          "BTE Hearing CIC Pro (Facebook)",
          "BTE Hearing CIC Pro (Native) - UK",
          "BTE Hearing CIC Pro (Native) Original",
          "MozzGuard"
         ],
         "xaxis": "x",
         "y": [
          60,
          1.6,
          18.6,
          10.4
         ],
         "yaxis": "y"
        },
        {
         "alignmentgroup": "True",
         "hovertemplate": "merchant=EMS Josh (NMI)<br>campaignName=%{x}<br>Recommended Split (%)=%{text}<extra></extra>",
         "legendgroup": "EMS Josh (NMI)",
         "marker": {
          "color": "#00cc96",
          "pattern": {
           "shape": ""
          }
         },
         "name": "EMS Josh (NMI)",
         "offsetgroup": "EMS Josh (NMI)",
         "orientation": "v",
         "showlegend": true,
         "text": [
          7.2,
          49.3,
          43.5,
          41.5,
          57.7,
          36.3
         ],
         "textposition": "auto",
         "type": "bar",
         "x": [
          "BTE Hearing CIC Pro (Facebook)",
          "BTE Hearing CIC Pro (Native) Original",
          "MozzGuard",
          "MozzGuard - CA",
          "MozzGuard Orange (US)",
          "OptiFuel"
         ],
         "xaxis": "x",
         "y": [
          7.2,
          49.3,
          43.5,
          41.5,
          57.7,
          36.3
         ],
         "yaxis": "y"
        },
        {
         "alignmentgroup": "True",
         "hovertemplate": "merchant=Quantum PremHealth (NMI)<br>campaignName=%{x}<br>Recommended Split (%)=%{text}<extra></extra>",
         "legendgroup": "Quantum PremHealth (NMI)",
         "marker": {
          "color": "#ab63fa",
          "pattern": {
           "shape": ""
          }
         },
         "name": "Quantum PremHealth (NMI)",
         "offsetgroup": "Quantum PremHealth (NMI)",
         "orientation": "v",
         "showlegend": true,
         "text": [
          5.3
         ],
         "textposition": "auto",
         "type": "bar",
         "x": [
          "BTE Hearing CIC Pro (Facebook)"
         ],
         "xaxis": "x",
         "y": [
          5.3
         ],
         "yaxis": "y"
        },
        {
         "alignmentgroup": "True",
         "hovertemplate": "merchant=ADYEN AU<br>campaignName=%{x}<br>Recommended Split (%)=%{text}<extra></extra>",
         "legendgroup": "ADYEN AU",
         "marker": {
          "color": "#FFA15A",
          "pattern": {
           "shape": ""
          }
         },
         "name": "ADYEN AU",
         "offsetgroup": "ADYEN AU",
         "orientation": "v",
         "showlegend": true,
         "text": [
          97.8,
          35.5,
          75.9,
          100
         ],
         "textposition": "auto",
         "type": "bar",
         "x": [
          "BTE Hearing CIC Pro (Native) - AU",
          "BTE Hearing CIC Pro (Native) - UK",
          "BTE Hearing CIC Pro - UK",
          "OptiFuel | AU"
         ],
         "xaxis": "x",
         "y": [
          97.8,
          35.5,
          75.9,
          100
         ],
         "yaxis": "y"
        },
        {
         "alignmentgroup": "True",
         "hovertemplate": "merchant=Finix Josh (Auth.net)<br>campaignName=%{x}<br>Recommended Split (%)=%{text}<extra></extra>",
         "legendgroup": "Finix Josh (Auth.net)",
         "marker": {
          "color": "#19d3f3",
          "pattern": {
           "shape": ""
          }
         },
         "name": "Finix Josh (Auth.net)",
         "offsetgroup": "Finix Josh (Auth.net)",
         "orientation": "v",
         "showlegend": true,
         "text": [
          23.9
         ],
         "textposition": "auto",
         "type": "bar",
         "x": [
          "BTE Hearing CIC Pro (Native) Original"
         ],
         "xaxis": "x",
         "y": [
          23.9
         ],
         "yaxis": "y"
        },
        {
         "alignmentgroup": "True",
         "hovertemplate": "merchant=Seamless Chex (Auth.net)<br>campaignName=%{x}<br>Recommended Split (%)=%{text}<extra></extra>",
         "legendgroup": "Seamless Chex (Auth.net)",
         "marker": {
          "color": "#FF6692",
          "pattern": {
           "shape": ""
          }
         },
         "name": "Seamless Chex (Auth.net)",
         "offsetgroup": "Seamless Chex (Auth.net)",
         "orientation": "v",
         "showlegend": true,
         "text": [
          8.2,
          15.9
         ],
         "textposition": "auto",
         "type": "bar",
         "x": [
          "BTE Hearing CIC Pro (Native) Original",
          "MozzGuard Orange (US)"
         ],
         "xaxis": "x",
         "y": [
          8.2,
          15.9
         ],
         "yaxis": "y"
        },
        {
         "alignmentgroup": "True",
         "hovertemplate": "merchant=NMI (EMS)<br>campaignName=%{x}<br>Recommended Split (%)=%{text}<extra></extra>",
         "legendgroup": "NMI (EMS)",
         "marker": {
          "color": "#B6E880",
          "pattern": {
           "shape": ""
          }
         },
         "name": "NMI (EMS)",
         "offsetgroup": "NMI (EMS)",
         "orientation": "v",
         "showlegend": true,
         "text": [
          0.6,
          12.9
         ],
         "textposition": "auto",
         "type": "bar",
         "x": [
          "MozzGuard",
          "OptiFuel"
         ],
         "xaxis": "x",
         "y": [
          0.6,
          12.9
         ],
         "yaxis": "y"
        },
        {
         "alignmentgroup": "True",
         "hovertemplate": "merchant=Payarc Josh (NMI)<br>campaignName=%{x}<br>Recommended Split (%)=%{text}<extra></extra>",
         "legendgroup": "Payarc Josh (NMI)",
         "marker": {
          "color": "#FF97FF",
          "pattern": {
           "shape": ""
          }
         },
         "name": "Payarc Josh (NMI)",
         "offsetgroup": "Payarc Josh (NMI)",
         "orientation": "v",
         "showlegend": true,
         "text": [
          27.8,
          44.1
         ],
         "textposition": "auto",
         "type": "bar",
         "x": [
          "MozzGuard - CA",
          "OptiFuel"
         ],
         "xaxis": "x",
         "y": [
          27.8,
          44.1
         ],
         "yaxis": "y"
        },
        {
         "alignmentgroup": "True",
         "hovertemplate": "merchant=Quantum (NMI)<br>campaignName=%{x}<br>Recommended Split (%)=%{text}<extra></extra>",
         "legendgroup": "Quantum (NMI)",
         "marker": {
          "color": "#FECB52",
          "pattern": {
           "shape": ""
          }
         },
         "name": "Quantum (NMI)",
         "offsetgroup": "Quantum (NMI)",
         "orientation": "v",
         "showlegend": true,
         "text": [
          8.6
         ],
         "textposition": "auto",
         "type": "bar",
         "x": [
          "MozzGuard - CA"
         ],
         "xaxis": "x",
         "y": [
          8.6
         ],
         "yaxis": "y"
        },
        {
         "alignmentgroup": "True",
         "hovertemplate": "merchant=Paypal USD (Josh)<br>campaignName=%{x}<br>Recommended Split (%)=%{text}<extra></extra>",
         "legendgroup": "Paypal USD (Josh)",
         "marker": {
          "color": "#636efa",
          "pattern": {
           "shape": ""
          }
         },
         "name": "Paypal USD (Josh)",
         "offsetgroup": "Paypal USD (Josh)",
         "orientation": "v",
         "showlegend": true,
         "text": [
          3.2
         ],
         "textposition": "auto",
         "type": "bar",
         "x": [
          "MozzGuard Orange (US)"
         ],
         "xaxis": "x",
         "y": [
          3.2
         ],
         "yaxis": "y"
        }
       ],
       "layout": {
        "barmode": "stack",
        "height": 600,
        "legend": {
         "title": {
          "text": "Merchant"
         },
         "tracegroupgap": 0
        },
        "template": {
         "data": {
          "bar": [
           {
            "error_x": {
             "color": "#2a3f5f"
            },
            "error_y": {
             "color": "#2a3f5f"
            },
            "marker": {
             "line": {
              "color": "#E5ECF6",
              "width": 0.5
             },
             "pattern": {
              "fillmode": "overlay",
              "size": 10,
              "solidity": 0.2
             }
            },
            "type": "bar"
           }
          ],
          "barpolar": [
           {
            "marker": {
             "line": {
              "color": "#E5ECF6",
              "width": 0.5
             },
             "pattern": {
              "fillmode": "overlay",
              "size": 10,
              "solidity": 0.2
             }
            },
            "type": "barpolar"
           }
          ],
          "carpet": [
           {
            "aaxis": {
             "endlinecolor": "#2a3f5f",
             "gridcolor": "white",
             "linecolor": "white",
             "minorgridcolor": "white",
             "startlinecolor": "#2a3f5f"
            },
            "baxis": {
             "endlinecolor": "#2a3f5f",
             "gridcolor": "white",
             "linecolor": "white",
             "minorgridcolor": "white",
             "startlinecolor": "#2a3f5f"
            },
            "type": "carpet"
           }
          ],
          "choropleth": [
           {
            "colorbar": {
             "outlinewidth": 0,
             "ticks": ""
            },
            "type": "choropleth"
           }
          ],
          "contour": [
           {
            "colorbar": {
             "outlinewidth": 0,
             "ticks": ""
            },
            "colorscale": [
             [
              0,
              "#0d0887"
             ],
             [
              0.1111111111111111,
              "#46039f"
             ],
             [
              0.2222222222222222,
              "#7201a8"
             ],
             [
              0.3333333333333333,
              "#9c179e"
             ],
             [
              0.4444444444444444,
              "#bd3786"
             ],
             [
              0.5555555555555556,
              "#d8576b"
             ],
             [
              0.6666666666666666,
              "#ed7953"
             ],
             [
              0.7777777777777778,
              "#fb9f3a"
             ],
             [
              0.8888888888888888,
              "#fdca26"
             ],
             [
              1,
              "#f0f921"
             ]
            ],
            "type": "contour"
           }
          ],
          "contourcarpet": [
           {
            "colorbar": {
             "outlinewidth": 0,
             "ticks": ""
            },
            "type": "contourcarpet"
           }
          ],
          "heatmap": [
           {
            "colorbar": {
             "outlinewidth": 0,
             "ticks": ""
            },
            "colorscale": [
             [
              0,
              "#0d0887"
             ],
             [
              0.1111111111111111,
              "#46039f"
             ],
             [
              0.2222222222222222,
              "#7201a8"
             ],
             [
              0.3333333333333333,
              "#9c179e"
             ],
             [
              0.4444444444444444,
              "#bd3786"
             ],
             [
              0.5555555555555556,
              "#d8576b"
             ],
             [
              0.6666666666666666,
              "#ed7953"
             ],
             [
              0.7777777777777778,
              "#fb9f3a"
             ],
             [
              0.8888888888888888,
              "#fdca26"
             ],
             [
              1,
              "#f0f921"
             ]
            ],
            "type": "heatmap"
           }
          ],
          "heatmapgl": [
           {
            "colorbar": {
             "outlinewidth": 0,
             "ticks": ""
            },
            "colorscale": [
             [
              0,
              "#0d0887"
             ],
             [
              0.1111111111111111,
              "#46039f"
             ],
             [
              0.2222222222222222,
              "#7201a8"
             ],
             [
              0.3333333333333333,
              "#9c179e"
             ],
             [
              0.4444444444444444,
              "#bd3786"
             ],
             [
              0.5555555555555556,
              "#d8576b"
             ],
             [
              0.6666666666666666,
              "#ed7953"
             ],
             [
              0.7777777777777778,
              "#fb9f3a"
             ],
             [
              0.8888888888888888,
              "#fdca26"
             ],
             [
              1,
              "#f0f921"
             ]
            ],
            "type": "heatmapgl"
           }
          ],
          "histogram": [
           {
            "marker": {
             "pattern": {
              "fillmode": "overlay",
              "size": 10,
              "solidity": 0.2
             }
            },
            "type": "histogram"
           }
          ],
          "histogram2d": [
           {
            "colorbar": {
             "outlinewidth": 0,
             "ticks": ""
            },
            "colorscale": [
             [
              0,
              "#0d0887"
             ],
             [
              0.1111111111111111,
              "#46039f"
             ],
             [
              0.2222222222222222,
              "#7201a8"
             ],
             [
              0.3333333333333333,
              "#9c179e"
             ],
             [
              0.4444444444444444,
              "#bd3786"
             ],
             [
              0.5555555555555556,
              "#d8576b"
             ],
             [
              0.6666666666666666,
              "#ed7953"
             ],
             [
              0.7777777777777778,
              "#fb9f3a"
             ],
             [
              0.8888888888888888,
              "#fdca26"
             ],
             [
              1,
              "#f0f921"
             ]
            ],
            "type": "histogram2d"
           }
          ],
          "histogram2dcontour": [
           {
            "colorbar": {
             "outlinewidth": 0,
             "ticks": ""
            },
            "colorscale": [
             [
              0,
              "#0d0887"
             ],
             [
              0.1111111111111111,
              "#46039f"
             ],
             [
              0.2222222222222222,
              "#7201a8"
             ],
             [
              0.3333333333333333,
              "#9c179e"
             ],
             [
              0.4444444444444444,
              "#bd3786"
             ],
             [
              0.5555555555555556,
              "#d8576b"
             ],
             [
              0.6666666666666666,
              "#ed7953"
             ],
             [
              0.7777777777777778,
              "#fb9f3a"
             ],
             [
              0.8888888888888888,
              "#fdca26"
             ],
             [
              1,
              "#f0f921"
             ]
            ],
            "type": "histogram2dcontour"
           }
          ],
          "mesh3d": [
           {
            "colorbar": {
             "outlinewidth": 0,
             "ticks": ""
            },
            "type": "mesh3d"
           }
          ],
          "parcoords": [
           {
            "line": {
             "colorbar": {
              "outlinewidth": 0,
              "ticks": ""
             }
            },
            "type": "parcoords"
           }
          ],
          "pie": [
           {
            "automargin": true,
            "type": "pie"
           }
          ],
          "scatter": [
           {
            "fillpattern": {
             "fillmode": "overlay",
             "size": 10,
             "solidity": 0.2
            },
            "type": "scatter"
           }
          ],
          "scatter3d": [
           {
            "line": {
             "colorbar": {
              "outlinewidth": 0,
              "ticks": ""
             }
            },
            "marker": {
             "colorbar": {
              "outlinewidth": 0,
              "ticks": ""
             }
            },
            "type": "scatter3d"
           }
          ],
          "scattercarpet": [
           {
            "marker": {
             "colorbar": {
              "outlinewidth": 0,
              "ticks": ""
             }
            },
            "type": "scattercarpet"
           }
          ],
          "scattergeo": [
           {
            "marker": {
             "colorbar": {
              "outlinewidth": 0,
              "ticks": ""
             }
            },
            "type": "scattergeo"
           }
          ],
          "scattergl": [
           {
            "marker": {
             "colorbar": {
              "outlinewidth": 0,
              "ticks": ""
             }
            },
            "type": "scattergl"
           }
          ],
          "scattermapbox": [
           {
            "marker": {
             "colorbar": {
              "outlinewidth": 0,
              "ticks": ""
             }
            },
            "type": "scattermapbox"
           }
          ],
          "scatterpolar": [
           {
            "marker": {
             "colorbar": {
              "outlinewidth": 0,
              "ticks": ""
             }
            },
            "type": "scatterpolar"
           }
          ],
          "scatterpolargl": [
           {
            "marker": {
             "colorbar": {
              "outlinewidth": 0,
              "ticks": ""
             }
            },
            "type": "scatterpolargl"
           }
          ],
          "scatterternary": [
           {
            "marker": {
             "colorbar": {
              "outlinewidth": 0,
              "ticks": ""
             }
            },
            "type": "scatterternary"
           }
          ],
          "surface": [
           {
            "colorbar": {
             "outlinewidth": 0,
             "ticks": ""
            },
            "colorscale": [
             [
              0,
              "#0d0887"
             ],
             [
              0.1111111111111111,
              "#46039f"
             ],
             [
              0.2222222222222222,
              "#7201a8"
             ],
             [
              0.3333333333333333,
              "#9c179e"
             ],
             [
              0.4444444444444444,
              "#bd3786"
             ],
             [
              0.5555555555555556,
              "#d8576b"
             ],
             [
              0.6666666666666666,
              "#ed7953"
             ],
             [
              0.7777777777777778,
              "#fb9f3a"
             ],
             [
              0.8888888888888888,
              "#fdca26"
             ],
             [
              1,
              "#f0f921"
             ]
            ],
            "type": "surface"
           }
          ],
          "table": [
           {
            "cells": {
             "fill": {
              "color": "#EBF0F8"
             },
             "line": {
              "color": "white"
             }
            },
            "header": {
             "fill": {
              "color": "#C8D4E3"
             },
             "line": {
              "color": "white"
             }
            },
            "type": "table"
           }
          ]
         },
         "layout": {
          "annotationdefaults": {
           "arrowcolor": "#2a3f5f",
           "arrowhead": 0,
           "arrowwidth": 1
          },
          "autotypenumbers": "strict",
          "coloraxis": {
           "colorbar": {
            "outlinewidth": 0,
            "ticks": ""
           }
          },
          "colorscale": {
           "diverging": [
            [
             0,
             "#8e0152"
            ],
            [
             0.1,
             "#c51b7d"
            ],
            [
             0.2,
             "#de77ae"
            ],
            [
             0.3,
             "#f1b6da"
            ],
            [
             0.4,
             "#fde0ef"
            ],
            [
             0.5,
             "#f7f7f7"
            ],
            [
             0.6,
             "#e6f5d0"
            ],
            [
             0.7,
             "#b8e186"
            ],
            [
             0.8,
             "#7fbc41"
            ],
            [
             0.9,
             "#4d9221"
            ],
            [
             1,
             "#276419"
            ]
           ],
           "sequential": [
            [
             0,
             "#0d0887"
            ],
            [
             0.1111111111111111,
             "#46039f"
            ],
            [
             0.2222222222222222,
             "#7201a8"
            ],
            [
             0.3333333333333333,
             "#9c179e"
            ],
            [
             0.4444444444444444,
             "#bd3786"
            ],
            [
             0.5555555555555556,
             "#d8576b"
            ],
            [
             0.6666666666666666,
             "#ed7953"
            ],
            [
             0.7777777777777778,
             "#fb9f3a"
            ],
            [
             0.8888888888888888,
             "#fdca26"
            ],
            [
             1,
             "#f0f921"
            ]
           ],
           "sequentialminus": [
            [
             0,
             "#0d0887"
            ],
            [
             0.1111111111111111,
             "#46039f"
            ],
            [
             0.2222222222222222,
             "#7201a8"
            ],
            [
             0.3333333333333333,
             "#9c179e"
            ],
            [
             0.4444444444444444,
             "#bd3786"
            ],
            [
             0.5555555555555556,
             "#d8576b"
            ],
            [
             0.6666666666666666,
             "#ed7953"
            ],
            [
             0.7777777777777778,
             "#fb9f3a"
            ],
            [
             0.8888888888888888,
             "#fdca26"
            ],
            [
             1,
             "#f0f921"
            ]
           ]
          },
          "colorway": [
           "#636efa",
           "#EF553B",
           "#00cc96",
           "#ab63fa",
           "#FFA15A",
           "#19d3f3",
           "#FF6692",
           "#B6E880",
           "#FF97FF",
           "#FECB52"
          ],
          "font": {
           "color": "#2a3f5f"
          },
          "geo": {
           "bgcolor": "white",
           "lakecolor": "white",
           "landcolor": "#E5ECF6",
           "showlakes": true,
           "showland": true,
           "subunitcolor": "white"
          },
          "hoverlabel": {
           "align": "left"
          },
          "hovermode": "closest",
          "mapbox": {
           "style": "light"
          },
          "paper_bgcolor": "white",
          "plot_bgcolor": "#E5ECF6",
          "polar": {
           "angularaxis": {
            "gridcolor": "white",
            "linecolor": "white",
            "ticks": ""
           },
           "bgcolor": "#E5ECF6",
           "radialaxis": {
            "gridcolor": "white",
            "linecolor": "white",
            "ticks": ""
           }
          },
          "scene": {
           "xaxis": {
            "backgroundcolor": "#E5ECF6",
            "gridcolor": "white",
            "gridwidth": 2,
            "linecolor": "white",
            "showbackground": true,
            "ticks": "",
            "zerolinecolor": "white"
           },
           "yaxis": {
            "backgroundcolor": "#E5ECF6",
            "gridcolor": "white",
            "gridwidth": 2,
            "linecolor": "white",
            "showbackground": true,
            "ticks": "",
            "zerolinecolor": "white"
           },
           "zaxis": {
            "backgroundcolor": "#E5ECF6",
            "gridcolor": "white",
            "gridwidth": 2,
            "linecolor": "white",
            "showbackground": true,
            "ticks": "",
            "zerolinecolor": "white"
           }
          },
          "shapedefaults": {
           "line": {
            "color": "#2a3f5f"
           }
          },
          "ternary": {
           "aaxis": {
            "gridcolor": "white",
            "linecolor": "white",
            "ticks": ""
           },
           "baxis": {
            "gridcolor": "white",
            "linecolor": "white",
            "ticks": ""
           },
           "bgcolor": "#E5ECF6",
           "caxis": {
            "gridcolor": "white",
            "linecolor": "white",
            "ticks": ""
           }
          },
          "title": {
           "x": 0.05
          },
          "xaxis": {
           "automargin": true,
           "gridcolor": "white",
           "linecolor": "white",
           "ticks": "",
           "title": {
            "standoff": 15
           },
           "zerolinecolor": "white",
           "zerolinewidth": 2
          },
          "yaxis": {
           "automargin": true,
           "gridcolor": "white",
           "linecolor": "white",
           "ticks": "",
           "title": {
            "standoff": 15
           },
           "zerolinecolor": "white",
           "zerolinewidth": 2
          }
         }
        },
        "title": {
         "text": "Recommended Gateway % Split for Top 10 Campaigns"
        },
        "xaxis": {
         "anchor": "y",
         "domain": [
          0,
          1
         ],
         "tickangle": -45,
         "title": {
          "text": "Campaign Name"
         }
        },
        "yaxis": {
         "anchor": "x",
         "domain": [
          0,
          1
         ],
         "title": {
          "text": "Recommended Split (%)"
         }
        }
       }
      },
      "image/png": "[encoded data removed]",
      "text/html": [
       "<div>                            <div id=\"79a9684b-6c5e-4ab2-8896-ba360a4e01ef\" class=\"plotly-graph-div\" style=\"height:600px; width:100%;\"></div>            <script type=\"text/javascript\">                require([\"plotly\"], function(Plotly) {                    window.PLOTLYENV=window.PLOTLYENV || {};                                    if (document.getElementById(\"79a9684b-6c5e-4ab2-8896-ba360a4e01ef\")) {                    Plotly.newPlot(                        \"79a9684b-6c5e-4ab2-8896-ba360a4e01ef\",                        [{\"alignmentgroup\":\"True\",\"hovertemplate\":\"merchant=Adyen US\\u003cbr\\u003ecampaignName=%{x}\\u003cbr\\u003eRecommended Split (%)=%{text}\\u003cextra\\u003e\\u003c\\u002fextra\\u003e\",\"legendgroup\":\"Adyen US\",\"marker\":{\"color\":\"#636efa\",\"pattern\":{\"shape\":\"\"}},\"name\":\"Adyen US\",\"offsetgroup\":\"Adyen US\",\"orientation\":\"v\",\"showlegend\":true,\"text\":[27.6,2.2,62.9,24.1,45.5,22.2,23.2,6.7],\"textposition\":\"auto\",\"x\":[\"BTE Hearing CIC Pro (Facebook)\",\"BTE Hearing CIC Pro (Native) - AU\",\"BTE Hearing CIC Pro (Native) - UK\",\"BTE Hearing CIC Pro - UK\",\"MozzGuard\",\"MozzGuard - CA\",\"MozzGuard Orange (US)\",\"OptiFuel\"],\"xaxis\":\"x\",\"y\":[27.6,2.2,62.9,24.1,45.5,22.2,23.2,6.7],\"yaxis\":\"y\",\"type\":\"bar\"},{\"alignmentgroup\":\"True\",\"hovertemplate\":\"merchant=Stripe (Josh)\\u003cbr\\u003ecampaignName=%{x}\\u003cbr\\u003eRecommended Split (%)=%{text}\\u003cextra\\u003e\\u003c\\u002fextra\\u003e\",\"legendgroup\":\"Stripe (Josh)\",\"marker\":{\"color\":\"#EF553B\",\"pattern\":{\"shape\":\"\"}},\"name\":\"Stripe (Josh)\",\"offsetgroup\":\"Stripe (Josh)\",\"orientation\":\"v\",\"showlegend\":true,\"text\":[60.0,1.6,18.6,10.4],\"textposition\":\"auto\",\"x\":[\"BTE Hearing CIC Pro (Facebook)\",\"BTE Hearing CIC Pro (Native) - UK\",\"BTE Hearing CIC Pro (Native) Original\",\"MozzGuard\"],\"xaxis\":\"x\",\"y\":[60.0,1.6,18.6,10.4],\"yaxis\":\"y\",\"type\":\"bar\"},{\"alignmentgroup\":\"True\",\"hovertemplate\":\"merchant=EMS Josh (NMI)\\u003cbr\\u003ecampaignName=%{x}\\u003cbr\\u003eRecommended Split (%)=%{text}\\u003cextra\\u003e\\u003c\\u002fextra\\u003e\",\"legendgroup\":\"EMS Josh (NMI)\",\"marker\":{\"color\":\"#00cc96\",\"pattern\":{\"shape\":\"\"}},\"name\":\"EMS Josh (NMI)\",\"offsetgroup\":\"EMS Josh (NMI)\",\"orientation\":\"v\",\"showlegend\":true,\"text\":[7.2,49.3,43.5,41.5,57.7,36.3],\"textposition\":\"auto\",\"x\":[\"BTE Hearing CIC Pro (Facebook)\",\"BTE Hearing CIC Pro (Native) Original\",\"MozzGuard\",\"MozzGuard - CA\",\"MozzGuard Orange (US)\",\"OptiFuel\"],\"xaxis\":\"x\",\"y\":[7.2,49.3,43.5,41.5,57.7,36.3],\"yaxis\":\"y\",\"type\":\"bar\"},{\"alignmentgroup\":\"True\",\"hovertemplate\":\"merchant=Quantum PremHealth (NMI)\\u003cbr\\u003ecampaignName=%{x}\\u003cbr\\u003eRecommended Split (%)=%{text}\\u003cextra\\u003e\\u003c\\u002fextra\\u003e\",\"legendgroup\":\"Quantum PremHealth (NMI)\",\"marker\":{\"color\":\"#ab63fa\",\"pattern\":{\"shape\":\"\"}},\"name\":\"Quantum PremHealth (NMI)\",\"offsetgroup\":\"Quantum PremHealth (NMI)\",\"orientation\":\"v\",\"showlegend\":true,\"text\":[5.3],\"textposition\":\"auto\",\"x\":[\"BTE Hearing CIC Pro (Facebook)\"],\"xaxis\":\"x\",\"y\":[5.3],\"yaxis\":\"y\",\"type\":\"bar\"},{\"alignmentgroup\":\"True\",\"hovertemplate\":\"merchant=ADYEN AU\\u003cbr\\u003ecampaignName=%{x}\\u003cbr\\u003eRecommended Split (%)=%{text}\\u003cextra\\u003e\\u003c\\u002fextra\\u003e\",\"legendgroup\":\"ADYEN AU\",\"marker\":{\"color\":\"#FFA15A\",\"pattern\":{\"shape\":\"\"}},\"name\":\"ADYEN AU\",\"offsetgroup\":\"ADYEN AU\",\"orientation\":\"v\",\"showlegend\":true,\"text\":[97.8,35.5,75.9,100.0],\"textposition\":\"auto\",\"x\":[\"BTE Hearing CIC Pro (Native) - AU\",\"BTE Hearing CIC Pro (Native) - UK\",\"BTE Hearing CIC Pro - UK\",\"OptiFuel | AU\"],\"xaxis\":\"x\",\"y\":[97.8,35.5,75.9,100.0],\"yaxis\":\"y\",\"type\":\"bar\"},{\"alignmentgroup\":\"True\",\"hovertemplate\":\"merchant=Finix Josh (Auth.net)\\u003cbr\\u003ecampaignName=%{x}\\u003cbr\\u003eRecommended Split (%)=%{text}\\u003cextra\\u003e\\u003c\\u002fextra\\u003e\",\"legendgroup\":\"Finix Josh (Auth.net)\",\"marker\":{\"color\":\"#19d3f3\",\"pattern\":{\"shape\":\"\"}},\"name\":\"Finix Josh (Auth.net)\",\"offsetgroup\":\"Finix Josh (Auth.net)\",\"orientation\":\"v\",\"showlegend\":true,\"text\":[23.9],\"textposition\":\"auto\",\"x\":[\"BTE Hearing CIC Pro (Native) Original\"],\"xaxis\":\"x\",\"y\":[23.9],\"yaxis\":\"y\",\"type\":\"bar\"},{\"alignmentgroup\":\"True\",\"hovertemplate\":\"merchant=Seamless Chex (Auth.net)\\u003cbr\\u003ecampaignName=%{x}\\u003cbr\\u003eRecommended Split (%)=%{text}\\u003cextra\\u003e\\u003c\\u002fextra\\u003e\",\"legendgroup\":\"Seamless Chex (Auth.net)\",\"marker\":{\"color\":\"#FF6692\",\"pattern\":{\"shape\":\"\"}},\"name\":\"Seamless Chex (Auth.net)\",\"offsetgroup\":\"Seamless Chex (Auth.net)\",\"orientation\":\"v\",\"showlegend\":true,\"text\":[8.2,15.9],\"textposition\":\"auto\",\"x\":[\"BTE Hearing CIC Pro (Native) Original\",\"MozzGuard Orange (US)\"],\"xaxis\":\"x\",\"y\":[8.2,15.9],\"yaxis\":\"y\",\"type\":\"bar\"},{\"alignmentgroup\":\"True\",\"hovertemplate\":\"merchant=NMI (EMS)\\u003cbr\\u003ecampaignName=%{x}\\u003cbr\\u003eRecommended Split (%)=%{text}\\u003cextra\\u003e\\u003c\\u002fextra\\u003e\",\"legendgroup\":\"NMI (EMS)\",\"marker\":{\"color\":\"#B6E880\",\"pattern\":{\"shape\":\"\"}},\"name\":\"NMI (EMS)\",\"offsetgroup\":\"NMI (EMS)\",\"orientation\":\"v\",\"showlegend\":true,\"text\":[0.6,12.9],\"textposition\":\"auto\",\"x\":[\"MozzGuard\",\"OptiFuel\"],\"xaxis\":\"x\",\"y\":[0.6,12.9],\"yaxis\":\"y\",\"type\":\"bar\"},{\"alignmentgroup\":\"True\",\"hovertemplate\":\"merchant=Payarc Josh (NMI)\\u003cbr\\u003ecampaignName=%{x}\\u003cbr\\u003eRecommended Split (%)=%{text}\\u003cextra\\u003e\\u003c\\u002fextra\\u003e\",\"legendgroup\":\"Payarc Josh (NMI)\",\"marker\":{\"color\":\"#FF97FF\",\"pattern\":{\"shape\":\"\"}},\"name\":\"Payarc Josh (NMI)\",\"offsetgroup\":\"Payarc Josh (NMI)\",\"orientation\":\"v\",\"showlegend\":true,\"text\":[27.8,44.1],\"textposition\":\"auto\",\"x\":[\"MozzGuard - CA\",\"OptiFuel\"],\"xaxis\":\"x\",\"y\":[27.8,44.1],\"yaxis\":\"y\",\"type\":\"bar\"},{\"alignmentgroup\":\"True\",\"hovertemplate\":\"merchant=Quantum (NMI)\\u003cbr\\u003ecampaignName=%{x}\\u003cbr\\u003eRecommended Split (%)=%{text}\\u003cextra\\u003e\\u003c\\u002fextra\\u003e\",\"legendgroup\":\"Quantum (NMI)\",\"marker\":{\"color\":\"#FECB52\",\"pattern\":{\"shape\":\"\"}},\"name\":\"Quantum (NMI)\",\"offsetgroup\":\"Quantum (NMI)\",\"orientation\":\"v\",\"showlegend\":true,\"text\":[8.6],\"textposition\":\"auto\",\"x\":[\"MozzGuard - CA\"],\"xaxis\":\"x\",\"y\":[8.6],\"yaxis\":\"y\",\"type\":\"bar\"},{\"alignmentgroup\":\"True\",\"hovertemplate\":\"merchant=Paypal USD (Josh)\\u003cbr\\u003ecampaignName=%{x}\\u003cbr\\u003eRecommended Split (%)=%{text}\\u003cextra\\u003e\\u003c\\u002fextra\\u003e\",\"legendgroup\":\"Paypal USD (Josh)\",\"marker\":{\"color\":\"#636efa\",\"pattern\":{\"shape\":\"\"}},\"name\":\"Paypal USD (Josh)\",\"offsetgroup\":\"Paypal USD (Josh)\",\"orientation\":\"v\",\"showlegend\":true,\"text\":[3.2],\"textposition\":\"auto\",\"x\":[\"MozzGuard Orange (US)\"],\"xaxis\":\"x\",\"y\":[3.2],\"yaxis\":\"y\",\"type\":\"bar\"}],                        {\"template\":{\"data\":{\"histogram2dcontour\":[{\"type\":\"histogram2dcontour\",\"colorbar\":{\"outlinewidth\":0,\"ticks\":\"\"},\"colorscale\":[[0.0,\"#0d0887\"],[0.1111111111111111,\"#46039f\"],[0.2222222222222222,\"#7201a8\"],[0.3333333333333333,\"#9c179e\"],[0.4444444444444444,\"#bd3786\"],[0.5555555555555556,\"#d8576b\"],[0.6666666666666666,\"#ed7953\"],[0.7777777777777778,\"#fb9f3a\"],[0.8888888888888888,\"#fdca26\"],[1.0,\"#f0f921\"]]}],\"choropleth\":[{\"type\":\"choropleth\",\"colorbar\":{\"outlinewidth\":0,\"ticks\":\"\"}}],\"histogram2d\":[{\"type\":\"histogram2d\",\"colorbar\":{\"outlinewidth\":0,\"ticks\":\"\"},\"colorscale\":[[0.0,\"#0d0887\"],[0.1111111111111111,\"#46039f\"],[0.2222222222222222,\"#7201a8\"],[0.3333333333333333,\"#9c179e\"],[0.4444444444444444,\"#bd3786\"],[0.5555555555555556,\"#d8576b\"],[0.6666666666666666,\"#ed7953\"],[0.7777777777777778,\"#fb9f3a\"],[0.8888888888888888,\"#fdca26\"],[1.0,\"#f0f921\"]]}],\"heatmap\":[{\"type\":\"heatmap\",\"colorbar\":{\"outlinewidth\":0,\"ticks\":\"\"},\"colorscale\":[[0.0,\"#0d0887\"],[0.1111111111111111,\"#46039f\"],[0.2222222222222222,\"#7201a8\"],[0.3333333333333333,\"#9c179e\"],[0.4444444444444444,\"#bd3786\"],[0.5555555555555556,\"#d8576b\"],[0.6666666666666666,\"#ed7953\"],[0.7777777777777778,\"#fb9f3a\"],[0.8888888888888888,\"#fdca26\"],[1.0,\"#f0f921\"]]}],\"heatmapgl\":[{\"type\":\"heatmapgl\",\"colorbar\":{\"outlinewidth\":0,\"ticks\":\"\"},\"colorscale\":[[0.0,\"#0d0887\"],[0.1111111111111111,\"#46039f\"],[0.2222222222222222,\"#7201a8\"],[0.3333333333333333,\"#9c179e\"],[0.4444444444444444,\"#bd3786\"],[0.5555555555555556,\"#d8576b\"],[0.6666666666666666,\"#ed7953\"],[0.7777777777777778,\"#fb9f3a\"],[0.8888888888888888,\"#fdca26\"],[1.0,\"#f0f921\"]]}],\"contourcarpet\":[{\"type\":\"contourcarpet\",\"colorbar\":{\"outlinewidth\":0,\"ticks\":\"\"}}],\"contour\":[{\"type\":\"contour\",\"colorbar\":{\"outlinewidth\":0,\"ticks\":\"\"},\"colorscale\":[[0.0,\"#0d0887\"],[0.1111111111111111,\"#46039f\"],[0.2222222222222222,\"#7201a8\"],[0.3333333333333333,\"#9c179e\"],[0.4444444444444444,\"#bd3786\"],[0.5555555555555556,\"#d8576b\"],[0.6666666666666666,\"#ed7953\"],[0.7777777777777778,\"#fb9f3a\"],[0.8888888888888888,\"#fdca26\"],[1.0,\"#f0f921\"]]}],\"surface\":[{\"type\":\"surface\",\"colorbar\":{\"outlinewidth\":0,\"ticks\":\"\"},\"colorscale\":[[0.0,\"#0d0887\"],[0.1111111111111111,\"#46039f\"],[0.2222222222222222,\"#7201a8\"],[0.3333333333333333,\"#9c179e\"],[0.4444444444444444,\"#bd3786\"],[0.5555555555555556,\"#d8576b\"],[0.6666666666666666,\"#ed7953\"],[0.7777777777777778,\"#fb9f3a\"],[0.8888888888888888,\"#fdca26\"],[1.0,\"#f0f921\"]]}],\"mesh3d\":[{\"type\":\"mesh3d\",\"colorbar\":{\"outlinewidth\":0,\"ticks\":\"\"}}],\"scatter\":[{\"fillpattern\":{\"fillmode\":\"overlay\",\"size\":10,\"solidity\":0.2},\"type\":\"scatter\"}],\"parcoords\":[{\"type\":\"parcoords\",\"line\":{\"colorbar\":{\"outlinewidth\":0,\"ticks\":\"\"}}}],\"scatterpolargl\":[{\"type\":\"scatterpolargl\",\"marker\":{\"colorbar\":{\"outlinewidth\":0,\"ticks\":\"\"}}}],\"bar\":[{\"error_x\":{\"color\":\"#2a3f5f\"},\"error_y\":{\"color\":\"#2a3f5f\"},\"marker\":{\"line\":{\"color\":\"#E5ECF6\",\"width\":0.5},\"pattern\":{\"fillmode\":\"overlay\",\"size\":10,\"solidity\":0.2}},\"type\":\"bar\"}],\"scattergeo\":[{\"type\":\"scattergeo\",\"marker\":{\"colorbar\":{\"outlinewidth\":0,\"ticks\":\"\"}}}],\"scatterpolar\":[{\"type\":\"scatterpolar\",\"marker\":{\"colorbar\":{\"outlinewidth\":0,\"ticks\":\"\"}}}],\"histogram\":[{\"marker\":{\"pattern\":{\"fillmode\":\"overlay\",\"size\":10,\"solidity\":0.2}},\"type\":\"histogram\"}],\"scattergl\":[{\"type\":\"scattergl\",\"marker\":{\"colorbar\":{\"outlinewidth\":0,\"ticks\":\"\"}}}],\"scatter3d\":[{\"type\":\"scatter3d\",\"line\":{\"colorbar\":{\"outlinewidth\":0,\"ticks\":\"\"}},\"marker\":{\"colorbar\":{\"outlinewidth\":0,\"ticks\":\"\"}}}],\"scattermapbox\":[{\"type\":\"scattermapbox\",\"marker\":{\"colorbar\":{\"outlinewidth\":0,\"ticks\":\"\"}}}],\"scatterternary\":[{\"type\":\"scatterternary\",\"marker\":{\"colorbar\":{\"outlinewidth\":0,\"ticks\":\"\"}}}],\"scattercarpet\":[{\"type\":\"scattercarpet\",\"marker\":{\"colorbar\":{\"outlinewidth\":0,\"ticks\":\"\"}}}],\"carpet\":[{\"aaxis\":{\"endlinecolor\":\"#2a3f5f\",\"gridcolor\":\"white\",\"linecolor\":\"white\",\"minorgridcolor\":\"white\",\"startlinecolor\":\"#2a3f5f\"},\"baxis\":{\"endlinecolor\":\"#2a3f5f\",\"gridcolor\":\"white\",\"linecolor\":\"white\",\"minorgridcolor\":\"white\",\"startlinecolor\":\"#2a3f5f\"},\"type\":\"carpet\"}],\"table\":[{\"cells\":{\"fill\":{\"color\":\"#EBF0F8\"},\"line\":{\"color\":\"white\"}},\"header\":{\"fill\":{\"color\":\"#C8D4E3\"},\"line\":{\"color\":\"white\"}},\"type\":\"table\"}],\"barpolar\":[{\"marker\":{\"line\":{\"color\":\"#E5ECF6\",\"width\":0.5},\"pattern\":{\"fillmode\":\"overlay\",\"size\":10,\"solidity\":0.2}},\"type\":\"barpolar\"}],\"pie\":[{\"automargin\":true,\"type\":\"pie\"}]},\"layout\":{\"autotypenumbers\":\"strict\",\"colorway\":[\"#636efa\",\"#EF553B\",\"#00cc96\",\"#ab63fa\",\"#FFA15A\",\"#19d3f3\",\"#FF6692\",\"#B6E880\",\"#FF97FF\",\"#FECB52\"],\"font\":{\"color\":\"#2a3f5f\"},\"hovermode\":\"closest\",\"hoverlabel\":{\"align\":\"left\"},\"paper_bgcolor\":\"white\",\"plot_bgcolor\":\"#E5ECF6\",\"polar\":{\"bgcolor\":\"#E5ECF6\",\"angularaxis\":{\"gridcolor\":\"white\",\"linecolor\":\"white\",\"ticks\":\"\"},\"radialaxis\":{\"gridcolor\":\"white\",\"linecolor\":\"white\",\"ticks\":\"\"}},\"ternary\":{\"bgcolor\":\"#E5ECF6\",\"aaxis\":{\"gridcolor\":\"white\",\"linecolor\":\"white\",\"ticks\":\"\"},\"baxis\":{\"gridcolor\":\"white\",\"linecolor\":\"white\",\"ticks\":\"\"},\"caxis\":{\"gridcolor\":\"white\",\"linecolor\":\"white\",\"ticks\":\"\"}},\"coloraxis\":{\"colorbar\":{\"outlinewidth\":0,\"ticks\":\"\"}},\"colorscale\":{\"sequential\":[[0.0,\"#0d0887\"],[0.1111111111111111,\"#46039f\"],[0.2222222222222222,\"#7201a8\"],[0.3333333333333333,\"#9c179e\"],[0.4444444444444444,\"#bd3786\"],[0.5555555555555556,\"#d8576b\"],[0.6666666666666666,\"#ed7953\"],[0.7777777777777778,\"#fb9f3a\"],[0.8888888888888888,\"#fdca26\"],[1.0,\"#f0f921\"]],\"sequentialminus\":[[0.0,\"#0d0887\"],[0.1111111111111111,\"#46039f\"],[0.2222222222222222,\"#7201a8\"],[0.3333333333333333,\"#9c179e\"],[0.4444444444444444,\"#bd3786\"],[0.5555555555555556,\"#d8576b\"],[0.6666666666666666,\"#ed7953\"],[0.7777777777777778,\"#fb9f3a\"],[0.8888888888888888,\"#fdca26\"],[1.0,\"#f0f921\"]],\"diverging\":[[0,\"#8e0152\"],[0.1,\"#c51b7d\"],[0.2,\"#de77ae\"],[0.3,\"#f1b6da\"],[0.4,\"#fde0ef\"],[0.5,\"#f7f7f7\"],[0.6,\"#e6f5d0\"],[0.7,\"#b8e186\"],[0.8,\"#7fbc41\"],[0.9,\"#4d9221\"],[1,\"#276419\"]]},\"xaxis\":{\"gridcolor\":\"white\",\"linecolor\":\"white\",\"ticks\":\"\",\"title\":{\"standoff\":15},\"zerolinecolor\":\"white\",\"automargin\":true,\"zerolinewidth\":2},\"yaxis\":{\"gridcolor\":\"white\",\"linecolor\":\"white\",\"ticks\":\"\",\"title\":{\"standoff\":15},\"zerolinecolor\":\"white\",\"automargin\":true,\"zerolinewidth\":2},\"scene\":{\"xaxis\":{\"backgroundcolor\":\"#E5ECF6\",\"gridcolor\":\"white\",\"linecolor\":\"white\",\"showbackground\":true,\"ticks\":\"\",\"zerolinecolor\":\"white\",\"gridwidth\":2},\"yaxis\":{\"backgroundcolor\":\"#E5ECF6\",\"gridcolor\":\"white\",\"linecolor\":\"white\",\"showbackground\":true,\"ticks\":\"\",\"zerolinecolor\":\"white\",\"gridwidth\":2},\"zaxis\":{\"backgroundcolor\":\"#E5ECF6\",\"gridcolor\":\"white\",\"linecolor\":\"white\",\"showbackground\":true,\"ticks\":\"\",\"zerolinecolor\":\"white\",\"gridwidth\":2}},\"shapedefaults\":{\"line\":{\"color\":\"#2a3f5f\"}},\"annotationdefaults\":{\"arrowcolor\":\"#2a3f5f\",\"arrowhead\":0,\"arrowwidth\":1},\"geo\":{\"bgcolor\":\"white\",\"landcolor\":\"#E5ECF6\",\"subunitcolor\":\"white\",\"showland\":true,\"showlakes\":true,\"lakecolor\":\"white\"},\"title\":{\"x\":0.05},\"mapbox\":{\"style\":\"light\"}}},\"xaxis\":{\"anchor\":\"y\",\"domain\":[0.0,1.0],\"title\":{\"text\":\"Campaign Name\"},\"tickangle\":-45},\"yaxis\":{\"anchor\":\"x\",\"domain\":[0.0,1.0],\"title\":{\"text\":\"Recommended Split (%)\"}},\"legend\":{\"title\":{\"text\":\"Merchant\"},\"tracegroupgap\":0},\"title\":{\"text\":\"Recommended Gateway % Split for Top 10 Campaigns\"},\"barmode\":\"stack\",\"height\":600},                        {\"responsive\": true}                    ).then(function(){\n",
       "                            \n",
       "var gd = document.getElementById('79a9684b-6c5e-4ab2-8896-ba360a4e01ef');\n",
       "var x = new MutationObserver(function (mutations, observer) {{\n",
       "        var display = window.getComputedStyle(gd).display;\n",
       "        if (!display || display === 'none') {{\n",
       "            console.log([gd, 'removed!']);\n",
       "            Plotly.purge(gd);\n",
       "            observer.disconnect();\n",
       "        }}\n",
       "}});\n",
       "\n",
       "// Listen for the removal of the full notebook cells\n",
       "var notebookContainer = gd.closest('#notebook-container');\n",
       "if (notebookContainer) {{\n",
       "    x.observe(notebookContainer, {childList: true});\n",
       "}}\n",
       "\n",
       "// Listen for the clearing of the current output cell\n",
       "var outputEl = gd.closest('.output');\n",
       "if (outputEl) {{\n",
       "    x.observe(outputEl, {childList: true});\n",
       "}}\n",
       "\n",
       "                        })                };                });            </script>        </div>"
      ]
     },
     "metadata": {},
     "output_type": "display_data"
    }
   ],
   "source": [
    "import plotly.express as px\n",
    "\n",
    "fig = px.bar(\n",
    "    top_merchants,\n",
    "    x='campaignName',\n",
    "    y='recommended_split_%',\n",
    "    color='merchant',\n",
    "    text='recommended_split_%',\n",
    "    title='Recommended Gateway % Split for Top 10 Campaigns',\n",
    "    labels={'recommended_split_%': 'Recommended Split (%)'},\n",
    ")\n",
    "\n",
    "fig.update_layout(\n",
    "    barmode='stack',\n",
    "    xaxis_title='Campaign Name',\n",
    "    yaxis_title='Recommended Split (%)',\n",
    "    legend_title='Merchant',\n",
    "    xaxis_tickangle=-45,\n",
    "    height=600\n",
    ")\n",
    "\n",
    "fig.show()\n"
   ]
  },
  {
   "cell_type": "code",
   "execution_count": 33,
   "id": "c270c5c8-4ee0-4e07-a88d-d22719edd9c2",
   "metadata": {},
   "outputs": [
    {
     "data": {
      "application/vnd.plotly.v1+json": {
       "config": {
        "plotlyServerURL": "https://plot.ly"
       },
       "data": [
        {
         "branchvalues": "total",
         "customdata": [
          [
           0.7482161060142711
          ],
          [
           0.41384221019652523
          ],
          [
           0.4708171206225681
          ],
          [
           0.7547400611620795
          ],
          [
           0.6715277777777777
          ],
          [
           0.5238095238095238
          ],
          [
           0.5291581108829568
          ],
          [
           0.47520661157024796
          ],
          [
           0.7632075471698113
          ],
          [
           0.753493013972056
          ],
          [
           0.8238341968911918
          ],
          [
           0.6511627906976745
          ],
          [
           0.5295358649789029
          ],
          [
           0.6148753894080997
          ],
          [
           0.589626239511823
          ],
          [
           0.6677709417889257
          ],
          [
           0.5722543352601156
          ],
          [
           0.6182786157941438
          ],
          [
           0.9030732860520093
          ],
          [
           1
          ],
          [
           0.5802816901408451
          ],
          [
           0.6747503566333809
          ],
          [
           0.5707744107744108
          ],
          [
           1
          ],
          [
           0.5447761194029851
          ],
          [
           0.4198645598194131
          ],
          [
           0.7987804878048781
          ],
          [
           0.5989010989010989
          ],
          [
           0.6121141525917297
          ],
          [
           0.4342105263157895
          ],
          [
           0.630965005302227
          ],
          [
           0.6877323420074349
          ],
          [
           0.6123900798902004
          ],
          [
           0.7432824503095697
          ],
          [
           0.486721454564886
          ],
          [
           0.7017315301183836
          ],
          [
           0.47187316969993875
          ],
          [
           0.681174154234323
          ],
          [
           0.678172881508204
          ],
          [
           0.6485168714998908
          ],
          [
           0.5946262920758318
          ],
          [
           0.7547400611620795
          ]
         ],
         "domain": {
          "x": [
           0,
           1
          ],
          "y": [
           0,
           1
          ]
         },
         "hovertemplate": "labels=%{label}<br>SUCCESS=%{value}<br>parent=%{parent}<br>id=%{id}<br>auth_rate=%{color}<extra></extra>",
         "ids": [
          "BTE Hearing CIC Pro (Native) - AU/ADYEN AU",
          "BTE Hearing CIC Pro (Native) - UK/ADYEN AU",
          "BTE Hearing CIC Pro - UK/ADYEN AU",
          "OptiFuel | AU/ADYEN AU",
          "BTE Hearing CIC Pro (Facebook)/Adyen US",
          "BTE Hearing CIC Pro (Native) - AU/Adyen US",
          "BTE Hearing CIC Pro (Native) - UK/Adyen US",
          "BTE Hearing CIC Pro - UK/Adyen US",
          "MozzGuard/Adyen US",
          "MozzGuard - CA/Adyen US",
          "MozzGuard Orange (US)/Adyen US",
          "OptiFuel/Adyen US",
          "BTE Hearing CIC Pro (Facebook)/EMS Josh (NMI)",
          "BTE Hearing CIC Pro (Native) Original/EMS Josh (NMI)",
          "MozzGuard/EMS Josh (NMI)",
          "MozzGuard - CA/EMS Josh (NMI)",
          "MozzGuard Orange (US)/EMS Josh (NMI)",
          "OptiFuel/EMS Josh (NMI)",
          "BTE Hearing CIC Pro (Native) Original/Finix Josh (Auth.net)",
          "MozzGuard/NMI (EMS)",
          "OptiFuel/NMI (EMS)",
          "MozzGuard - CA/Payarc Josh (NMI)",
          "OptiFuel/Payarc Josh (NMI)",
          "MozzGuard Orange (US)/Paypal USD (Josh)",
          "MozzGuard - CA/Quantum (NMI)",
          "BTE Hearing CIC Pro (Facebook)/Quantum PremHealth (NMI)",
          "BTE Hearing CIC Pro (Native) Original/Seamless Chex (Auth.net)",
          "MozzGuard Orange (US)/Seamless Chex (Auth.net)",
          "BTE Hearing CIC Pro (Facebook)/Stripe (Josh)",
          "BTE Hearing CIC Pro (Native) - UK/Stripe (Josh)",
          "BTE Hearing CIC Pro (Native) Original/Stripe (Josh)",
          "MozzGuard/Stripe (Josh)",
          "BTE Hearing CIC Pro (Facebook)",
          "BTE Hearing CIC Pro (Native) - AU",
          "BTE Hearing CIC Pro (Native) - UK",
          "BTE Hearing CIC Pro (Native) Original",
          "BTE Hearing CIC Pro - UK",
          "MozzGuard",
          "MozzGuard - CA",
          "MozzGuard Orange (US)",
          "OptiFuel",
          "OptiFuel | AU"
         ],
         "labels": [
          "ADYEN AU",
          "ADYEN AU",
          "ADYEN AU",
          "ADYEN AU",
          "Adyen US",
          "Adyen US",
          "Adyen US",
          "Adyen US",
          "Adyen US",
          "Adyen US",
          "Adyen US",
          "Adyen US",
          "EMS Josh (NMI)",
          "EMS Josh (NMI)",
          "EMS Josh (NMI)",
          "EMS Josh (NMI)",
          "EMS Josh (NMI)",
          "EMS Josh (NMI)",
          "Finix Josh (Auth.net)",
          "NMI (EMS)",
          "NMI (EMS)",
          "Payarc Josh (NMI)",
          "Payarc Josh (NMI)",
          "Paypal USD (Josh)",
          "Quantum (NMI)",
          "Quantum PremHealth (NMI)",
          "Seamless Chex (Auth.net)",
          "Seamless Chex (Auth.net)",
          "Stripe (Josh)",
          "Stripe (Josh)",
          "Stripe (Josh)",
          "Stripe (Josh)",
          "BTE Hearing CIC Pro (Facebook)",
          "BTE Hearing CIC Pro (Native) - AU",
          "BTE Hearing CIC Pro (Native) - UK",
          "BTE Hearing CIC Pro (Native) Original",
          "BTE Hearing CIC Pro - UK",
          "MozzGuard",
          "MozzGuard - CA",
          "MozzGuard Orange (US)",
          "OptiFuel",
          "OptiFuel | AU"
         ],
         "marker": {
          "coloraxis": "coloraxis",
          "colors": [
           0.7482161060142711,
           0.41384221019652523,
           0.4708171206225681,
           0.7547400611620795,
           0.6715277777777777,
           0.5238095238095238,
           0.5291581108829568,
           0.47520661157024796,
           0.7632075471698113,
           0.753493013972056,
           0.8238341968911918,
           0.6511627906976745,
           0.5295358649789029,
           0.6148753894080997,
           0.589626239511823,
           0.6677709417889257,
           0.5722543352601156,
           0.6182786157941438,
           0.9030732860520093,
           1,
           0.5802816901408451,
           0.6747503566333809,
           0.5707744107744108,
           1,
           0.5447761194029851,
           0.4198645598194131,
           0.7987804878048781,
           0.5989010989010989,
           0.6121141525917297,
           0.4342105263157895,
           0.630965005302227,
           0.6877323420074349,
           0.6123900798902004,
           0.7432824503095697,
           0.486721454564886,
           0.7017315301183836,
           0.47187316969993875,
           0.681174154234323,
           0.678172881508204,
           0.6485168714998908,
           0.5946262920758318,
           0.7547400611620795
          ]
         },
         "name": "",
         "parents": [
          "BTE Hearing CIC Pro (Native) - AU",
          "BTE Hearing CIC Pro (Native) - UK",
          "BTE Hearing CIC Pro - UK",
          "OptiFuel | AU",
          "BTE Hearing CIC Pro (Facebook)",
          "BTE Hearing CIC Pro (Native) - AU",
          "BTE Hearing CIC Pro (Native) - UK",
          "BTE Hearing CIC Pro - UK",
          "MozzGuard",
          "MozzGuard - CA",
          "MozzGuard Orange (US)",
          "OptiFuel",
          "BTE Hearing CIC Pro (Facebook)",
          "BTE Hearing CIC Pro (Native) Original",
          "MozzGuard",
          "MozzGuard - CA",
          "MozzGuard Orange (US)",
          "OptiFuel",
          "BTE Hearing CIC Pro (Native) Original",
          "MozzGuard",
          "OptiFuel",
          "MozzGuard - CA",
          "OptiFuel",
          "MozzGuard Orange (US)",
          "MozzGuard - CA",
          "BTE Hearing CIC Pro (Facebook)",
          "BTE Hearing CIC Pro (Native) Original",
          "MozzGuard Orange (US)",
          "BTE Hearing CIC Pro (Facebook)",
          "BTE Hearing CIC Pro (Native) - UK",
          "BTE Hearing CIC Pro (Native) Original",
          "MozzGuard",
          "",
          "",
          "",
          "",
          "",
          "",
          "",
          "",
          "",
          ""
         ],
         "type": "treemap",
         "values": [
          1468,
          1453,
          363,
          2468,
          967,
          33,
          2577,
          115,
          809,
          755,
          159,
          644,
          251,
          1579,
          773,
          1411,
          396,
          3484,
          764,
          10,
          1236,
          946,
          4238,
          22,
          292,
          186,
          262,
          109,
          2102,
          66,
          595,
          185,
          3506,
          1501,
          4096,
          3200,
          478,
          1777,
          3404,
          686,
          9602,
          2468
         ]
        }
       ],
       "layout": {
        "coloraxis": {
         "colorbar": {
          "title": {
           "text": "auth_rate"
          }
         },
         "colorscale": [
          [
           0,
           "rgb(247,251,255)"
          ],
          [
           0.125,
           "rgb(222,235,247)"
          ],
          [
           0.25,
           "rgb(198,219,239)"
          ],
          [
           0.375,
           "rgb(158,202,225)"
          ],
          [
           0.5,
           "rgb(107,174,214)"
          ],
          [
           0.625,
           "rgb(66,146,198)"
          ],
          [
           0.75,
           "rgb(33,113,181)"
          ],
          [
           0.875,
           "rgb(8,81,156)"
          ],
          [
           1,
           "rgb(8,48,107)"
          ]
         ]
        },
        "legend": {
         "tracegroupgap": 0
        },
        "margin": {
         "b": 25,
         "l": 25,
         "r": 25,
         "t": 50
        },
        "template": {
         "data": {
          "bar": [
           {
            "error_x": {
             "color": "#2a3f5f"
            },
            "error_y": {
             "color": "#2a3f5f"
            },
            "marker": {
             "line": {
              "color": "#E5ECF6",
              "width": 0.5
             },
             "pattern": {
              "fillmode": "overlay",
              "size": 10,
              "solidity": 0.2
             }
            },
            "type": "bar"
           }
          ],
          "barpolar": [
           {
            "marker": {
             "line": {
              "color": "#E5ECF6",
              "width": 0.5
             },
             "pattern": {
              "fillmode": "overlay",
              "size": 10,
              "solidity": 0.2
             }
            },
            "type": "barpolar"
           }
          ],
          "carpet": [
           {
            "aaxis": {
             "endlinecolor": "#2a3f5f",
             "gridcolor": "white",
             "linecolor": "white",
             "minorgridcolor": "white",
             "startlinecolor": "#2a3f5f"
            },
            "baxis": {
             "endlinecolor": "#2a3f5f",
             "gridcolor": "white",
             "linecolor": "white",
             "minorgridcolor": "white",
             "startlinecolor": "#2a3f5f"
            },
            "type": "carpet"
           }
          ],
          "choropleth": [
           {
            "colorbar": {
             "outlinewidth": 0,
             "ticks": ""
            },
            "type": "choropleth"
           }
          ],
          "contour": [
           {
            "colorbar": {
             "outlinewidth": 0,
             "ticks": ""
            },
            "colorscale": [
             [
              0,
              "#0d0887"
             ],
             [
              0.1111111111111111,
              "#46039f"
             ],
             [
              0.2222222222222222,
              "#7201a8"
             ],
             [
              0.3333333333333333,
              "#9c179e"
             ],
             [
              0.4444444444444444,
              "#bd3786"
             ],
             [
              0.5555555555555556,
              "#d8576b"
             ],
             [
              0.6666666666666666,
              "#ed7953"
             ],
             [
              0.7777777777777778,
              "#fb9f3a"
             ],
             [
              0.8888888888888888,
              "#fdca26"
             ],
             [
              1,
              "#f0f921"
             ]
            ],
            "type": "contour"
           }
          ],
          "contourcarpet": [
           {
            "colorbar": {
             "outlinewidth": 0,
             "ticks": ""
            },
            "type": "contourcarpet"
           }
          ],
          "heatmap": [
           {
            "colorbar": {
             "outlinewidth": 0,
             "ticks": ""
            },
            "colorscale": [
             [
              0,
              "#0d0887"
             ],
             [
              0.1111111111111111,
              "#46039f"
             ],
             [
              0.2222222222222222,
              "#7201a8"
             ],
             [
              0.3333333333333333,
              "#9c179e"
             ],
             [
              0.4444444444444444,
              "#bd3786"
             ],
             [
              0.5555555555555556,
              "#d8576b"
             ],
             [
              0.6666666666666666,
              "#ed7953"
             ],
             [
              0.7777777777777778,
              "#fb9f3a"
             ],
             [
              0.8888888888888888,
              "#fdca26"
             ],
             [
              1,
              "#f0f921"
             ]
            ],
            "type": "heatmap"
           }
          ],
          "heatmapgl": [
           {
            "colorbar": {
             "outlinewidth": 0,
             "ticks": ""
            },
            "colorscale": [
             [
              0,
              "#0d0887"
             ],
             [
              0.1111111111111111,
              "#46039f"
             ],
             [
              0.2222222222222222,
              "#7201a8"
             ],
             [
              0.3333333333333333,
              "#9c179e"
             ],
             [
              0.4444444444444444,
              "#bd3786"
             ],
             [
              0.5555555555555556,
              "#d8576b"
             ],
             [
              0.6666666666666666,
              "#ed7953"
             ],
             [
              0.7777777777777778,
              "#fb9f3a"
             ],
             [
              0.8888888888888888,
              "#fdca26"
             ],
             [
              1,
              "#f0f921"
             ]
            ],
            "type": "heatmapgl"
           }
          ],
          "histogram": [
           {
            "marker": {
             "pattern": {
              "fillmode": "overlay",
              "size": 10,
              "solidity": 0.2
             }
            },
            "type": "histogram"
           }
          ],
          "histogram2d": [
           {
            "colorbar": {
             "outlinewidth": 0,
             "ticks": ""
            },
            "colorscale": [
             [
              0,
              "#0d0887"
             ],
             [
              0.1111111111111111,
              "#46039f"
             ],
             [
              0.2222222222222222,
              "#7201a8"
             ],
             [
              0.3333333333333333,
              "#9c179e"
             ],
             [
              0.4444444444444444,
              "#bd3786"
             ],
             [
              0.5555555555555556,
              "#d8576b"
             ],
             [
              0.6666666666666666,
              "#ed7953"
             ],
             [
              0.7777777777777778,
              "#fb9f3a"
             ],
             [
              0.8888888888888888,
              "#fdca26"
             ],
             [
              1,
              "#f0f921"
             ]
            ],
            "type": "histogram2d"
           }
          ],
          "histogram2dcontour": [
           {
            "colorbar": {
             "outlinewidth": 0,
             "ticks": ""
            },
            "colorscale": [
             [
              0,
              "#0d0887"
             ],
             [
              0.1111111111111111,
              "#46039f"
             ],
             [
              0.2222222222222222,
              "#7201a8"
             ],
             [
              0.3333333333333333,
              "#9c179e"
             ],
             [
              0.4444444444444444,
              "#bd3786"
             ],
             [
              0.5555555555555556,
              "#d8576b"
             ],
             [
              0.6666666666666666,
              "#ed7953"
             ],
             [
              0.7777777777777778,
              "#fb9f3a"
             ],
             [
              0.8888888888888888,
              "#fdca26"
             ],
             [
              1,
              "#f0f921"
             ]
            ],
            "type": "histogram2dcontour"
           }
          ],
          "mesh3d": [
           {
            "colorbar": {
             "outlinewidth": 0,
             "ticks": ""
            },
            "type": "mesh3d"
           }
          ],
          "parcoords": [
           {
            "line": {
             "colorbar": {
              "outlinewidth": 0,
              "ticks": ""
             }
            },
            "type": "parcoords"
           }
          ],
          "pie": [
           {
            "automargin": true,
            "type": "pie"
           }
          ],
          "scatter": [
           {
            "fillpattern": {
             "fillmode": "overlay",
             "size": 10,
             "solidity": 0.2
            },
            "type": "scatter"
           }
          ],
          "scatter3d": [
           {
            "line": {
             "colorbar": {
              "outlinewidth": 0,
              "ticks": ""
             }
            },
            "marker": {
             "colorbar": {
              "outlinewidth": 0,
              "ticks": ""
             }
            },
            "type": "scatter3d"
           }
          ],
          "scattercarpet": [
           {
            "marker": {
             "colorbar": {
              "outlinewidth": 0,
              "ticks": ""
             }
            },
            "type": "scattercarpet"
           }
          ],
          "scattergeo": [
           {
            "marker": {
             "colorbar": {
              "outlinewidth": 0,
              "ticks": ""
             }
            },
            "type": "scattergeo"
           }
          ],
          "scattergl": [
           {
            "marker": {
             "colorbar": {
              "outlinewidth": 0,
              "ticks": ""
             }
            },
            "type": "scattergl"
           }
          ],
          "scattermapbox": [
           {
            "marker": {
             "colorbar": {
              "outlinewidth": 0,
              "ticks": ""
             }
            },
            "type": "scattermapbox"
           }
          ],
          "scatterpolar": [
           {
            "marker": {
             "colorbar": {
              "outlinewidth": 0,
              "ticks": ""
             }
            },
            "type": "scatterpolar"
           }
          ],
          "scatterpolargl": [
           {
            "marker": {
             "colorbar": {
              "outlinewidth": 0,
              "ticks": ""
             }
            },
            "type": "scatterpolargl"
           }
          ],
          "scatterternary": [
           {
            "marker": {
             "colorbar": {
              "outlinewidth": 0,
              "ticks": ""
             }
            },
            "type": "scatterternary"
           }
          ],
          "surface": [
           {
            "colorbar": {
             "outlinewidth": 0,
             "ticks": ""
            },
            "colorscale": [
             [
              0,
              "#0d0887"
             ],
             [
              0.1111111111111111,
              "#46039f"
             ],
             [
              0.2222222222222222,
              "#7201a8"
             ],
             [
              0.3333333333333333,
              "#9c179e"
             ],
             [
              0.4444444444444444,
              "#bd3786"
             ],
             [
              0.5555555555555556,
              "#d8576b"
             ],
             [
              0.6666666666666666,
              "#ed7953"
             ],
             [
              0.7777777777777778,
              "#fb9f3a"
             ],
             [
              0.8888888888888888,
              "#fdca26"
             ],
             [
              1,
              "#f0f921"
             ]
            ],
            "type": "surface"
           }
          ],
          "table": [
           {
            "cells": {
             "fill": {
              "color": "#EBF0F8"
             },
             "line": {
              "color": "white"
             }
            },
            "header": {
             "fill": {
              "color": "#C8D4E3"
             },
             "line": {
              "color": "white"
             }
            },
            "type": "table"
           }
          ]
         },
         "layout": {
          "annotationdefaults": {
           "arrowcolor": "#2a3f5f",
           "arrowhead": 0,
           "arrowwidth": 1
          },
          "autotypenumbers": "strict",
          "coloraxis": {
           "colorbar": {
            "outlinewidth": 0,
            "ticks": ""
           }
          },
          "colorscale": {
           "diverging": [
            [
             0,
             "#8e0152"
            ],
            [
             0.1,
             "#c51b7d"
            ],
            [
             0.2,
             "#de77ae"
            ],
            [
             0.3,
             "#f1b6da"
            ],
            [
             0.4,
             "#fde0ef"
            ],
            [
             0.5,
             "#f7f7f7"
            ],
            [
             0.6,
             "#e6f5d0"
            ],
            [
             0.7,
             "#b8e186"
            ],
            [
             0.8,
             "#7fbc41"
            ],
            [
             0.9,
             "#4d9221"
            ],
            [
             1,
             "#276419"
            ]
           ],
           "sequential": [
            [
             0,
             "#0d0887"
            ],
            [
             0.1111111111111111,
             "#46039f"
            ],
            [
             0.2222222222222222,
             "#7201a8"
            ],
            [
             0.3333333333333333,
             "#9c179e"
            ],
            [
             0.4444444444444444,
             "#bd3786"
            ],
            [
             0.5555555555555556,
             "#d8576b"
            ],
            [
             0.6666666666666666,
             "#ed7953"
            ],
            [
             0.7777777777777778,
             "#fb9f3a"
            ],
            [
             0.8888888888888888,
             "#fdca26"
            ],
            [
             1,
             "#f0f921"
            ]
           ],
           "sequentialminus": [
            [
             0,
             "#0d0887"
            ],
            [
             0.1111111111111111,
             "#46039f"
            ],
            [
             0.2222222222222222,
             "#7201a8"
            ],
            [
             0.3333333333333333,
             "#9c179e"
            ],
            [
             0.4444444444444444,
             "#bd3786"
            ],
            [
             0.5555555555555556,
             "#d8576b"
            ],
            [
             0.6666666666666666,
             "#ed7953"
            ],
            [
             0.7777777777777778,
             "#fb9f3a"
            ],
            [
             0.8888888888888888,
             "#fdca26"
            ],
            [
             1,
             "#f0f921"
            ]
           ]
          },
          "colorway": [
           "#636efa",
           "#EF553B",
           "#00cc96",
           "#ab63fa",
           "#FFA15A",
           "#19d3f3",
           "#FF6692",
           "#B6E880",
           "#FF97FF",
           "#FECB52"
          ],
          "font": {
           "color": "#2a3f5f"
          },
          "geo": {
           "bgcolor": "white",
           "lakecolor": "white",
           "landcolor": "#E5ECF6",
           "showlakes": true,
           "showland": true,
           "subunitcolor": "white"
          },
          "hoverlabel": {
           "align": "left"
          },
          "hovermode": "closest",
          "mapbox": {
           "style": "light"
          },
          "paper_bgcolor": "white",
          "plot_bgcolor": "#E5ECF6",
          "polar": {
           "angularaxis": {
            "gridcolor": "white",
            "linecolor": "white",
            "ticks": ""
           },
           "bgcolor": "#E5ECF6",
           "radialaxis": {
            "gridcolor": "white",
            "linecolor": "white",
            "ticks": ""
           }
          },
          "scene": {
           "xaxis": {
            "backgroundcolor": "#E5ECF6",
            "gridcolor": "white",
            "gridwidth": 2,
            "linecolor": "white",
            "showbackground": true,
            "ticks": "",
            "zerolinecolor": "white"
           },
           "yaxis": {
            "backgroundcolor": "#E5ECF6",
            "gridcolor": "white",
            "gridwidth": 2,
            "linecolor": "white",
            "showbackground": true,
            "ticks": "",
            "zerolinecolor": "white"
           },
           "zaxis": {
            "backgroundcolor": "#E5ECF6",
            "gridcolor": "white",
            "gridwidth": 2,
            "linecolor": "white",
            "showbackground": true,
            "ticks": "",
            "zerolinecolor": "white"
           }
          },
          "shapedefaults": {
           "line": {
            "color": "#2a3f5f"
           }
          },
          "ternary": {
           "aaxis": {
            "gridcolor": "white",
            "linecolor": "white",
            "ticks": ""
           },
           "baxis": {
            "gridcolor": "white",
            "linecolor": "white",
            "ticks": ""
           },
           "bgcolor": "#E5ECF6",
           "caxis": {
            "gridcolor": "white",
            "linecolor": "white",
            "ticks": ""
           }
          },
          "title": {
           "x": 0.05
          },
          "xaxis": {
           "automargin": true,
           "gridcolor": "white",
           "linecolor": "white",
           "ticks": "",
           "title": {
            "standoff": 15
           },
           "zerolinecolor": "white",
           "zerolinewidth": 2
          },
          "yaxis": {
           "automargin": true,
           "gridcolor": "white",
           "linecolor": "white",
           "ticks": "",
           "title": {
            "standoff": 15
           },
           "zerolinecolor": "white",
           "zerolinewidth": 2
          }
         }
        },
        "title": {
         "text": "Success Volume by Merchant and Campaign (Colored by Auth Rate)"
        }
       }
      },
      "image/png": "[encoded data removed]",
      "text/html": [
       "<div>                            <div id=\"3d6f524b-3975-4040-94b3-0ea9f6b6cf9b\" class=\"plotly-graph-div\" style=\"height:525px; width:100%;\"></div>            <script type=\"text/javascript\">                require([\"plotly\"], function(Plotly) {                    window.PLOTLYENV=window.PLOTLYENV || {};                                    if (document.getElementById(\"3d6f524b-3975-4040-94b3-0ea9f6b6cf9b\")) {                    Plotly.newPlot(                        \"3d6f524b-3975-4040-94b3-0ea9f6b6cf9b\",                        [{\"branchvalues\":\"total\",\"customdata\":[[0.7482161060142711],[0.41384221019652523],[0.4708171206225681],[0.7547400611620795],[0.6715277777777777],[0.5238095238095238],[0.5291581108829568],[0.47520661157024796],[0.7632075471698113],[0.753493013972056],[0.8238341968911918],[0.6511627906976745],[0.5295358649789029],[0.6148753894080997],[0.589626239511823],[0.6677709417889257],[0.5722543352601156],[0.6182786157941438],[0.9030732860520093],[1.0],[0.5802816901408451],[0.6747503566333809],[0.5707744107744108],[1.0],[0.5447761194029851],[0.4198645598194131],[0.7987804878048781],[0.5989010989010989],[0.6121141525917297],[0.4342105263157895],[0.630965005302227],[0.6877323420074349],[0.6123900798902004],[0.7432824503095697],[0.486721454564886],[0.7017315301183836],[0.47187316969993875],[0.681174154234323],[0.678172881508204],[0.6485168714998908],[0.5946262920758318],[0.7547400611620795]],\"domain\":{\"x\":[0.0,1.0],\"y\":[0.0,1.0]},\"hovertemplate\":\"labels=%{label}\\u003cbr\\u003eSUCCESS=%{value}\\u003cbr\\u003eparent=%{parent}\\u003cbr\\u003eid=%{id}\\u003cbr\\u003eauth_rate=%{color}\\u003cextra\\u003e\\u003c\\u002fextra\\u003e\",\"ids\":[\"BTE Hearing CIC Pro (Native) - AU\\u002fADYEN AU\",\"BTE Hearing CIC Pro (Native) - UK\\u002fADYEN AU\",\"BTE Hearing CIC Pro - UK\\u002fADYEN AU\",\"OptiFuel | AU\\u002fADYEN AU\",\"BTE Hearing CIC Pro (Facebook)\\u002fAdyen US\",\"BTE Hearing CIC Pro (Native) - AU\\u002fAdyen US\",\"BTE Hearing CIC Pro (Native) - UK\\u002fAdyen US\",\"BTE Hearing CIC Pro - UK\\u002fAdyen US\",\"MozzGuard\\u002fAdyen US\",\"MozzGuard - CA\\u002fAdyen US\",\"MozzGuard Orange (US)\\u002fAdyen US\",\"OptiFuel\\u002fAdyen US\",\"BTE Hearing CIC Pro (Facebook)\\u002fEMS Josh (NMI)\",\"BTE Hearing CIC Pro (Native) Original\\u002fEMS Josh (NMI)\",\"MozzGuard\\u002fEMS Josh (NMI)\",\"MozzGuard - CA\\u002fEMS Josh (NMI)\",\"MozzGuard Orange (US)\\u002fEMS Josh (NMI)\",\"OptiFuel\\u002fEMS Josh (NMI)\",\"BTE Hearing CIC Pro (Native) Original\\u002fFinix Josh (Auth.net)\",\"MozzGuard\\u002fNMI (EMS)\",\"OptiFuel\\u002fNMI (EMS)\",\"MozzGuard - CA\\u002fPayarc Josh (NMI)\",\"OptiFuel\\u002fPayarc Josh (NMI)\",\"MozzGuard Orange (US)\\u002fPaypal USD (Josh)\",\"MozzGuard - CA\\u002fQuantum (NMI)\",\"BTE Hearing CIC Pro (Facebook)\\u002fQuantum PremHealth (NMI)\",\"BTE Hearing CIC Pro (Native) Original\\u002fSeamless Chex (Auth.net)\",\"MozzGuard Orange (US)\\u002fSeamless Chex (Auth.net)\",\"BTE Hearing CIC Pro (Facebook)\\u002fStripe (Josh)\",\"BTE Hearing CIC Pro (Native) - UK\\u002fStripe (Josh)\",\"BTE Hearing CIC Pro (Native) Original\\u002fStripe (Josh)\",\"MozzGuard\\u002fStripe (Josh)\",\"BTE Hearing CIC Pro (Facebook)\",\"BTE Hearing CIC Pro (Native) - AU\",\"BTE Hearing CIC Pro (Native) - UK\",\"BTE Hearing CIC Pro (Native) Original\",\"BTE Hearing CIC Pro - UK\",\"MozzGuard\",\"MozzGuard - CA\",\"MozzGuard Orange (US)\",\"OptiFuel\",\"OptiFuel | AU\"],\"labels\":[\"ADYEN AU\",\"ADYEN AU\",\"ADYEN AU\",\"ADYEN AU\",\"Adyen US\",\"Adyen US\",\"Adyen US\",\"Adyen US\",\"Adyen US\",\"Adyen US\",\"Adyen US\",\"Adyen US\",\"EMS Josh (NMI)\",\"EMS Josh (NMI)\",\"EMS Josh (NMI)\",\"EMS Josh (NMI)\",\"EMS Josh (NMI)\",\"EMS Josh (NMI)\",\"Finix Josh (Auth.net)\",\"NMI (EMS)\",\"NMI (EMS)\",\"Payarc Josh (NMI)\",\"Payarc Josh (NMI)\",\"Paypal USD (Josh)\",\"Quantum (NMI)\",\"Quantum PremHealth (NMI)\",\"Seamless Chex (Auth.net)\",\"Seamless Chex (Auth.net)\",\"Stripe (Josh)\",\"Stripe (Josh)\",\"Stripe (Josh)\",\"Stripe (Josh)\",\"BTE Hearing CIC Pro (Facebook)\",\"BTE Hearing CIC Pro (Native) - AU\",\"BTE Hearing CIC Pro (Native) - UK\",\"BTE Hearing CIC Pro (Native) Original\",\"BTE Hearing CIC Pro - UK\",\"MozzGuard\",\"MozzGuard - CA\",\"MozzGuard Orange (US)\",\"OptiFuel\",\"OptiFuel | AU\"],\"marker\":{\"coloraxis\":\"coloraxis\",\"colors\":[0.7482161060142711,0.41384221019652523,0.4708171206225681,0.7547400611620795,0.6715277777777777,0.5238095238095238,0.5291581108829568,0.47520661157024796,0.7632075471698113,0.753493013972056,0.8238341968911918,0.6511627906976745,0.5295358649789029,0.6148753894080997,0.589626239511823,0.6677709417889257,0.5722543352601156,0.6182786157941438,0.9030732860520093,1.0,0.5802816901408451,0.6747503566333809,0.5707744107744108,1.0,0.5447761194029851,0.4198645598194131,0.7987804878048781,0.5989010989010989,0.6121141525917297,0.4342105263157895,0.630965005302227,0.6877323420074349,0.6123900798902004,0.7432824503095697,0.486721454564886,0.7017315301183836,0.47187316969993875,0.681174154234323,0.678172881508204,0.6485168714998908,0.5946262920758318,0.7547400611620795]},\"name\":\"\",\"parents\":[\"BTE Hearing CIC Pro (Native) - AU\",\"BTE Hearing CIC Pro (Native) - UK\",\"BTE Hearing CIC Pro - UK\",\"OptiFuel | AU\",\"BTE Hearing CIC Pro (Facebook)\",\"BTE Hearing CIC Pro (Native) - AU\",\"BTE Hearing CIC Pro (Native) - UK\",\"BTE Hearing CIC Pro - UK\",\"MozzGuard\",\"MozzGuard - CA\",\"MozzGuard Orange (US)\",\"OptiFuel\",\"BTE Hearing CIC Pro (Facebook)\",\"BTE Hearing CIC Pro (Native) Original\",\"MozzGuard\",\"MozzGuard - CA\",\"MozzGuard Orange (US)\",\"OptiFuel\",\"BTE Hearing CIC Pro (Native) Original\",\"MozzGuard\",\"OptiFuel\",\"MozzGuard - CA\",\"OptiFuel\",\"MozzGuard Orange (US)\",\"MozzGuard - CA\",\"BTE Hearing CIC Pro (Facebook)\",\"BTE Hearing CIC Pro (Native) Original\",\"MozzGuard Orange (US)\",\"BTE Hearing CIC Pro (Facebook)\",\"BTE Hearing CIC Pro (Native) - UK\",\"BTE Hearing CIC Pro (Native) Original\",\"MozzGuard\",\"\",\"\",\"\",\"\",\"\",\"\",\"\",\"\",\"\",\"\"],\"values\":[1468,1453,363,2468,967,33,2577,115,809,755,159,644,251,1579,773,1411,396,3484,764,10,1236,946,4238,22,292,186,262,109,2102,66,595,185,3506,1501,4096,3200,478,1777,3404,686,9602,2468],\"type\":\"treemap\"}],                        {\"template\":{\"data\":{\"histogram2dcontour\":[{\"type\":\"histogram2dcontour\",\"colorbar\":{\"outlinewidth\":0,\"ticks\":\"\"},\"colorscale\":[[0.0,\"#0d0887\"],[0.1111111111111111,\"#46039f\"],[0.2222222222222222,\"#7201a8\"],[0.3333333333333333,\"#9c179e\"],[0.4444444444444444,\"#bd3786\"],[0.5555555555555556,\"#d8576b\"],[0.6666666666666666,\"#ed7953\"],[0.7777777777777778,\"#fb9f3a\"],[0.8888888888888888,\"#fdca26\"],[1.0,\"#f0f921\"]]}],\"choropleth\":[{\"type\":\"choropleth\",\"colorbar\":{\"outlinewidth\":0,\"ticks\":\"\"}}],\"histogram2d\":[{\"type\":\"histogram2d\",\"colorbar\":{\"outlinewidth\":0,\"ticks\":\"\"},\"colorscale\":[[0.0,\"#0d0887\"],[0.1111111111111111,\"#46039f\"],[0.2222222222222222,\"#7201a8\"],[0.3333333333333333,\"#9c179e\"],[0.4444444444444444,\"#bd3786\"],[0.5555555555555556,\"#d8576b\"],[0.6666666666666666,\"#ed7953\"],[0.7777777777777778,\"#fb9f3a\"],[0.8888888888888888,\"#fdca26\"],[1.0,\"#f0f921\"]]}],\"heatmap\":[{\"type\":\"heatmap\",\"colorbar\":{\"outlinewidth\":0,\"ticks\":\"\"},\"colorscale\":[[0.0,\"#0d0887\"],[0.1111111111111111,\"#46039f\"],[0.2222222222222222,\"#7201a8\"],[0.3333333333333333,\"#9c179e\"],[0.4444444444444444,\"#bd3786\"],[0.5555555555555556,\"#d8576b\"],[0.6666666666666666,\"#ed7953\"],[0.7777777777777778,\"#fb9f3a\"],[0.8888888888888888,\"#fdca26\"],[1.0,\"#f0f921\"]]}],\"heatmapgl\":[{\"type\":\"heatmapgl\",\"colorbar\":{\"outlinewidth\":0,\"ticks\":\"\"},\"colorscale\":[[0.0,\"#0d0887\"],[0.1111111111111111,\"#46039f\"],[0.2222222222222222,\"#7201a8\"],[0.3333333333333333,\"#9c179e\"],[0.4444444444444444,\"#bd3786\"],[0.5555555555555556,\"#d8576b\"],[0.6666666666666666,\"#ed7953\"],[0.7777777777777778,\"#fb9f3a\"],[0.8888888888888888,\"#fdca26\"],[1.0,\"#f0f921\"]]}],\"contourcarpet\":[{\"type\":\"contourcarpet\",\"colorbar\":{\"outlinewidth\":0,\"ticks\":\"\"}}],\"contour\":[{\"type\":\"contour\",\"colorbar\":{\"outlinewidth\":0,\"ticks\":\"\"},\"colorscale\":[[0.0,\"#0d0887\"],[0.1111111111111111,\"#46039f\"],[0.2222222222222222,\"#7201a8\"],[0.3333333333333333,\"#9c179e\"],[0.4444444444444444,\"#bd3786\"],[0.5555555555555556,\"#d8576b\"],[0.6666666666666666,\"#ed7953\"],[0.7777777777777778,\"#fb9f3a\"],[0.8888888888888888,\"#fdca26\"],[1.0,\"#f0f921\"]]}],\"surface\":[{\"type\":\"surface\",\"colorbar\":{\"outlinewidth\":0,\"ticks\":\"\"},\"colorscale\":[[0.0,\"#0d0887\"],[0.1111111111111111,\"#46039f\"],[0.2222222222222222,\"#7201a8\"],[0.3333333333333333,\"#9c179e\"],[0.4444444444444444,\"#bd3786\"],[0.5555555555555556,\"#d8576b\"],[0.6666666666666666,\"#ed7953\"],[0.7777777777777778,\"#fb9f3a\"],[0.8888888888888888,\"#fdca26\"],[1.0,\"#f0f921\"]]}],\"mesh3d\":[{\"type\":\"mesh3d\",\"colorbar\":{\"outlinewidth\":0,\"ticks\":\"\"}}],\"scatter\":[{\"fillpattern\":{\"fillmode\":\"overlay\",\"size\":10,\"solidity\":0.2},\"type\":\"scatter\"}],\"parcoords\":[{\"type\":\"parcoords\",\"line\":{\"colorbar\":{\"outlinewidth\":0,\"ticks\":\"\"}}}],\"scatterpolargl\":[{\"type\":\"scatterpolargl\",\"marker\":{\"colorbar\":{\"outlinewidth\":0,\"ticks\":\"\"}}}],\"bar\":[{\"error_x\":{\"color\":\"#2a3f5f\"},\"error_y\":{\"color\":\"#2a3f5f\"},\"marker\":{\"line\":{\"color\":\"#E5ECF6\",\"width\":0.5},\"pattern\":{\"fillmode\":\"overlay\",\"size\":10,\"solidity\":0.2}},\"type\":\"bar\"}],\"scattergeo\":[{\"type\":\"scattergeo\",\"marker\":{\"colorbar\":{\"outlinewidth\":0,\"ticks\":\"\"}}}],\"scatterpolar\":[{\"type\":\"scatterpolar\",\"marker\":{\"colorbar\":{\"outlinewidth\":0,\"ticks\":\"\"}}}],\"histogram\":[{\"marker\":{\"pattern\":{\"fillmode\":\"overlay\",\"size\":10,\"solidity\":0.2}},\"type\":\"histogram\"}],\"scattergl\":[{\"type\":\"scattergl\",\"marker\":{\"colorbar\":{\"outlinewidth\":0,\"ticks\":\"\"}}}],\"scatter3d\":[{\"type\":\"scatter3d\",\"line\":{\"colorbar\":{\"outlinewidth\":0,\"ticks\":\"\"}},\"marker\":{\"colorbar\":{\"outlinewidth\":0,\"ticks\":\"\"}}}],\"scattermapbox\":[{\"type\":\"scattermapbox\",\"marker\":{\"colorbar\":{\"outlinewidth\":0,\"ticks\":\"\"}}}],\"scatterternary\":[{\"type\":\"scatterternary\",\"marker\":{\"colorbar\":{\"outlinewidth\":0,\"ticks\":\"\"}}}],\"scattercarpet\":[{\"type\":\"scattercarpet\",\"marker\":{\"colorbar\":{\"outlinewidth\":0,\"ticks\":\"\"}}}],\"carpet\":[{\"aaxis\":{\"endlinecolor\":\"#2a3f5f\",\"gridcolor\":\"white\",\"linecolor\":\"white\",\"minorgridcolor\":\"white\",\"startlinecolor\":\"#2a3f5f\"},\"baxis\":{\"endlinecolor\":\"#2a3f5f\",\"gridcolor\":\"white\",\"linecolor\":\"white\",\"minorgridcolor\":\"white\",\"startlinecolor\":\"#2a3f5f\"},\"type\":\"carpet\"}],\"table\":[{\"cells\":{\"fill\":{\"color\":\"#EBF0F8\"},\"line\":{\"color\":\"white\"}},\"header\":{\"fill\":{\"color\":\"#C8D4E3\"},\"line\":{\"color\":\"white\"}},\"type\":\"table\"}],\"barpolar\":[{\"marker\":{\"line\":{\"color\":\"#E5ECF6\",\"width\":0.5},\"pattern\":{\"fillmode\":\"overlay\",\"size\":10,\"solidity\":0.2}},\"type\":\"barpolar\"}],\"pie\":[{\"automargin\":true,\"type\":\"pie\"}]},\"layout\":{\"autotypenumbers\":\"strict\",\"colorway\":[\"#636efa\",\"#EF553B\",\"#00cc96\",\"#ab63fa\",\"#FFA15A\",\"#19d3f3\",\"#FF6692\",\"#B6E880\",\"#FF97FF\",\"#FECB52\"],\"font\":{\"color\":\"#2a3f5f\"},\"hovermode\":\"closest\",\"hoverlabel\":{\"align\":\"left\"},\"paper_bgcolor\":\"white\",\"plot_bgcolor\":\"#E5ECF6\",\"polar\":{\"bgcolor\":\"#E5ECF6\",\"angularaxis\":{\"gridcolor\":\"white\",\"linecolor\":\"white\",\"ticks\":\"\"},\"radialaxis\":{\"gridcolor\":\"white\",\"linecolor\":\"white\",\"ticks\":\"\"}},\"ternary\":{\"bgcolor\":\"#E5ECF6\",\"aaxis\":{\"gridcolor\":\"white\",\"linecolor\":\"white\",\"ticks\":\"\"},\"baxis\":{\"gridcolor\":\"white\",\"linecolor\":\"white\",\"ticks\":\"\"},\"caxis\":{\"gridcolor\":\"white\",\"linecolor\":\"white\",\"ticks\":\"\"}},\"coloraxis\":{\"colorbar\":{\"outlinewidth\":0,\"ticks\":\"\"}},\"colorscale\":{\"sequential\":[[0.0,\"#0d0887\"],[0.1111111111111111,\"#46039f\"],[0.2222222222222222,\"#7201a8\"],[0.3333333333333333,\"#9c179e\"],[0.4444444444444444,\"#bd3786\"],[0.5555555555555556,\"#d8576b\"],[0.6666666666666666,\"#ed7953\"],[0.7777777777777778,\"#fb9f3a\"],[0.8888888888888888,\"#fdca26\"],[1.0,\"#f0f921\"]],\"sequentialminus\":[[0.0,\"#0d0887\"],[0.1111111111111111,\"#46039f\"],[0.2222222222222222,\"#7201a8\"],[0.3333333333333333,\"#9c179e\"],[0.4444444444444444,\"#bd3786\"],[0.5555555555555556,\"#d8576b\"],[0.6666666666666666,\"#ed7953\"],[0.7777777777777778,\"#fb9f3a\"],[0.8888888888888888,\"#fdca26\"],[1.0,\"#f0f921\"]],\"diverging\":[[0,\"#8e0152\"],[0.1,\"#c51b7d\"],[0.2,\"#de77ae\"],[0.3,\"#f1b6da\"],[0.4,\"#fde0ef\"],[0.5,\"#f7f7f7\"],[0.6,\"#e6f5d0\"],[0.7,\"#b8e186\"],[0.8,\"#7fbc41\"],[0.9,\"#4d9221\"],[1,\"#276419\"]]},\"xaxis\":{\"gridcolor\":\"white\",\"linecolor\":\"white\",\"ticks\":\"\",\"title\":{\"standoff\":15},\"zerolinecolor\":\"white\",\"automargin\":true,\"zerolinewidth\":2},\"yaxis\":{\"gridcolor\":\"white\",\"linecolor\":\"white\",\"ticks\":\"\",\"title\":{\"standoff\":15},\"zerolinecolor\":\"white\",\"automargin\":true,\"zerolinewidth\":2},\"scene\":{\"xaxis\":{\"backgroundcolor\":\"#E5ECF6\",\"gridcolor\":\"white\",\"linecolor\":\"white\",\"showbackground\":true,\"ticks\":\"\",\"zerolinecolor\":\"white\",\"gridwidth\":2},\"yaxis\":{\"backgroundcolor\":\"#E5ECF6\",\"gridcolor\":\"white\",\"linecolor\":\"white\",\"showbackground\":true,\"ticks\":\"\",\"zerolinecolor\":\"white\",\"gridwidth\":2},\"zaxis\":{\"backgroundcolor\":\"#E5ECF6\",\"gridcolor\":\"white\",\"linecolor\":\"white\",\"showbackground\":true,\"ticks\":\"\",\"zerolinecolor\":\"white\",\"gridwidth\":2}},\"shapedefaults\":{\"line\":{\"color\":\"#2a3f5f\"}},\"annotationdefaults\":{\"arrowcolor\":\"#2a3f5f\",\"arrowhead\":0,\"arrowwidth\":1},\"geo\":{\"bgcolor\":\"white\",\"landcolor\":\"#E5ECF6\",\"subunitcolor\":\"white\",\"showland\":true,\"showlakes\":true,\"lakecolor\":\"white\"},\"title\":{\"x\":0.05},\"mapbox\":{\"style\":\"light\"}}},\"coloraxis\":{\"colorbar\":{\"title\":{\"text\":\"auth_rate\"}},\"colorscale\":[[0.0,\"rgb(247,251,255)\"],[0.125,\"rgb(222,235,247)\"],[0.25,\"rgb(198,219,239)\"],[0.375,\"rgb(158,202,225)\"],[0.5,\"rgb(107,174,214)\"],[0.625,\"rgb(66,146,198)\"],[0.75,\"rgb(33,113,181)\"],[0.875,\"rgb(8,81,156)\"],[1.0,\"rgb(8,48,107)\"]]},\"legend\":{\"tracegroupgap\":0},\"title\":{\"text\":\"Success Volume by Merchant and Campaign (Colored by Auth Rate)\"},\"margin\":{\"t\":50,\"l\":25,\"r\":25,\"b\":25}},                        {\"responsive\": true}                    ).then(function(){\n",
       "                            \n",
       "var gd = document.getElementById('3d6f524b-3975-4040-94b3-0ea9f6b6cf9b');\n",
       "var x = new MutationObserver(function (mutations, observer) {{\n",
       "        var display = window.getComputedStyle(gd).display;\n",
       "        if (!display || display === 'none') {{\n",
       "            console.log([gd, 'removed!']);\n",
       "            Plotly.purge(gd);\n",
       "            observer.disconnect();\n",
       "        }}\n",
       "}});\n",
       "\n",
       "// Listen for the removal of the full notebook cells\n",
       "var notebookContainer = gd.closest('#notebook-container');\n",
       "if (notebookContainer) {{\n",
       "    x.observe(notebookContainer, {childList: true});\n",
       "}}\n",
       "\n",
       "// Listen for the clearing of the current output cell\n",
       "var outputEl = gd.closest('.output');\n",
       "if (outputEl) {{\n",
       "    x.observe(outputEl, {childList: true});\n",
       "}}\n",
       "\n",
       "                        })                };                });            </script>        </div>"
      ]
     },
     "metadata": {},
     "output_type": "display_data"
    }
   ],
   "source": [
    "fig = px.treemap(\n",
    "    top_merchants,\n",
    "    path=['campaignName', 'merchant'],\n",
    "    values='SUCCESS',\n",
    "    color='auth_rate',\n",
    "    color_continuous_scale='Blues',\n",
    "    title='Success Volume by Merchant and Campaign (Colored by Auth Rate)',\n",
    ")\n",
    "\n",
    "fig.update_layout(margin=dict(t=50, l=25, r=25, b=25))\n",
    "fig.show()\n"
   ]
  },
  {
   "cell_type": "code",
   "execution_count": null,
   "id": "89a2dc32-bb4c-4c24-8008-3044efe87f51",
   "metadata": {},
   "outputs": [],
   "source": []
  }
 ],
 "metadata": {
  "kernelspec": {
   "display_name": "Python 3 (ipykernel)",
   "language": "python",
   "name": "python3"
  },
  "language_info": {
   "codemirror_mode": {
    "name": "ipython",
    "version": 3
   },
   "file_extension": ".py",
   "mimetype": "text/x-python",
   "name": "python",
   "nbconvert_exporter": "python",
   "pygments_lexer": "ipython3",
   "version": "3.9.21"
  }
 },
 "nbformat": 4,
 "nbformat_minor": 5
}
